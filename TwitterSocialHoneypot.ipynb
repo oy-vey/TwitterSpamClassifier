{
 "cells": [
  {
   "cell_type": "markdown",
   "metadata": {},
   "source": [
    "# Twitter Spam Classifier"
   ]
  },
  {
   "cell_type": "code",
   "execution_count": 1,
   "metadata": {
    "collapsed": false
   },
   "outputs": [
    {
     "name": "stderr",
     "output_type": "stream",
     "text": [
      "/Users/daniilskokleenko/anaconda/lib/python3.6/site-packages/sklearn/cross_validation.py:44: DeprecationWarning: This module was deprecated in version 0.18 in favor of the model_selection module into which all the refactored classes and functions are moved. Also note that the interface of the new CV iterators are different from that of this module. This module will be removed in 0.20.\n",
      "  \"This module will be removed in 0.20.\", DeprecationWarning)\n",
      "/Users/daniilskokleenko/anaconda/lib/python3.6/site-packages/sklearn/grid_search.py:43: DeprecationWarning: This module was deprecated in version 0.18 in favor of the model_selection module into which all the refactored classes and functions are moved. This module will be removed in 0.20.\n",
      "  DeprecationWarning)\n"
     ]
    }
   ],
   "source": [
    "import pandas as pd\n",
    "import numpy as np\n",
    "import matplotlib.pyplot as plt\n",
    "import re\n",
    "\n",
    "from sklearn import cross_validation, grid_search, metrics, neighbors, tree, naive_bayes, ensemble, svm, calibration, feature_selection, pipeline ,preprocessing\n",
    "\n",
    "pd.set_option(\"display.max_columns\",60)"
   ]
  },
  {
   "cell_type": "markdown",
   "metadata": {},
   "source": [
    "## Dataset - Social honeypot icwsm 2011"
   ]
  },
  {
   "cell_type": "code",
   "execution_count": 2,
   "metadata": {
    "collapsed": false
   },
   "outputs": [],
   "source": [
    "#Спамеры\n",
    "content_polluters = pd.read_table('./content_polluters.txt', header=None, names = [\n",
    "    \"UserID\",\n",
    "    \"ProfileCreatedAt\",\n",
    "    \"ProfileCollectedAt\",\n",
    "    \"NumberOfFollowings\",\n",
    "    \"NumberOfFollowers\",\n",
    "    \"NumberOfTweets\",\n",
    "    \"LengthOfScreenName\",\n",
    "    \"LengthOfDesc\"])\n",
    "content_polluters_tweets = pd.read_table('./content_polluters_tweets.txt', header=None, names = [\n",
    "    \"UserID\",\n",
    "    \"TweetID\",\n",
    "    \"Tweet\",\n",
    "    \"TweetCreatedAt\"\n",
    "])"
   ]
  },
  {
   "cell_type": "code",
   "execution_count": 3,
   "metadata": {
    "collapsed": false
   },
   "outputs": [],
   "source": [
    "# Пользователь 1:1 Твит (последний по дате публикации)\n",
    "content_polluters = content_polluters.set_index(\"UserID\")\n",
    "content_polluters_tweets_distinct = content_polluters_tweets.sort_values('TweetCreatedAt', ascending = False).groupby(['UserID']).first()"
   ]
  },
  {
   "cell_type": "code",
   "execution_count": 4,
   "metadata": {
    "collapsed": true
   },
   "outputs": [],
   "source": [
    "#Легитимные пользователи\n",
    "legitimate_users = pd.read_table('./legitimate_users.txt', header=None, names = [\n",
    "    \"UserID\",\n",
    "    \"ProfileCreatedAt\",\n",
    "    \"ProfileCollectedAt\",\n",
    "    \"NumberOfFollowings\",\n",
    "    \"NumberOfFollowers\",\n",
    "    \"NumberOfTweets\",\n",
    "    \"LengthOfScreenName\",\n",
    "    \"LengthOfDesc\"])\n",
    "legitimate_users_tweets = pd.read_table('./legitimate_users_tweets.txt', header=None, names = [\n",
    "    \"UserID\",\n",
    "    \"TweetID\",\n",
    "    \"Tweet\",\n",
    "    \"TweetCreatedAt\"\n",
    "])"
   ]
  },
  {
   "cell_type": "code",
   "execution_count": 5,
   "metadata": {
    "collapsed": false
   },
   "outputs": [],
   "source": [
    "# Пользователь 1:1 Твит (последний по дате публикации)\n",
    "legitimate_users = legitimate_users.set_index(\"UserID\")\n",
    "legitimate_users_tweets_distinct = legitimate_users_tweets.sort_values('TweetCreatedAt', ascending = False).groupby(['UserID']).first()"
   ]
  },
  {
   "cell_type": "code",
   "execution_count": 6,
   "metadata": {
    "collapsed": false
   },
   "outputs": [],
   "source": [
    "# List of spamwords\n",
    "with open(\"blacklist.txt\", \"r\", encoding='utf-8') as f:\n",
    "    spamwords=f.read().splitlines()"
   ]
  },
  {
   "cell_type": "code",
   "execution_count": 7,
   "metadata": {
    "collapsed": false
   },
   "outputs": [],
   "source": [
    "spammers = pd.concat([content_polluters, content_polluters_tweets_distinct], axis=1, join='inner')\n",
    "spammers['IsSpammer'] = 1\n",
    "\n",
    "nonspammers =  pd.concat([legitimate_users, legitimate_users_tweets_distinct], axis=1, join='inner')\n",
    "nonspammers['IsSpammer'] = 0\n",
    "\n",
    "data = pd.concat([spammers, nonspammers])"
   ]
  },
  {
   "cell_type": "markdown",
   "metadata": {},
   "source": [
    "## Additional features extraction"
   ]
  },
  {
   "cell_type": "code",
   "execution_count": 8,
   "metadata": {
    "collapsed": false
   },
   "outputs": [],
   "source": [
    "#User features\n",
    "data[\"ProfileCreatedAt\"] = pd.to_datetime(data[\"ProfileCreatedAt\"])\n",
    "data[\"ProfileCollectedAt\"] = pd.to_datetime(data[\"ProfileCollectedAt\"])\n",
    "data[\"AccountAge\"] = (data[\"ProfileCollectedAt\"] - data[\"ProfileCreatedAt\"]).astype('timedelta64[h]')\n",
    "\n",
    "data[\"Flwrs/Flwngs\"] = data[\"NumberOfFollowers\"].divide(data[\"NumberOfFollowings\"], fill_value=True)\n",
    "data[\"Flwrs/Flwngs\"].replace(np.inf, data[\"NumberOfFollowers\"], inplace = True)\n",
    "data.replace(np.nan, 0, inplace = True)\n",
    "\n",
    "data[\"Reputation\"] = data[\"NumberOfFollowers\"].divide((data[\"NumberOfFollowers\"] + data[\"NumberOfFollowings\"]), fill_value=True)\n",
    "data[\"Reputation\"].replace(np.inf, data[\"NumberOfFollowers\"], inplace = True)\n",
    "data.replace(np.nan, 0, inplace = True)\n",
    "\n",
    "data[\"FlwngsIncrease\"] = data[\"NumberOfFollowings\"].divide(data[\"AccountAge\"])\n",
    "data[\"FlwngsIncrease\"].replace(np.inf, data[\"NumberOfFollowings\"], inplace = True)\n",
    "data.replace(np.nan, 0, inplace = True)\n",
    "\n",
    "data[\"TweetsPerDay\"]  = data[\"NumberOfTweets\"].divide((data[\"AccountAge\"] / 24), fill_value=True)\n",
    "data[\"TweetsPerDay\"].replace(np.inf, data[\"NumberOfTweets\"], inplace = True)\n",
    "data.replace(np.nan, 0, inplace = True)\n",
    "\n",
    "data[\"TweetsPerWeek\"]  = data[\"NumberOfTweets\"].divide((data[\"AccountAge\"] / (24 * 7)), fill_value=True)\n",
    "data[\"TweetsPerWeek\"].replace(np.inf, data[\"NumberOfTweets\"], inplace = True)\n",
    "data.replace(np.nan, 0, inplace = True)"
   ]
  },
  {
   "cell_type": "code",
   "execution_count": 9,
   "metadata": {
    "collapsed": false
   },
   "outputs": [],
   "source": [
    "def clean_tweet(row):\n",
    "    tweet = row[\"TweetWordsList\"]\n",
    "    cl_tweet = []\n",
    "    for word in tweet:\n",
    "        m = re.match(\"https://\\S+|http://\\S+|bit.ly\\S+\", word)\n",
    "        if word[0] not in ['@', '#'] and not m:\n",
    "            cl_tweet.append(word)\n",
    "    return ' '.join(cl_tweet)"
   ]
  },
  {
   "cell_type": "code",
   "execution_count": 10,
   "metadata": {
    "collapsed": true
   },
   "outputs": [],
   "source": [
    "def count_urls(row):\n",
    "    tweet = row[\"TweetWordsList\"]\n",
    "    urls = 0\n",
    "    for word in tweet:\n",
    "        m = re.match(\"https://\\S+|http://\\S+|bit.ly\\S+\", word)\n",
    "        if m:\n",
    "            urls += 1\n",
    "    return urls"
   ]
  },
  {
   "cell_type": "code",
   "execution_count": 11,
   "metadata": {
    "collapsed": true
   },
   "outputs": [],
   "source": [
    "def count_hashtags(row):\n",
    "    tweet = row[\"TweetWordsList\"]\n",
    "    hashtags = 0\n",
    "    for word in tweet:\n",
    "        if word[0] == '#':\n",
    "            hashtags += 1\n",
    "    return hashtags"
   ]
  },
  {
   "cell_type": "code",
   "execution_count": 12,
   "metadata": {
    "collapsed": true
   },
   "outputs": [],
   "source": [
    "def count_mentions(row):\n",
    "    tweet = row[\"TweetWordsList\"]\n",
    "    mentions = 0\n",
    "    for word in tweet:\n",
    "        if word[0] == '@':\n",
    "            mentions += 1\n",
    "    return mentions"
   ]
  },
  {
   "cell_type": "code",
   "execution_count": 13,
   "metadata": {
    "collapsed": false
   },
   "outputs": [],
   "source": [
    "def count_uppercases(row):\n",
    "    tweet = row[\"CleanTweetWordsList\"]\n",
    "    uppercases = 0\n",
    "    for word in tweet:\n",
    "        if word[0].isupper():\n",
    "            uppercases += 1\n",
    "    return uppercases"
   ]
  },
  {
   "cell_type": "code",
   "execution_count": 14,
   "metadata": {
    "collapsed": false
   },
   "outputs": [],
   "source": [
    "def longest_word(row):\n",
    "    tweet = row[\"CleanTweetWordsList\"]\n",
    "    maxword = 0\n",
    "    for word in tweet:\n",
    "        if len(word) > maxword:\n",
    "            maxword = len(word)\n",
    "    return maxword"
   ]
  },
  {
   "cell_type": "code",
   "execution_count": 15,
   "metadata": {
    "collapsed": false
   },
   "outputs": [],
   "source": [
    "def average_word(row):\n",
    "    tweet = row[\"CleanTweetWordsList\"]\n",
    "    sum = 0\n",
    "    count = 0\n",
    "    for word in tweet:\n",
    "        sum += len(word)\n",
    "        count += 1\n",
    "    try:\n",
    "        avg = sum/count\n",
    "        return avg\n",
    "    except ZeroDivisionError as e:\n",
    "        return 0"
   ]
  },
  {
   "cell_type": "code",
   "execution_count": 16,
   "metadata": {
    "collapsed": true
   },
   "outputs": [],
   "source": [
    "def count_spamwords(row):\n",
    "    tweet = row[\"CleanTweetWordsList\"]\n",
    "    spam = 0\n",
    "    for word in tweet:\n",
    "        if word in spamwords:\n",
    "            spam += 1\n",
    "    return spam"
   ]
  },
  {
   "cell_type": "code",
   "execution_count": 17,
   "metadata": {
    "collapsed": false
   },
   "outputs": [],
   "source": [
    "data[\"TweetWordsList\"] = data[\"Tweet\"].str.split()\n",
    "data['CleanTweet'] = data.apply(clean_tweet,axis=1)\n",
    "data[\"CleanTweetWordsList\"] = data[\"CleanTweet\"].str.split()"
   ]
  },
  {
   "cell_type": "code",
   "execution_count": 18,
   "metadata": {
    "collapsed": false
   },
   "outputs": [],
   "source": [
    "#Content features\n",
    "data[\"NumberOfWords\"] = data[\"CleanTweet\"].str.count(' ') + 1\n",
    "data[\"NumberOfWords\"].replace(1, 0, inplace = True)\n",
    "\n",
    "data[\"NumberOfSymbols\"] = data[\"Tweet\"].str.len()\n",
    "\n",
    "data[\"NumberOfSpaces\"] = data[\"Tweet\"].str.count(' ')\n",
    "\n",
    "data[\"NumberOfCl\"] = data.apply(count_uppercases,axis=1)\n",
    "\n",
    "data[\"ClperWord\"] = data[\"NumberOfCl\"].divide(data[\"NumberOfWords\"])\n",
    "data[\"ClperWord\"].replace(np.inf, data[\"NumberOfCl\"], inplace = True)\n",
    "data.replace(np.nan, 0, inplace = True)\n",
    "\n",
    "data['MaxWord'] = data.apply(longest_word,axis=1)\n",
    "\n",
    "data['AvgWord'] = data.apply(average_word,axis=1)\n",
    "\n",
    "data[\"NumberOfEm\"] = data[\"Tweet\"].str.count('\\!')\n",
    "\n",
    "data[\"NumberOfQm\"] = data[\"Tweet\"].str.count('\\?')\n",
    "\n",
    "data[\"NumberOfURLs\"] = data.apply(count_urls,axis=1)\n",
    "\n",
    "data[\"URLperWord\"] = data[\"NumberOfURLs\"].divide(data[\"NumberOfWords\"])\n",
    "data[\"URLperWord\"].replace(np.inf, data[\"NumberOfURLs\"], inplace = True)\n",
    "data.replace(np.nan, 0, inplace = True)\n",
    "\n",
    "\n",
    "data[\"NumberOfMentions\"] = data.apply(count_mentions,axis=1)\n",
    "\n",
    "data[\"MentionsperWord\"] = data[\"NumberOfMentions\"].divide(data[\"NumberOfWords\"])\n",
    "data[\"MentionsperWord\"].replace(np.inf, data[\"NumberOfMentions\"], inplace = True)\n",
    "data.replace(np.nan, 0, inplace = True)\n",
    "\n",
    "data[\"NumberOfHashtags\"] = data.apply(count_hashtags,axis=1)\n",
    "\n",
    "data[\"HashtagsperWord\"] = data[\"NumberOfHashtags\"].divide(data[\"NumberOfWords\"])\n",
    "data[\"HashtagsperWord\"].replace(np.inf, data[\"NumberOfHashtags\"], inplace = True)\n",
    "data.replace(np.nan, 0, inplace = True)\n",
    "\n",
    "data[\"NumberOfSpamWords\"] = data.apply(count_spamwords,axis=1)\n",
    "\n",
    "data[\"SpamWordsperWord\"] = data[\"NumberOfSpamWords\"].divide(data[\"NumberOfWords\"])\n",
    "data[\"SpamWordsperWord\"].replace(np.inf, data[\"NumberOfSpamWords\"], inplace = True)\n",
    "data.replace(np.nan, 0, inplace = True)"
   ]
  },
  {
   "cell_type": "code",
   "execution_count": 19,
   "metadata": {
    "collapsed": false
   },
   "outputs": [],
   "source": [
    "# Drop Tweets longer than 140 chars \n",
    "data = data.drop(data[data.NumberOfSymbols > 140].index)"
   ]
  },
  {
   "cell_type": "code",
   "execution_count": 20,
   "metadata": {
    "collapsed": false
   },
   "outputs": [
    {
     "data": {
      "image/png": "[encoded data removed]",
      "text/plain": [
       "<matplotlib.figure.Figure at 0x159f73320>"
      ]
     },
     "metadata": {},
     "output_type": "display_data"
    }
   ],
   "source": [
    "plt.rcParams['figure.figsize'] = (20,7)\n",
    "plt.rcParams['font.size'] = 25   \n",
    "\n",
    "data0=data[data.Reputation > .1]\n",
    "plt.hist([data0[data0.IsSpammer==1].Reputation.values,\n",
    "          data0[data0.IsSpammer==0].Reputation.values],\n",
    "          label = ['Спамеры', 'Легитимные аккаунты'],\n",
    "          alpha = .99)\n",
    "plt.legend()\n",
    "plt.xlabel(\"Репутация\")\n",
    "plt.ylabel(\"Количество пользователей\")\n",
    "plt.show()"
   ]
  },
  {
   "cell_type": "code",
   "execution_count": 21,
   "metadata": {
    "collapsed": false
   },
   "outputs": [],
   "source": [
    "feature_cols = { \"UserFeatures\" : [\n",
    "                                \"LengthOfScreenName\",\n",
    "                                \"LengthOfDesc\",\n",
    "                                \"NumberOfFollowings\",\n",
    "                                \"NumberOfFollowers\",\n",
    "                                \"NumberOfTweets\",\n",
    "                                \"AccountAge\",\n",
    "                                \"Flwrs/Flwngs\",\n",
    "                                \"Reputation\",\n",
    "                                \"FlwngsIncrease\",\n",
    "                                \"TweetsPerDay\",\n",
    "                                \"TweetsPerWeek\"\n",
    "                                ],\n",
    "               \"ContentFeatures\":[ \n",
    "                                  \"NumberOfWords\",\n",
    "                                  \"NumberOfSymbols\",\n",
    "                                  \"NumberOfSpaces\",\n",
    "                                  \"NumberOfCl\",\n",
    "                                  \"ClperWord\",\n",
    "                                  \"MaxWord\",\n",
    "                                  \"AvgWord\",\n",
    "                                  \"NumberOfEm\",\n",
    "                                  \"NumberOfQm\",\n",
    "                                  \"NumberOfURLs\",\n",
    "                                  \"URLperWord\",\n",
    "                                  \"NumberOfHashtags\",\n",
    "                                  \"HashtagsperWord\",\n",
    "                                  \"NumberOfMentions\",\n",
    "                                  \"MentionsperWord\",\n",
    "                                  \"NumberOfSpamWords\",\n",
    "                                  \"SpamWordsperWord\"\n",
    "                                ],\n",
    " \n",
    "               }\n",
    "X = data[feature_cols[\"UserFeatures\"] + feature_cols[\"ContentFeatures\"]]\n",
    "Y = data['IsSpammer']"
   ]
  },
  {
   "cell_type": "code",
   "execution_count": 22,
   "metadata": {
    "collapsed": true
   },
   "outputs": [],
   "source": [
    "#Normalize data\n",
    "X = (X - X.mean())/ ((X.max() - X.min())/2)"
   ]
  },
  {
   "cell_type": "code",
   "execution_count": 23,
   "metadata": {
    "collapsed": false
   },
   "outputs": [],
   "source": [
    "X_train, X_test, Y_train, Y_test = cross_validation.train_test_split(X, Y, train_size=0.4, random_state = 0)"
   ]
  },
  {
   "cell_type": "code",
   "execution_count": 24,
   "metadata": {
    "collapsed": true
   },
   "outputs": [],
   "source": [
    "def print_report(RealValues, PredictedValues ):\n",
    "    print('Accuracy: ' + str(metrics.accuracy_score(RealValues, PredictedValues)))\n",
    "    print('\\n' + 'Classification report:')\n",
    "    print(metrics.classification_report(RealValues, PredictedValues))\n",
    "    print('\\n' + 'Confusion matrix: ')\n",
    "    print(metrics.confusion_matrix(RealValues, PredictedValues))\n",
    "\n",
    "def print_cross_validation(model, X, Y):\n",
    "    scores = cross_validation.cross_val_score(model, X, Y, cv=10, scoring='accuracy')\n",
    "    print(scores)\n",
    "    print('Cross Validation Score: ' + str(scores.mean()))"
   ]
  },
  {
   "cell_type": "code",
   "execution_count": 25,
   "metadata": {
    "collapsed": false
   },
   "outputs": [],
   "source": [
    "cv = cross_validation.StratifiedShuffleSplit(Y_train, n_iter = 10, test_size = 0.2, random_state = 0)"
   ]
  },
  {
   "cell_type": "markdown",
   "metadata": {},
   "source": [
    "## Naive Bayes"
   ]
  },
  {
   "cell_type": "code",
   "execution_count": 26,
   "metadata": {
    "collapsed": false
   },
   "outputs": [
    {
     "data": {
      "text/plain": [
       "dict_keys(['alpha', 'binarize', 'class_prior', 'fit_prior'])"
      ]
     },
     "execution_count": 26,
     "metadata": {},
     "output_type": "execute_result"
    }
   ],
   "source": [
    "bern = naive_bayes.BernoulliNB()\n",
    "bern.get_params().keys()"
   ]
  },
  {
   "cell_type": "code",
   "execution_count": 27,
   "metadata": {
    "collapsed": false
   },
   "outputs": [],
   "source": [
    "parameters_grid = {\n",
    "    'fit_prior' : [True, False],\n",
    "}"
   ]
  },
  {
   "cell_type": "code",
   "execution_count": 28,
   "metadata": {
    "collapsed": true
   },
   "outputs": [],
   "source": [
    "grid_cv = grid_search.GridSearchCV(bern, parameters_grid, scoring = 'accuracy', cv = cv)"
   ]
  },
  {
   "cell_type": "code",
   "execution_count": 29,
   "metadata": {
    "collapsed": false
   },
   "outputs": [
    {
     "name": "stdout",
     "output_type": "stream",
     "text": [
      "CPU times: user 954 ms, sys: 190 ms, total: 1.14 s\n",
      "Wall time: 668 ms\n"
     ]
    },
    {
     "data": {
      "text/plain": [
       "GridSearchCV(cv=StratifiedShuffleSplit(labels=[1 0 ..., 0 1], n_iter=10, test_size=0.2, random_state=0),\n",
       "       error_score='raise',\n",
       "       estimator=BernoulliNB(alpha=1.0, binarize=0.0, class_prior=None, fit_prior=True),\n",
       "       fit_params={}, iid=True, n_jobs=1,\n",
       "       param_grid={'fit_prior': [True, False]}, pre_dispatch='2*n_jobs',\n",
       "       refit=True, scoring='accuracy', verbose=0)"
      ]
     },
     "execution_count": 29,
     "metadata": {},
     "output_type": "execute_result"
    }
   ],
   "source": [
    "%%time\n",
    "grid_cv.fit(X_train, Y_train)"
   ]
  },
  {
   "cell_type": "code",
   "execution_count": 30,
   "metadata": {
    "collapsed": false
   },
   "outputs": [
    {
     "name": "stdout",
     "output_type": "stream",
     "text": [
      "Accuracy: 0.833437984009\n",
      "\n",
      "Classification report:\n",
      "             precision    recall  f1-score   support\n",
      "\n",
      "          0       0.83      0.82      0.83     11556\n",
      "          1       0.83      0.85      0.84     12333\n",
      "\n",
      "avg / total       0.83      0.83      0.83     23889\n",
      "\n",
      "\n",
      "Confusion matrix: \n",
      "[[ 9486  2070]\n",
      " [ 1909 10424]]\n",
      "[ 0.83048719  0.81416374  0.84279257  0.85986941  0.8530889   0.84354596\n",
      "  0.83571967  0.83697563  0.80783723  0.78592965]\n",
      "Cross Validation Score: 0.83104099427\n"
     ]
    }
   ],
   "source": [
    "best_estimator = grid_cv.best_estimator_\n",
    "Y_pred = best_estimator.predict(X_test)\n",
    "print_report(Y_test, Y_pred)\n",
    "print_cross_validation(best_estimator, X, Y)"
   ]
  },
  {
   "cell_type": "code",
   "execution_count": 31,
   "metadata": {
    "collapsed": false
   },
   "outputs": [
    {
     "name": "stdout",
     "output_type": "stream",
     "text": [
      "0.8317953546767106\n",
      "{'fit_prior': False}\n"
     ]
    }
   ],
   "source": [
    "print (grid_cv.best_score_)\n",
    "print (grid_cv.best_params_)"
   ]
  },
  {
   "cell_type": "code",
   "execution_count": 32,
   "metadata": {
    "collapsed": false
   },
   "outputs": [
    {
     "data": {
      "text/plain": [
       "[mean: 0.83132, std: 0.00496, params: {'fit_prior': True},\n",
       " mean: 0.83180, std: 0.00512, params: {'fit_prior': False}]"
      ]
     },
     "execution_count": 32,
     "metadata": {},
     "output_type": "execute_result"
    }
   ],
   "source": [
    "grid_cv.grid_scores_"
   ]
  },
  {
   "cell_type": "markdown",
   "metadata": {},
   "source": [
    "## KNN"
   ]
  },
  {
   "cell_type": "code",
   "execution_count": 33,
   "metadata": {
    "collapsed": false
   },
   "outputs": [],
   "source": [
    "knn = neighbors.KNeighborsClassifier()"
   ]
  },
  {
   "cell_type": "code",
   "execution_count": 34,
   "metadata": {
    "collapsed": true
   },
   "outputs": [],
   "source": [
    "parameters_grid = {\n",
    "    'n_neighbors' : [1, 3, 5, 7, 9, 11, 13, 15, 17, 19],\n",
    "    'weights' :  ['uniform', 'distance'],\n",
    "}"
   ]
  },
  {
   "cell_type": "code",
   "execution_count": 35,
   "metadata": {
    "collapsed": false
   },
   "outputs": [],
   "source": [
    "grid_cv = grid_search.GridSearchCV(knn, parameters_grid, scoring = 'accuracy', cv = cv)"
   ]
  },
  {
   "cell_type": "code",
   "execution_count": 36,
   "metadata": {
    "collapsed": false
   },
   "outputs": [
    {
     "name": "stdout",
     "output_type": "stream",
     "text": [
      "CPU times: user 1min 32s, sys: 307 ms, total: 1min 33s\n",
      "Wall time: 1min 33s\n"
     ]
    },
    {
     "data": {
      "text/plain": [
       "GridSearchCV(cv=StratifiedShuffleSplit(labels=[1 0 ..., 0 1], n_iter=10, test_size=0.2, random_state=0),\n",
       "       error_score='raise',\n",
       "       estimator=KNeighborsClassifier(algorithm='auto', leaf_size=30, metric='minkowski',\n",
       "           metric_params=None, n_jobs=1, n_neighbors=5, p=2,\n",
       "           weights='uniform'),\n",
       "       fit_params={}, iid=True, n_jobs=1,\n",
       "       param_grid={'n_neighbors': [1, 3, 5, 7, 9, 11, 13, 15, 17, 19], 'weights': ['uniform', 'distance']},\n",
       "       pre_dispatch='2*n_jobs', refit=True, scoring='accuracy', verbose=0)"
      ]
     },
     "execution_count": 36,
     "metadata": {},
     "output_type": "execute_result"
    }
   ],
   "source": [
    "%%time\n",
    "grid_cv.fit(X_train, Y_train)"
   ]
  },
  {
   "cell_type": "code",
   "execution_count": 37,
   "metadata": {
    "collapsed": false
   },
   "outputs": [
    {
     "name": "stdout",
     "output_type": "stream",
     "text": [
      "Accuracy: 0.828917074804\n",
      "\n",
      "Classification report:\n",
      "             precision    recall  f1-score   support\n",
      "\n",
      "          0       0.84      0.80      0.82     11556\n",
      "          1       0.82      0.85      0.84     12333\n",
      "\n",
      "avg / total       0.83      0.83      0.83     23889\n",
      "\n",
      "\n",
      "Confusion matrix: \n",
      "[[ 9270  2286]\n",
      " [ 1801 10532]]\n",
      "[ 0.77724761  0.78352587  0.82119538  0.83902562  0.85258664  0.86363636\n",
      "  0.86184376  0.86234614  0.81788495  0.74874372]\n",
      "Cross Validation Score: 0.822803605281\n"
     ]
    }
   ],
   "source": [
    "best_estimator = grid_cv.best_estimator_\n",
    "Y_pred = best_estimator.predict(X_test)\n",
    "print_report(Y_test, Y_pred)\n",
    "print_cross_validation(best_estimator, X, Y)"
   ]
  },
  {
   "cell_type": "code",
   "execution_count": 38,
   "metadata": {
    "collapsed": false
   },
   "outputs": [
    {
     "name": "stdout",
     "output_type": "stream",
     "text": [
      "0.8263339610797238\n",
      "{'n_neighbors': 11, 'weights': 'distance'}\n"
     ]
    }
   ],
   "source": [
    "print (grid_cv.best_score_)\n",
    "print (grid_cv.best_params_)"
   ]
  },
  {
   "cell_type": "code",
   "execution_count": 39,
   "metadata": {
    "collapsed": false
   },
   "outputs": [
    {
     "data": {
      "text/plain": [
       "[mean: 0.77693, std: 0.00601, params: {'n_neighbors': 1, 'weights': 'uniform'},\n",
       " mean: 0.77693, std: 0.00601, params: {'n_neighbors': 1, 'weights': 'distance'},\n",
       " mean: 0.80681, std: 0.00320, params: {'n_neighbors': 3, 'weights': 'uniform'},\n",
       " mean: 0.80596, std: 0.00298, params: {'n_neighbors': 3, 'weights': 'distance'},\n",
       " mean: 0.81714, std: 0.00403, params: {'n_neighbors': 5, 'weights': 'uniform'},\n",
       " mean: 0.81645, std: 0.00412, params: {'n_neighbors': 5, 'weights': 'distance'},\n",
       " mean: 0.82169, std: 0.00423, params: {'n_neighbors': 7, 'weights': 'uniform'},\n",
       " mean: 0.82100, std: 0.00470, params: {'n_neighbors': 7, 'weights': 'distance'},\n",
       " mean: 0.82389, std: 0.00339, params: {'n_neighbors': 9, 'weights': 'uniform'},\n",
       " mean: 0.82351, std: 0.00351, params: {'n_neighbors': 9, 'weights': 'distance'},\n",
       " mean: 0.82586, std: 0.00432, params: {'n_neighbors': 11, 'weights': 'uniform'},\n",
       " mean: 0.82633, std: 0.00446, params: {'n_neighbors': 11, 'weights': 'distance'},\n",
       " mean: 0.82552, std: 0.00479, params: {'n_neighbors': 13, 'weights': 'uniform'},\n",
       " mean: 0.82586, std: 0.00518, params: {'n_neighbors': 13, 'weights': 'distance'},\n",
       " mean: 0.82536, std: 0.00515, params: {'n_neighbors': 15, 'weights': 'uniform'},\n",
       " mean: 0.82533, std: 0.00514, params: {'n_neighbors': 15, 'weights': 'distance'},\n",
       " mean: 0.82486, std: 0.00515, params: {'n_neighbors': 17, 'weights': 'uniform'},\n",
       " mean: 0.82536, std: 0.00517, params: {'n_neighbors': 17, 'weights': 'distance'},\n",
       " mean: 0.82498, std: 0.00585, params: {'n_neighbors': 19, 'weights': 'uniform'},\n",
       " mean: 0.82542, std: 0.00511, params: {'n_neighbors': 19, 'weights': 'distance'}]"
      ]
     },
     "execution_count": 39,
     "metadata": {},
     "output_type": "execute_result"
    }
   ],
   "source": [
    "grid_cv.grid_scores_"
   ]
  },
  {
   "cell_type": "markdown",
   "metadata": {},
   "source": [
    "## Decision Tree"
   ]
  },
  {
   "cell_type": "code",
   "execution_count": 40,
   "metadata": {
    "collapsed": false
   },
   "outputs": [
    {
     "data": {
      "text/plain": [
       "dict_keys(['class_weight', 'criterion', 'max_depth', 'max_features', 'max_leaf_nodes', 'min_impurity_split', 'min_samples_leaf', 'min_samples_split', 'min_weight_fraction_leaf', 'presort', 'random_state', 'splitter'])"
      ]
     },
     "execution_count": 40,
     "metadata": {},
     "output_type": "execute_result"
    }
   ],
   "source": [
    "dt = tree.DecisionTreeClassifier()\n",
    "dt.get_params().keys()"
   ]
  },
  {
   "cell_type": "code",
   "execution_count": 41,
   "metadata": {
    "collapsed": false
   },
   "outputs": [],
   "source": [
    "parameters_grid = {\n",
    "    'criterion'  : ['gini', 'entropy'],\n",
    "    'splitter' : ['best','random'],\n",
    "    'max_depth' : [1, 2, 3, None]\n",
    "}"
   ]
  },
  {
   "cell_type": "code",
   "execution_count": 42,
   "metadata": {
    "collapsed": true
   },
   "outputs": [],
   "source": [
    "grid_cv = grid_search.GridSearchCV(dt, parameters_grid, scoring = 'accuracy', cv = cv)"
   ]
  },
  {
   "cell_type": "code",
   "execution_count": 43,
   "metadata": {
    "collapsed": false
   },
   "outputs": [
    {
     "name": "stdout",
     "output_type": "stream",
     "text": [
      "CPU times: user 9.8 s, sys: 47 ms, total: 9.85 s\n",
      "Wall time: 9.86 s\n"
     ]
    },
    {
     "data": {
      "text/plain": [
       "GridSearchCV(cv=StratifiedShuffleSplit(labels=[1 0 ..., 0 1], n_iter=10, test_size=0.2, random_state=0),\n",
       "       error_score='raise',\n",
       "       estimator=DecisionTreeClassifier(class_weight=None, criterion='gini', max_depth=None,\n",
       "            max_features=None, max_leaf_nodes=None,\n",
       "            min_impurity_split=1e-07, min_samples_leaf=1,\n",
       "            min_samples_split=2, min_weight_fraction_leaf=0.0,\n",
       "            presort=False, random_state=None, splitter='best'),\n",
       "       fit_params={}, iid=True, n_jobs=1,\n",
       "       param_grid={'criterion': ['gini', 'entropy'], 'splitter': ['best', 'random'], 'max_depth': [1, 2, 3, None]},\n",
       "       pre_dispatch='2*n_jobs', refit=True, scoring='accuracy', verbose=0)"
      ]
     },
     "execution_count": 43,
     "metadata": {},
     "output_type": "execute_result"
    }
   ],
   "source": [
    "%%time\n",
    "grid_cv.fit(X_train, Y_train)"
   ]
  },
  {
   "cell_type": "code",
   "execution_count": 44,
   "metadata": {
    "collapsed": false
   },
   "outputs": [
    {
     "name": "stdout",
     "output_type": "stream",
     "text": [
      "Accuracy: 0.892586546109\n",
      "\n",
      "Classification report:\n",
      "             precision    recall  f1-score   support\n",
      "\n",
      "          0       0.89      0.89      0.89     11556\n",
      "          1       0.89      0.90      0.90     12333\n",
      "\n",
      "avg / total       0.89      0.89      0.89     23889\n",
      "\n",
      "\n",
      "Confusion matrix: \n",
      "[[10247  1309]\n",
      " [ 1257 11076]]\n",
      "[ 0.83375188  0.81943747  0.8656454   0.87870417  0.89502762  0.91034656\n",
      "  0.90102989  0.86611404  0.830947    0.62361809]\n",
      "Cross Validation Score: 0.842462213137\n"
     ]
    }
   ],
   "source": [
    "best_estimator = grid_cv.best_estimator_\n",
    "Y_pred = best_estimator.predict(X_test)\n",
    "print_report(Y_test, Y_pred)\n",
    "print_cross_validation(best_estimator, X, Y)"
   ]
  },
  {
   "cell_type": "code",
   "execution_count": 45,
   "metadata": {
    "collapsed": false
   },
   "outputs": [
    {
     "name": "stdout",
     "output_type": "stream",
     "text": [
      "0.8858129315756434\n",
      "{'criterion': 'entropy', 'max_depth': None, 'splitter': 'best'}\n"
     ]
    }
   ],
   "source": [
    "print (grid_cv.best_score_)\n",
    "print (grid_cv.best_params_)"
   ]
  },
  {
   "cell_type": "code",
   "execution_count": 46,
   "metadata": {
    "collapsed": false
   },
   "outputs": [
    {
     "data": {
      "text/plain": [
       "[mean: 0.83299, std: 0.00616, params: {'criterion': 'gini', 'max_depth': 1, 'splitter': 'best'},\n",
       " mean: 0.70009, std: 0.04259, params: {'criterion': 'gini', 'max_depth': 1, 'splitter': 'random'},\n",
       " mean: 0.83415, std: 0.00657, params: {'criterion': 'gini', 'max_depth': 2, 'splitter': 'best'},\n",
       " mean: 0.70882, std: 0.06149, params: {'criterion': 'gini', 'max_depth': 2, 'splitter': 'random'},\n",
       " mean: 0.87696, std: 0.00530, params: {'criterion': 'gini', 'max_depth': 3, 'splitter': 'best'},\n",
       " mean: 0.76560, std: 0.03688, params: {'criterion': 'gini', 'max_depth': 3, 'splitter': 'random'},\n",
       " mean: 0.88151, std: 0.00460, params: {'criterion': 'gini', 'max_depth': None, 'splitter': 'best'},\n",
       " mean: 0.86466, std: 0.00554, params: {'criterion': 'gini', 'max_depth': None, 'splitter': 'random'},\n",
       " mean: 0.83358, std: 0.00544, params: {'criterion': 'entropy', 'max_depth': 1, 'splitter': 'best'},\n",
       " mean: 0.66039, std: 0.06322, params: {'criterion': 'entropy', 'max_depth': 1, 'splitter': 'random'},\n",
       " mean: 0.83358, std: 0.00544, params: {'criterion': 'entropy', 'max_depth': 2, 'splitter': 'best'},\n",
       " mean: 0.73333, std: 0.05168, params: {'criterion': 'entropy', 'max_depth': 2, 'splitter': 'random'},\n",
       " mean: 0.87775, std: 0.00664, params: {'criterion': 'entropy', 'max_depth': 3, 'splitter': 'best'},\n",
       " mean: 0.73355, std: 0.04519, params: {'criterion': 'entropy', 'max_depth': 3, 'splitter': 'random'},\n",
       " mean: 0.88581, std: 0.00395, params: {'criterion': 'entropy', 'max_depth': None, 'splitter': 'best'},\n",
       " mean: 0.86827, std: 0.00577, params: {'criterion': 'entropy', 'max_depth': None, 'splitter': 'random'}]"
      ]
     },
     "execution_count": 46,
     "metadata": {},
     "output_type": "execute_result"
    }
   ],
   "source": [
    "grid_cv.grid_scores_"
   ]
  },
  {
   "cell_type": "markdown",
   "metadata": {},
   "source": [
    "## Random Forest"
   ]
  },
  {
   "cell_type": "code",
   "execution_count": 47,
   "metadata": {
    "collapsed": false,
    "scrolled": true
   },
   "outputs": [],
   "source": [
    "rfc = ensemble.RandomForestClassifier()\n",
    "#rfc.get_params().keys()"
   ]
  },
  {
   "cell_type": "code",
   "execution_count": 48,
   "metadata": {
    "collapsed": false
   },
   "outputs": [],
   "source": [
    "parameters_grid = {\n",
    "    'n_estimators' : list(range(1,20)),\n",
    "    'criterion' : ['gini','entropy'],\n",
    "    'max_depth' : [1,2,3,4,5,None],\n",
    "    'bootstrap' : [True, False],\n",
    "}"
   ]
  },
  {
   "cell_type": "code",
   "execution_count": 49,
   "metadata": {
    "collapsed": true
   },
   "outputs": [],
   "source": [
    "grid_cv = grid_search.GridSearchCV(rfc, parameters_grid, scoring = 'accuracy', cv = cv)"
   ]
  },
  {
   "cell_type": "code",
   "execution_count": 50,
   "metadata": {
    "collapsed": false
   },
   "outputs": [
    {
     "name": "stdout",
     "output_type": "stream",
     "text": [
      "CPU times: user 11min 45s, sys: 1.3 s, total: 11min 46s\n",
      "Wall time: 11min 46s\n"
     ]
    },
    {
     "data": {
      "text/plain": [
       "GridSearchCV(cv=StratifiedShuffleSplit(labels=[1 0 ..., 0 1], n_iter=10, test_size=0.2, random_state=0),\n",
       "       error_score='raise',\n",
       "       estimator=RandomForestClassifier(bootstrap=True, class_weight=None, criterion='gini',\n",
       "            max_depth=None, max_features='auto', max_leaf_nodes=None,\n",
       "            min_impurity_split=1e-07, min_samples_leaf=1,\n",
       "            min_samples_split=2, min_weight_fraction_leaf=0.0,\n",
       "            n_estimators=10, n_jobs=1, oob_score=False, random_state=None,\n",
       "            verbose=0, warm_start=False),\n",
       "       fit_params={}, iid=True, n_jobs=1,\n",
       "       param_grid={'n_estimators': [1, 2, 3, 4, 5, 6, 7, 8, 9, 10, 11, 12, 13, 14, 15, 16, 17, 18, 19], 'criterion': ['gini', 'entropy'], 'max_depth': [1, 2, 3, 4, 5, None], 'bootstrap': [True, False]},\n",
       "       pre_dispatch='2*n_jobs', refit=True, scoring='accuracy', verbose=0)"
      ]
     },
     "execution_count": 50,
     "metadata": {},
     "output_type": "execute_result"
    }
   ],
   "source": [
    "%%time\n",
    "grid_cv.fit(X_train, Y_train)"
   ]
  },
  {
   "cell_type": "code",
   "execution_count": 51,
   "metadata": {
    "collapsed": false
   },
   "outputs": [
    {
     "name": "stdout",
     "output_type": "stream",
     "text": [
      "Accuracy: 0.926116622713\n",
      "\n",
      "Classification report:\n",
      "             precision    recall  f1-score   support\n",
      "\n",
      "          0       0.93      0.92      0.92     11556\n",
      "          1       0.92      0.93      0.93     12333\n",
      "\n",
      "avg / total       0.93      0.93      0.93     23889\n",
      "\n",
      "\n",
      "Confusion matrix: \n",
      "[[10615   941]\n",
      " [  824 11509]]\n",
      "[ 0.90557509  0.90080362  0.92290306  0.9306881   0.94224008  0.94399799\n",
      "  0.93544336  0.92388847  0.90329063  0.66130653]\n",
      "Cross Validation Score: 0.897013692504\n"
     ]
    }
   ],
   "source": [
    "best_estimator = grid_cv.best_estimator_\n",
    "Y_pred = best_estimator.predict(X_test)\n",
    "print_report(Y_test, Y_pred)\n",
    "print_cross_validation(best_estimator, X, Y)"
   ]
  },
  {
   "cell_type": "code",
   "execution_count": 52,
   "metadata": {
    "collapsed": false
   },
   "outputs": [
    {
     "name": "stdout",
     "output_type": "stream",
     "text": [
      "0.9233521657250471\n",
      "{'bootstrap': True, 'criterion': 'gini', 'max_depth': None, 'n_estimators': 16}\n"
     ]
    }
   ],
   "source": [
    "print (grid_cv.best_score_)\n",
    "print (grid_cv.best_params_)"
   ]
  },
  {
   "cell_type": "code",
   "execution_count": 53,
   "metadata": {
    "collapsed": false
   },
   "outputs": [
    {
     "data": {
      "text/plain": [
       "[mean: 0.91196, std: 0.00383, params: {'bootstrap': False, 'criterion': 'entropy', 'max_depth': 5, 'n_estimators': 19},\n",
       " mean: 0.88098, std: 0.00399, params: {'bootstrap': False, 'criterion': 'entropy', 'max_depth': None, 'n_estimators': 1},\n",
       " mean: 0.87232, std: 0.00596, params: {'bootstrap': False, 'criterion': 'entropy', 'max_depth': None, 'n_estimators': 2},\n",
       " mean: 0.90728, std: 0.00470, params: {'bootstrap': False, 'criterion': 'entropy', 'max_depth': None, 'n_estimators': 3},\n",
       " mean: 0.90637, std: 0.00337, params: {'bootstrap': False, 'criterion': 'entropy', 'max_depth': None, 'n_estimators': 4},\n",
       " mean: 0.91394, std: 0.00299, params: {'bootstrap': False, 'criterion': 'entropy', 'max_depth': None, 'n_estimators': 5},\n",
       " mean: 0.91406, std: 0.00416, params: {'bootstrap': False, 'criterion': 'entropy', 'max_depth': None, 'n_estimators': 6},\n",
       " mean: 0.91695, std: 0.00352, params: {'bootstrap': False, 'criterion': 'entropy', 'max_depth': None, 'n_estimators': 7},\n",
       " mean: 0.91629, std: 0.00240, params: {'bootstrap': False, 'criterion': 'entropy', 'max_depth': None, 'n_estimators': 8},\n",
       " mean: 0.92090, std: 0.00259, params: {'bootstrap': False, 'criterion': 'entropy', 'max_depth': None, 'n_estimators': 9},\n",
       " mean: 0.91905, std: 0.00331, params: {'bootstrap': False, 'criterion': 'entropy', 'max_depth': None, 'n_estimators': 10},\n",
       " mean: 0.92144, std: 0.00315, params: {'bootstrap': False, 'criterion': 'entropy', 'max_depth': None, 'n_estimators': 11},\n",
       " mean: 0.92137, std: 0.00306, params: {'bootstrap': False, 'criterion': 'entropy', 'max_depth': None, 'n_estimators': 12},\n",
       " mean: 0.92037, std: 0.00288, params: {'bootstrap': False, 'criterion': 'entropy', 'max_depth': None, 'n_estimators': 13},\n",
       " mean: 0.92090, std: 0.00356, params: {'bootstrap': False, 'criterion': 'entropy', 'max_depth': None, 'n_estimators': 14},\n",
       " mean: 0.92163, std: 0.00349, params: {'bootstrap': False, 'criterion': 'entropy', 'max_depth': None, 'n_estimators': 15},\n",
       " mean: 0.92144, std: 0.00372, params: {'bootstrap': False, 'criterion': 'entropy', 'max_depth': None, 'n_estimators': 16},\n",
       " mean: 0.92260, std: 0.00320, params: {'bootstrap': False, 'criterion': 'entropy', 'max_depth': None, 'n_estimators': 17},\n",
       " mean: 0.92216, std: 0.00250, params: {'bootstrap': False, 'criterion': 'entropy', 'max_depth': None, 'n_estimators': 18},\n",
       " mean: 0.92282, std: 0.00252, params: {'bootstrap': False, 'criterion': 'entropy', 'max_depth': None, 'n_estimators': 19}]"
      ]
     },
     "execution_count": 53,
     "metadata": {},
     "output_type": "execute_result"
    }
   ],
   "source": [
    "grid_cv.grid_scores_[-20:]"
   ]
  },
  {
   "cell_type": "code",
   "execution_count": 54,
   "metadata": {
    "collapsed": false
   },
   "outputs": [
    {
     "data": {
      "image/png": "[encoded data removed]",
      "text/plain": [
       "<matplotlib.figure.Figure at 0x1183b0198>"
      ]
     },
     "metadata": {},
     "output_type": "display_data"
    }
   ],
   "source": [
    "importances  = best_estimator.feature_importances_\n",
    "std = np.std([best_estimator.feature_importances_ for tree in best_estimator.estimators_],\n",
    "             axis=0)\n",
    "indices = np.argsort(importances)[::-1]\n",
    "\n",
    "\n",
    "# Plot the feature importances of the forest\n",
    "\n",
    "plt.rcParams['figure.figsize'] = (20,7)\n",
    "plt.rcParams['font.size'] = 15 \n",
    "plt.figure()\n",
    "plt.title(\"Полезность признаков\")\n",
    "plt.bar(range(X_test.shape[1]), importances[indices],\n",
    "       color=\"r\", yerr=std[indices], align=\"center\")\n",
    "plt.xticks(range(X_test.shape[1]), list(X_test[indices]), rotation='vertical')\n",
    "plt.xlim([-1, X_test.shape[1]])\n",
    "plt.gcf().subplots_adjust(bottom=0.5)\n",
    "#plt.setp(legend.get_title(),fontsize='xx-small')\n",
    "plt.savefig(\"featureImportance.png\")\n",
    "plt.show()"
   ]
  },
  {
   "cell_type": "code",
   "execution_count": 55,
   "metadata": {
    "collapsed": false
   },
   "outputs": [
    {
     "data": {
      "image/png": "[encoded data removed]",
      "text/plain": [
       "<matplotlib.figure.Figure at 0x14faf8a90>"
      ]
     },
     "metadata": {},
     "output_type": "display_data"
    }
   ],
   "source": [
    "plt.rcParams['figure.figsize'] = (20,7)\n",
    "plt.rcParams['font.size'] = 25   \n",
    "\n",
    "data0=data\n",
    "plt.hist([data0[data0.IsSpammer==1].FlwngsIncrease.values,\n",
    "          data0[data0.IsSpammer==0].FlwngsIncrease.values],\n",
    "          label = ['Спамеры','Легитимные пользователи'],\n",
    "          alpha = .99,\n",
    "          bins=range(10,100, 5))\n",
    "plt.legend()\n",
    "plt.xlabel(\"Прирост подписок (ПС/ВА)\")\n",
    "plt.ylabel(\"Количество пользователей\")\n",
    "plt.savefig(\"flwngsincrease.png\")\n",
    "plt.show()"
   ]
  },
  {
   "cell_type": "code",
   "execution_count": 56,
   "metadata": {
    "collapsed": false
   },
   "outputs": [
    {
     "data": {
      "image/png": "[encoded data removed]",
      "text/plain": [
       "<matplotlib.figure.Figure at 0x14faf84e0>"
      ]
     },
     "metadata": {},
     "output_type": "display_data"
    }
   ],
   "source": [
    "plt.rcParams['figure.figsize'] = (20,7)\n",
    "plt.rcParams['font.size'] = 25   \n",
    "\n",
    "data0=data\n",
    "plt.hist([data0[data0.IsSpammer==1].NumberOfFollowings.values,\n",
    "          data0[data0.IsSpammer==0].NumberOfFollowings.values],\n",
    "          label = ['Спамеры','Легитимные пользователи'],\n",
    "          alpha = .99,\n",
    "          bins=range(10,200, 10))\n",
    "plt.legend()\n",
    "plt.xlabel(\"Количество подписок\")\n",
    "plt.ylabel(\"Количество пользователей\")\n",
    "plt.savefig(\"NumberOfFollowings.png\")\n",
    "plt.show()"
   ]
  },
  {
   "cell_type": "code",
   "execution_count": 57,
   "metadata": {
    "collapsed": false
   },
   "outputs": [
    {
     "data": {
      "image/png": "[encoded data removed]",
      "text/plain": [
       "<matplotlib.figure.Figure at 0x144791c88>"
      ]
     },
     "metadata": {},
     "output_type": "display_data"
    }
   ],
   "source": [
    "plt.rcParams['figure.figsize'] = (20,7)\n",
    "plt.rcParams['font.size'] = 25   \n",
    "\n",
    "data0=data\n",
    "plt.hist([data0[data0.IsSpammer==1].NumberOfTweets.values,\n",
    "          data0[data0.IsSpammer==0].NumberOfTweets.values],\n",
    "          label = ['Спамеры','Легитимные пользователи'],\n",
    "          alpha = .99,\n",
    "          bins=range(10,1010, 10))\n",
    "plt.legend()\n",
    "plt.xlabel(\"Количество твитов\")\n",
    "plt.ylabel(\"Количество пользователей\")\n",
    "#plt.savefig(\"reputation.png\")\n",
    "plt.show()"
   ]
  },
  {
   "cell_type": "code",
   "execution_count": 59,
   "metadata": {
    "collapsed": false
   },
   "outputs": [],
   "source": [
    "def result(row):\n",
    "    if not row['IsCorrect'] and row['Actual'] == 0:\n",
    "        return \"FalsePositive\"\n",
    "    elif not row['IsCorrect'] and row['Actual'] == 1:\n",
    "        return \"FalseNegative\"\n",
    "    elif row['IsCorrect'] and row['Actual'] == 1:\n",
    "        return \"TruePositive\"\n",
    "    elif row['IsCorrect'] and row['Actual'] == 0:\n",
    "        return \"TrueNegative\""
   ]
  },
  {
   "cell_type": "code",
   "execution_count": 60,
   "metadata": {
    "collapsed": false
   },
   "outputs": [
    {
     "data": {
      "text/html": [
       "<div>\n",
       "<table border=\"1\" class=\"dataframe\">\n",
       "  <thead>\n",
       "    <tr style=\"text-align: right;\">\n",
       "      <th></th>\n",
       "      <th>Actual</th>\n",
       "      <th>IsCorrect</th>\n",
       "      <th>Predicted</th>\n",
       "      <th>Result</th>\n",
       "    </tr>\n",
       "    <tr>\n",
       "      <th>UserID</th>\n",
       "      <th></th>\n",
       "      <th></th>\n",
       "      <th></th>\n",
       "      <th></th>\n",
       "    </tr>\n",
       "  </thead>\n",
       "  <tbody>\n",
       "    <tr>\n",
       "      <th>39981903</th>\n",
       "      <td>0</td>\n",
       "      <td>True</td>\n",
       "      <td>0</td>\n",
       "      <td>TrueNegative</td>\n",
       "    </tr>\n",
       "    <tr>\n",
       "      <th>37988259</th>\n",
       "      <td>0</td>\n",
       "      <td>True</td>\n",
       "      <td>0</td>\n",
       "      <td>TrueNegative</td>\n",
       "    </tr>\n",
       "    <tr>\n",
       "      <th>103811363</th>\n",
       "      <td>1</td>\n",
       "      <td>True</td>\n",
       "      <td>1</td>\n",
       "      <td>TruePositive</td>\n",
       "    </tr>\n",
       "    <tr>\n",
       "      <th>106455845</th>\n",
       "      <td>1</td>\n",
       "      <td>True</td>\n",
       "      <td>1</td>\n",
       "      <td>TruePositive</td>\n",
       "    </tr>\n",
       "    <tr>\n",
       "      <th>20559338</th>\n",
       "      <td>0</td>\n",
       "      <td>True</td>\n",
       "      <td>0</td>\n",
       "      <td>TrueNegative</td>\n",
       "    </tr>\n",
       "    <tr>\n",
       "      <th>63708784</th>\n",
       "      <td>0</td>\n",
       "      <td>True</td>\n",
       "      <td>0</td>\n",
       "      <td>TrueNegative</td>\n",
       "    </tr>\n",
       "    <tr>\n",
       "      <th>151711487</th>\n",
       "      <td>1</td>\n",
       "      <td>True</td>\n",
       "      <td>1</td>\n",
       "      <td>TruePositive</td>\n",
       "    </tr>\n",
       "    <tr>\n",
       "      <th>29036202</th>\n",
       "      <td>0</td>\n",
       "      <td>True</td>\n",
       "      <td>0</td>\n",
       "      <td>TrueNegative</td>\n",
       "    </tr>\n",
       "    <tr>\n",
       "      <th>103602215</th>\n",
       "      <td>1</td>\n",
       "      <td>True</td>\n",
       "      <td>1</td>\n",
       "      <td>TruePositive</td>\n",
       "    </tr>\n",
       "    <tr>\n",
       "      <th>42549386</th>\n",
       "      <td>0</td>\n",
       "      <td>True</td>\n",
       "      <td>0</td>\n",
       "      <td>TrueNegative</td>\n",
       "    </tr>\n",
       "    <tr>\n",
       "      <th>87396839</th>\n",
       "      <td>0</td>\n",
       "      <td>False</td>\n",
       "      <td>1</td>\n",
       "      <td>FalsePositive</td>\n",
       "    </tr>\n",
       "    <tr>\n",
       "      <th>28544494</th>\n",
       "      <td>0</td>\n",
       "      <td>True</td>\n",
       "      <td>0</td>\n",
       "      <td>TrueNegative</td>\n",
       "    </tr>\n",
       "    <tr>\n",
       "      <th>117200918</th>\n",
       "      <td>1</td>\n",
       "      <td>True</td>\n",
       "      <td>1</td>\n",
       "      <td>TruePositive</td>\n",
       "    </tr>\n",
       "    <tr>\n",
       "      <th>22656072</th>\n",
       "      <td>0</td>\n",
       "      <td>True</td>\n",
       "      <td>0</td>\n",
       "      <td>TrueNegative</td>\n",
       "    </tr>\n",
       "    <tr>\n",
       "      <th>87669940</th>\n",
       "      <td>0</td>\n",
       "      <td>True</td>\n",
       "      <td>0</td>\n",
       "      <td>TrueNegative</td>\n",
       "    </tr>\n",
       "    <tr>\n",
       "      <th>40857754</th>\n",
       "      <td>0</td>\n",
       "      <td>True</td>\n",
       "      <td>0</td>\n",
       "      <td>TrueNegative</td>\n",
       "    </tr>\n",
       "    <tr>\n",
       "      <th>87329001</th>\n",
       "      <td>0</td>\n",
       "      <td>True</td>\n",
       "      <td>0</td>\n",
       "      <td>TrueNegative</td>\n",
       "    </tr>\n",
       "    <tr>\n",
       "      <th>77932889</th>\n",
       "      <td>1</td>\n",
       "      <td>True</td>\n",
       "      <td>1</td>\n",
       "      <td>TruePositive</td>\n",
       "    </tr>\n",
       "    <tr>\n",
       "      <th>92884871</th>\n",
       "      <td>0</td>\n",
       "      <td>False</td>\n",
       "      <td>1</td>\n",
       "      <td>FalsePositive</td>\n",
       "    </tr>\n",
       "    <tr>\n",
       "      <th>109249595</th>\n",
       "      <td>1</td>\n",
       "      <td>True</td>\n",
       "      <td>1</td>\n",
       "      <td>TruePositive</td>\n",
       "    </tr>\n",
       "    <tr>\n",
       "      <th>823806</th>\n",
       "      <td>0</td>\n",
       "      <td>True</td>\n",
       "      <td>0</td>\n",
       "      <td>TrueNegative</td>\n",
       "    </tr>\n",
       "    <tr>\n",
       "      <th>44640029</th>\n",
       "      <td>1</td>\n",
       "      <td>True</td>\n",
       "      <td>1</td>\n",
       "      <td>TruePositive</td>\n",
       "    </tr>\n",
       "    <tr>\n",
       "      <th>70704422</th>\n",
       "      <td>0</td>\n",
       "      <td>True</td>\n",
       "      <td>0</td>\n",
       "      <td>TrueNegative</td>\n",
       "    </tr>\n",
       "    <tr>\n",
       "      <th>143002681</th>\n",
       "      <td>1</td>\n",
       "      <td>True</td>\n",
       "      <td>1</td>\n",
       "      <td>TruePositive</td>\n",
       "    </tr>\n",
       "    <tr>\n",
       "      <th>119449536</th>\n",
       "      <td>1</td>\n",
       "      <td>True</td>\n",
       "      <td>1</td>\n",
       "      <td>TruePositive</td>\n",
       "    </tr>\n",
       "    <tr>\n",
       "      <th>42535637</th>\n",
       "      <td>0</td>\n",
       "      <td>True</td>\n",
       "      <td>0</td>\n",
       "      <td>TrueNegative</td>\n",
       "    </tr>\n",
       "    <tr>\n",
       "      <th>51475126</th>\n",
       "      <td>0</td>\n",
       "      <td>True</td>\n",
       "      <td>0</td>\n",
       "      <td>TrueNegative</td>\n",
       "    </tr>\n",
       "    <tr>\n",
       "      <th>102234525</th>\n",
       "      <td>1</td>\n",
       "      <td>True</td>\n",
       "      <td>1</td>\n",
       "      <td>TruePositive</td>\n",
       "    </tr>\n",
       "    <tr>\n",
       "      <th>139419487</th>\n",
       "      <td>1</td>\n",
       "      <td>True</td>\n",
       "      <td>1</td>\n",
       "      <td>TruePositive</td>\n",
       "    </tr>\n",
       "    <tr>\n",
       "      <th>17790497</th>\n",
       "      <td>1</td>\n",
       "      <td>True</td>\n",
       "      <td>1</td>\n",
       "      <td>TruePositive</td>\n",
       "    </tr>\n",
       "    <tr>\n",
       "      <th>...</th>\n",
       "      <td>...</td>\n",
       "      <td>...</td>\n",
       "      <td>...</td>\n",
       "      <td>...</td>\n",
       "    </tr>\n",
       "    <tr>\n",
       "      <th>103533363</th>\n",
       "      <td>1</td>\n",
       "      <td>True</td>\n",
       "      <td>1</td>\n",
       "      <td>TruePositive</td>\n",
       "    </tr>\n",
       "    <tr>\n",
       "      <th>23268256</th>\n",
       "      <td>1</td>\n",
       "      <td>True</td>\n",
       "      <td>1</td>\n",
       "      <td>TruePositive</td>\n",
       "    </tr>\n",
       "    <tr>\n",
       "      <th>100986568</th>\n",
       "      <td>1</td>\n",
       "      <td>True</td>\n",
       "      <td>1</td>\n",
       "      <td>TruePositive</td>\n",
       "    </tr>\n",
       "    <tr>\n",
       "      <th>28923246</th>\n",
       "      <td>0</td>\n",
       "      <td>True</td>\n",
       "      <td>0</td>\n",
       "      <td>TrueNegative</td>\n",
       "    </tr>\n",
       "    <tr>\n",
       "      <th>79330257</th>\n",
       "      <td>0</td>\n",
       "      <td>True</td>\n",
       "      <td>0</td>\n",
       "      <td>TrueNegative</td>\n",
       "    </tr>\n",
       "    <tr>\n",
       "      <th>123026015</th>\n",
       "      <td>1</td>\n",
       "      <td>True</td>\n",
       "      <td>1</td>\n",
       "      <td>TruePositive</td>\n",
       "    </tr>\n",
       "    <tr>\n",
       "      <th>121606695</th>\n",
       "      <td>1</td>\n",
       "      <td>True</td>\n",
       "      <td>1</td>\n",
       "      <td>TruePositive</td>\n",
       "    </tr>\n",
       "    <tr>\n",
       "      <th>75443288</th>\n",
       "      <td>1</td>\n",
       "      <td>True</td>\n",
       "      <td>1</td>\n",
       "      <td>TruePositive</td>\n",
       "    </tr>\n",
       "    <tr>\n",
       "      <th>88975564</th>\n",
       "      <td>0</td>\n",
       "      <td>True</td>\n",
       "      <td>0</td>\n",
       "      <td>TrueNegative</td>\n",
       "    </tr>\n",
       "    <tr>\n",
       "      <th>128489640</th>\n",
       "      <td>1</td>\n",
       "      <td>True</td>\n",
       "      <td>1</td>\n",
       "      <td>TruePositive</td>\n",
       "    </tr>\n",
       "    <tr>\n",
       "      <th>58727720</th>\n",
       "      <td>1</td>\n",
       "      <td>True</td>\n",
       "      <td>1</td>\n",
       "      <td>TruePositive</td>\n",
       "    </tr>\n",
       "    <tr>\n",
       "      <th>81922359</th>\n",
       "      <td>0</td>\n",
       "      <td>True</td>\n",
       "      <td>0</td>\n",
       "      <td>TrueNegative</td>\n",
       "    </tr>\n",
       "    <tr>\n",
       "      <th>83500712</th>\n",
       "      <td>1</td>\n",
       "      <td>True</td>\n",
       "      <td>1</td>\n",
       "      <td>TruePositive</td>\n",
       "    </tr>\n",
       "    <tr>\n",
       "      <th>71668113</th>\n",
       "      <td>0</td>\n",
       "      <td>True</td>\n",
       "      <td>0</td>\n",
       "      <td>TrueNegative</td>\n",
       "    </tr>\n",
       "    <tr>\n",
       "      <th>103753477</th>\n",
       "      <td>1</td>\n",
       "      <td>True</td>\n",
       "      <td>1</td>\n",
       "      <td>TruePositive</td>\n",
       "    </tr>\n",
       "    <tr>\n",
       "      <th>58103395</th>\n",
       "      <td>0</td>\n",
       "      <td>True</td>\n",
       "      <td>0</td>\n",
       "      <td>TrueNegative</td>\n",
       "    </tr>\n",
       "    <tr>\n",
       "      <th>135243034</th>\n",
       "      <td>1</td>\n",
       "      <td>True</td>\n",
       "      <td>1</td>\n",
       "      <td>TruePositive</td>\n",
       "    </tr>\n",
       "    <tr>\n",
       "      <th>143777572</th>\n",
       "      <td>1</td>\n",
       "      <td>True</td>\n",
       "      <td>1</td>\n",
       "      <td>TruePositive</td>\n",
       "    </tr>\n",
       "    <tr>\n",
       "      <th>29692074</th>\n",
       "      <td>1</td>\n",
       "      <td>True</td>\n",
       "      <td>1</td>\n",
       "      <td>TruePositive</td>\n",
       "    </tr>\n",
       "    <tr>\n",
       "      <th>114523307</th>\n",
       "      <td>1</td>\n",
       "      <td>True</td>\n",
       "      <td>1</td>\n",
       "      <td>TruePositive</td>\n",
       "    </tr>\n",
       "    <tr>\n",
       "      <th>135015396</th>\n",
       "      <td>1</td>\n",
       "      <td>True</td>\n",
       "      <td>1</td>\n",
       "      <td>TruePositive</td>\n",
       "    </tr>\n",
       "    <tr>\n",
       "      <th>22454500</th>\n",
       "      <td>0</td>\n",
       "      <td>True</td>\n",
       "      <td>0</td>\n",
       "      <td>TrueNegative</td>\n",
       "    </tr>\n",
       "    <tr>\n",
       "      <th>85319315</th>\n",
       "      <td>1</td>\n",
       "      <td>True</td>\n",
       "      <td>1</td>\n",
       "      <td>TruePositive</td>\n",
       "    </tr>\n",
       "    <tr>\n",
       "      <th>94474296</th>\n",
       "      <td>1</td>\n",
       "      <td>True</td>\n",
       "      <td>1</td>\n",
       "      <td>TruePositive</td>\n",
       "    </tr>\n",
       "    <tr>\n",
       "      <th>27761217</th>\n",
       "      <td>0</td>\n",
       "      <td>True</td>\n",
       "      <td>0</td>\n",
       "      <td>TrueNegative</td>\n",
       "    </tr>\n",
       "    <tr>\n",
       "      <th>139196032</th>\n",
       "      <td>1</td>\n",
       "      <td>True</td>\n",
       "      <td>1</td>\n",
       "      <td>TruePositive</td>\n",
       "    </tr>\n",
       "    <tr>\n",
       "      <th>16561593</th>\n",
       "      <td>0</td>\n",
       "      <td>True</td>\n",
       "      <td>0</td>\n",
       "      <td>TrueNegative</td>\n",
       "    </tr>\n",
       "    <tr>\n",
       "      <th>16983800</th>\n",
       "      <td>1</td>\n",
       "      <td>True</td>\n",
       "      <td>1</td>\n",
       "      <td>TruePositive</td>\n",
       "    </tr>\n",
       "    <tr>\n",
       "      <th>15826071</th>\n",
       "      <td>0</td>\n",
       "      <td>True</td>\n",
       "      <td>0</td>\n",
       "      <td>TrueNegative</td>\n",
       "    </tr>\n",
       "    <tr>\n",
       "      <th>20271971</th>\n",
       "      <td>1</td>\n",
       "      <td>False</td>\n",
       "      <td>0</td>\n",
       "      <td>FalseNegative</td>\n",
       "    </tr>\n",
       "  </tbody>\n",
       "</table>\n",
       "<p>23889 rows × 4 columns</p>\n",
       "</div>"
      ],
      "text/plain": [
       "           Actual IsCorrect  Predicted         Result\n",
       "UserID                                               \n",
       "39981903        0      True          0   TrueNegative\n",
       "37988259        0      True          0   TrueNegative\n",
       "103811363       1      True          1   TruePositive\n",
       "106455845       1      True          1   TruePositive\n",
       "20559338        0      True          0   TrueNegative\n",
       "63708784        0      True          0   TrueNegative\n",
       "151711487       1      True          1   TruePositive\n",
       "29036202        0      True          0   TrueNegative\n",
       "103602215       1      True          1   TruePositive\n",
       "42549386        0      True          0   TrueNegative\n",
       "87396839        0     False          1  FalsePositive\n",
       "28544494        0      True          0   TrueNegative\n",
       "117200918       1      True          1   TruePositive\n",
       "22656072        0      True          0   TrueNegative\n",
       "87669940        0      True          0   TrueNegative\n",
       "40857754        0      True          0   TrueNegative\n",
       "87329001        0      True          0   TrueNegative\n",
       "77932889        1      True          1   TruePositive\n",
       "92884871        0     False          1  FalsePositive\n",
       "109249595       1      True          1   TruePositive\n",
       "823806          0      True          0   TrueNegative\n",
       "44640029        1      True          1   TruePositive\n",
       "70704422        0      True          0   TrueNegative\n",
       "143002681       1      True          1   TruePositive\n",
       "119449536       1      True          1   TruePositive\n",
       "42535637        0      True          0   TrueNegative\n",
       "51475126        0      True          0   TrueNegative\n",
       "102234525       1      True          1   TruePositive\n",
       "139419487       1      True          1   TruePositive\n",
       "17790497        1      True          1   TruePositive\n",
       "...           ...       ...        ...            ...\n",
       "103533363       1      True          1   TruePositive\n",
       "23268256        1      True          1   TruePositive\n",
       "100986568       1      True          1   TruePositive\n",
       "28923246        0      True          0   TrueNegative\n",
       "79330257        0      True          0   TrueNegative\n",
       "123026015       1      True          1   TruePositive\n",
       "121606695       1      True          1   TruePositive\n",
       "75443288        1      True          1   TruePositive\n",
       "88975564        0      True          0   TrueNegative\n",
       "128489640       1      True          1   TruePositive\n",
       "58727720        1      True          1   TruePositive\n",
       "81922359        0      True          0   TrueNegative\n",
       "83500712        1      True          1   TruePositive\n",
       "71668113        0      True          0   TrueNegative\n",
       "103753477       1      True          1   TruePositive\n",
       "58103395        0      True          0   TrueNegative\n",
       "135243034       1      True          1   TruePositive\n",
       "143777572       1      True          1   TruePositive\n",
       "29692074        1      True          1   TruePositive\n",
       "114523307       1      True          1   TruePositive\n",
       "135015396       1      True          1   TruePositive\n",
       "22454500        0      True          0   TrueNegative\n",
       "85319315        1      True          1   TruePositive\n",
       "94474296        1      True          1   TruePositive\n",
       "27761217        0      True          0   TrueNegative\n",
       "139196032       1      True          1   TruePositive\n",
       "16561593        0      True          0   TrueNegative\n",
       "16983800        1      True          1   TruePositive\n",
       "15826071        0      True          0   TrueNegative\n",
       "20271971        1     False          0  FalseNegative\n",
       "\n",
       "[23889 rows x 4 columns]"
      ]
     },
     "execution_count": 60,
     "metadata": {},
     "output_type": "execute_result"
    }
   ],
   "source": [
    "Compare = {\"Predicted\" : Y_pred, 'Actual': Y_test, 'IsCorrect': Y_pred == Y_test}\n",
    "Tests = pd.DataFrame(data=Compare)\n",
    "Tests['Result'] = Tests.apply(result,axis=1) \n",
    "Tests"
   ]
  },
  {
   "cell_type": "code",
   "execution_count": 61,
   "metadata": {
    "collapsed": false
   },
   "outputs": [
    {
     "data": {
      "text/html": [
       "<div>\n",
       "<table border=\"1\" class=\"dataframe\">\n",
       "  <thead>\n",
       "    <tr style=\"text-align: right;\">\n",
       "      <th></th>\n",
       "      <th>Actual</th>\n",
       "      <th>IsCorrect</th>\n",
       "      <th>Predicted</th>\n",
       "      <th>Result</th>\n",
       "    </tr>\n",
       "    <tr>\n",
       "      <th>UserID</th>\n",
       "      <th></th>\n",
       "      <th></th>\n",
       "      <th></th>\n",
       "      <th></th>\n",
       "    </tr>\n",
       "  </thead>\n",
       "  <tbody>\n",
       "    <tr>\n",
       "      <th>87396839</th>\n",
       "      <td>0</td>\n",
       "      <td>False</td>\n",
       "      <td>1</td>\n",
       "      <td>FalsePositive</td>\n",
       "    </tr>\n",
       "    <tr>\n",
       "      <th>92884871</th>\n",
       "      <td>0</td>\n",
       "      <td>False</td>\n",
       "      <td>1</td>\n",
       "      <td>FalsePositive</td>\n",
       "    </tr>\n",
       "    <tr>\n",
       "      <th>39803028</th>\n",
       "      <td>0</td>\n",
       "      <td>False</td>\n",
       "      <td>1</td>\n",
       "      <td>FalsePositive</td>\n",
       "    </tr>\n",
       "    <tr>\n",
       "      <th>92432557</th>\n",
       "      <td>0</td>\n",
       "      <td>False</td>\n",
       "      <td>1</td>\n",
       "      <td>FalsePositive</td>\n",
       "    </tr>\n",
       "    <tr>\n",
       "      <th>32076507</th>\n",
       "      <td>0</td>\n",
       "      <td>False</td>\n",
       "      <td>1</td>\n",
       "      <td>FalsePositive</td>\n",
       "    </tr>\n",
       "    <tr>\n",
       "      <th>15047836</th>\n",
       "      <td>0</td>\n",
       "      <td>False</td>\n",
       "      <td>1</td>\n",
       "      <td>FalsePositive</td>\n",
       "    </tr>\n",
       "    <tr>\n",
       "      <th>48138419</th>\n",
       "      <td>0</td>\n",
       "      <td>False</td>\n",
       "      <td>1</td>\n",
       "      <td>FalsePositive</td>\n",
       "    </tr>\n",
       "    <tr>\n",
       "      <th>46133557</th>\n",
       "      <td>0</td>\n",
       "      <td>False</td>\n",
       "      <td>1</td>\n",
       "      <td>FalsePositive</td>\n",
       "    </tr>\n",
       "    <tr>\n",
       "      <th>70238402</th>\n",
       "      <td>0</td>\n",
       "      <td>False</td>\n",
       "      <td>1</td>\n",
       "      <td>FalsePositive</td>\n",
       "    </tr>\n",
       "    <tr>\n",
       "      <th>1028821</th>\n",
       "      <td>0</td>\n",
       "      <td>False</td>\n",
       "      <td>1</td>\n",
       "      <td>FalsePositive</td>\n",
       "    </tr>\n",
       "    <tr>\n",
       "      <th>62406033</th>\n",
       "      <td>0</td>\n",
       "      <td>False</td>\n",
       "      <td>1</td>\n",
       "      <td>FalsePositive</td>\n",
       "    </tr>\n",
       "    <tr>\n",
       "      <th>44096394</th>\n",
       "      <td>0</td>\n",
       "      <td>False</td>\n",
       "      <td>1</td>\n",
       "      <td>FalsePositive</td>\n",
       "    </tr>\n",
       "    <tr>\n",
       "      <th>39763437</th>\n",
       "      <td>0</td>\n",
       "      <td>False</td>\n",
       "      <td>1</td>\n",
       "      <td>FalsePositive</td>\n",
       "    </tr>\n",
       "    <tr>\n",
       "      <th>53225065</th>\n",
       "      <td>0</td>\n",
       "      <td>False</td>\n",
       "      <td>1</td>\n",
       "      <td>FalsePositive</td>\n",
       "    </tr>\n",
       "    <tr>\n",
       "      <th>28204756</th>\n",
       "      <td>0</td>\n",
       "      <td>False</td>\n",
       "      <td>1</td>\n",
       "      <td>FalsePositive</td>\n",
       "    </tr>\n",
       "    <tr>\n",
       "      <th>78455976</th>\n",
       "      <td>0</td>\n",
       "      <td>False</td>\n",
       "      <td>1</td>\n",
       "      <td>FalsePositive</td>\n",
       "    </tr>\n",
       "    <tr>\n",
       "      <th>91630289</th>\n",
       "      <td>0</td>\n",
       "      <td>False</td>\n",
       "      <td>1</td>\n",
       "      <td>FalsePositive</td>\n",
       "    </tr>\n",
       "    <tr>\n",
       "      <th>29075966</th>\n",
       "      <td>0</td>\n",
       "      <td>False</td>\n",
       "      <td>1</td>\n",
       "      <td>FalsePositive</td>\n",
       "    </tr>\n",
       "    <tr>\n",
       "      <th>82745142</th>\n",
       "      <td>0</td>\n",
       "      <td>False</td>\n",
       "      <td>1</td>\n",
       "      <td>FalsePositive</td>\n",
       "    </tr>\n",
       "    <tr>\n",
       "      <th>80924305</th>\n",
       "      <td>0</td>\n",
       "      <td>False</td>\n",
       "      <td>1</td>\n",
       "      <td>FalsePositive</td>\n",
       "    </tr>\n",
       "    <tr>\n",
       "      <th>29781318</th>\n",
       "      <td>0</td>\n",
       "      <td>False</td>\n",
       "      <td>1</td>\n",
       "      <td>FalsePositive</td>\n",
       "    </tr>\n",
       "    <tr>\n",
       "      <th>70043706</th>\n",
       "      <td>0</td>\n",
       "      <td>False</td>\n",
       "      <td>1</td>\n",
       "      <td>FalsePositive</td>\n",
       "    </tr>\n",
       "    <tr>\n",
       "      <th>93362225</th>\n",
       "      <td>0</td>\n",
       "      <td>False</td>\n",
       "      <td>1</td>\n",
       "      <td>FalsePositive</td>\n",
       "    </tr>\n",
       "    <tr>\n",
       "      <th>19601444</th>\n",
       "      <td>0</td>\n",
       "      <td>False</td>\n",
       "      <td>1</td>\n",
       "      <td>FalsePositive</td>\n",
       "    </tr>\n",
       "    <tr>\n",
       "      <th>17221207</th>\n",
       "      <td>0</td>\n",
       "      <td>False</td>\n",
       "      <td>1</td>\n",
       "      <td>FalsePositive</td>\n",
       "    </tr>\n",
       "    <tr>\n",
       "      <th>15582892</th>\n",
       "      <td>0</td>\n",
       "      <td>False</td>\n",
       "      <td>1</td>\n",
       "      <td>FalsePositive</td>\n",
       "    </tr>\n",
       "    <tr>\n",
       "      <th>91369358</th>\n",
       "      <td>0</td>\n",
       "      <td>False</td>\n",
       "      <td>1</td>\n",
       "      <td>FalsePositive</td>\n",
       "    </tr>\n",
       "    <tr>\n",
       "      <th>90851035</th>\n",
       "      <td>0</td>\n",
       "      <td>False</td>\n",
       "      <td>1</td>\n",
       "      <td>FalsePositive</td>\n",
       "    </tr>\n",
       "    <tr>\n",
       "      <th>15086035</th>\n",
       "      <td>0</td>\n",
       "      <td>False</td>\n",
       "      <td>1</td>\n",
       "      <td>FalsePositive</td>\n",
       "    </tr>\n",
       "    <tr>\n",
       "      <th>60134410</th>\n",
       "      <td>0</td>\n",
       "      <td>False</td>\n",
       "      <td>1</td>\n",
       "      <td>FalsePositive</td>\n",
       "    </tr>\n",
       "    <tr>\n",
       "      <th>...</th>\n",
       "      <td>...</td>\n",
       "      <td>...</td>\n",
       "      <td>...</td>\n",
       "      <td>...</td>\n",
       "    </tr>\n",
       "    <tr>\n",
       "      <th>20555154</th>\n",
       "      <td>0</td>\n",
       "      <td>False</td>\n",
       "      <td>1</td>\n",
       "      <td>FalsePositive</td>\n",
       "    </tr>\n",
       "    <tr>\n",
       "      <th>34397068</th>\n",
       "      <td>0</td>\n",
       "      <td>False</td>\n",
       "      <td>1</td>\n",
       "      <td>FalsePositive</td>\n",
       "    </tr>\n",
       "    <tr>\n",
       "      <th>18634575</th>\n",
       "      <td>0</td>\n",
       "      <td>False</td>\n",
       "      <td>1</td>\n",
       "      <td>FalsePositive</td>\n",
       "    </tr>\n",
       "    <tr>\n",
       "      <th>80018215</th>\n",
       "      <td>0</td>\n",
       "      <td>False</td>\n",
       "      <td>1</td>\n",
       "      <td>FalsePositive</td>\n",
       "    </tr>\n",
       "    <tr>\n",
       "      <th>90214706</th>\n",
       "      <td>0</td>\n",
       "      <td>False</td>\n",
       "      <td>1</td>\n",
       "      <td>FalsePositive</td>\n",
       "    </tr>\n",
       "    <tr>\n",
       "      <th>87713429</th>\n",
       "      <td>0</td>\n",
       "      <td>False</td>\n",
       "      <td>1</td>\n",
       "      <td>FalsePositive</td>\n",
       "    </tr>\n",
       "    <tr>\n",
       "      <th>35320181</th>\n",
       "      <td>0</td>\n",
       "      <td>False</td>\n",
       "      <td>1</td>\n",
       "      <td>FalsePositive</td>\n",
       "    </tr>\n",
       "    <tr>\n",
       "      <th>28379140</th>\n",
       "      <td>0</td>\n",
       "      <td>False</td>\n",
       "      <td>1</td>\n",
       "      <td>FalsePositive</td>\n",
       "    </tr>\n",
       "    <tr>\n",
       "      <th>50995719</th>\n",
       "      <td>0</td>\n",
       "      <td>False</td>\n",
       "      <td>1</td>\n",
       "      <td>FalsePositive</td>\n",
       "    </tr>\n",
       "    <tr>\n",
       "      <th>89598104</th>\n",
       "      <td>0</td>\n",
       "      <td>False</td>\n",
       "      <td>1</td>\n",
       "      <td>FalsePositive</td>\n",
       "    </tr>\n",
       "    <tr>\n",
       "      <th>81799592</th>\n",
       "      <td>0</td>\n",
       "      <td>False</td>\n",
       "      <td>1</td>\n",
       "      <td>FalsePositive</td>\n",
       "    </tr>\n",
       "    <tr>\n",
       "      <th>86335326</th>\n",
       "      <td>0</td>\n",
       "      <td>False</td>\n",
       "      <td>1</td>\n",
       "      <td>FalsePositive</td>\n",
       "    </tr>\n",
       "    <tr>\n",
       "      <th>77645907</th>\n",
       "      <td>0</td>\n",
       "      <td>False</td>\n",
       "      <td>1</td>\n",
       "      <td>FalsePositive</td>\n",
       "    </tr>\n",
       "    <tr>\n",
       "      <th>58699184</th>\n",
       "      <td>0</td>\n",
       "      <td>False</td>\n",
       "      <td>1</td>\n",
       "      <td>FalsePositive</td>\n",
       "    </tr>\n",
       "    <tr>\n",
       "      <th>43431862</th>\n",
       "      <td>0</td>\n",
       "      <td>False</td>\n",
       "      <td>1</td>\n",
       "      <td>FalsePositive</td>\n",
       "    </tr>\n",
       "    <tr>\n",
       "      <th>66743670</th>\n",
       "      <td>0</td>\n",
       "      <td>False</td>\n",
       "      <td>1</td>\n",
       "      <td>FalsePositive</td>\n",
       "    </tr>\n",
       "    <tr>\n",
       "      <th>81550447</th>\n",
       "      <td>0</td>\n",
       "      <td>False</td>\n",
       "      <td>1</td>\n",
       "      <td>FalsePositive</td>\n",
       "    </tr>\n",
       "    <tr>\n",
       "      <th>20442402</th>\n",
       "      <td>0</td>\n",
       "      <td>False</td>\n",
       "      <td>1</td>\n",
       "      <td>FalsePositive</td>\n",
       "    </tr>\n",
       "    <tr>\n",
       "      <th>25964578</th>\n",
       "      <td>0</td>\n",
       "      <td>False</td>\n",
       "      <td>1</td>\n",
       "      <td>FalsePositive</td>\n",
       "    </tr>\n",
       "    <tr>\n",
       "      <th>52548075</th>\n",
       "      <td>0</td>\n",
       "      <td>False</td>\n",
       "      <td>1</td>\n",
       "      <td>FalsePositive</td>\n",
       "    </tr>\n",
       "    <tr>\n",
       "      <th>48574107</th>\n",
       "      <td>0</td>\n",
       "      <td>False</td>\n",
       "      <td>1</td>\n",
       "      <td>FalsePositive</td>\n",
       "    </tr>\n",
       "    <tr>\n",
       "      <th>91836829</th>\n",
       "      <td>0</td>\n",
       "      <td>False</td>\n",
       "      <td>1</td>\n",
       "      <td>FalsePositive</td>\n",
       "    </tr>\n",
       "    <tr>\n",
       "      <th>87666959</th>\n",
       "      <td>0</td>\n",
       "      <td>False</td>\n",
       "      <td>1</td>\n",
       "      <td>FalsePositive</td>\n",
       "    </tr>\n",
       "    <tr>\n",
       "      <th>47855401</th>\n",
       "      <td>0</td>\n",
       "      <td>False</td>\n",
       "      <td>1</td>\n",
       "      <td>FalsePositive</td>\n",
       "    </tr>\n",
       "    <tr>\n",
       "      <th>17844954</th>\n",
       "      <td>0</td>\n",
       "      <td>False</td>\n",
       "      <td>1</td>\n",
       "      <td>FalsePositive</td>\n",
       "    </tr>\n",
       "    <tr>\n",
       "      <th>19911856</th>\n",
       "      <td>0</td>\n",
       "      <td>False</td>\n",
       "      <td>1</td>\n",
       "      <td>FalsePositive</td>\n",
       "    </tr>\n",
       "    <tr>\n",
       "      <th>88047810</th>\n",
       "      <td>0</td>\n",
       "      <td>False</td>\n",
       "      <td>1</td>\n",
       "      <td>FalsePositive</td>\n",
       "    </tr>\n",
       "    <tr>\n",
       "      <th>75808366</th>\n",
       "      <td>0</td>\n",
       "      <td>False</td>\n",
       "      <td>1</td>\n",
       "      <td>FalsePositive</td>\n",
       "    </tr>\n",
       "    <tr>\n",
       "      <th>5091661</th>\n",
       "      <td>0</td>\n",
       "      <td>False</td>\n",
       "      <td>1</td>\n",
       "      <td>FalsePositive</td>\n",
       "    </tr>\n",
       "    <tr>\n",
       "      <th>51403656</th>\n",
       "      <td>0</td>\n",
       "      <td>False</td>\n",
       "      <td>1</td>\n",
       "      <td>FalsePositive</td>\n",
       "    </tr>\n",
       "  </tbody>\n",
       "</table>\n",
       "<p>941 rows × 4 columns</p>\n",
       "</div>"
      ],
      "text/plain": [
       "          Actual IsCorrect  Predicted         Result\n",
       "UserID                                              \n",
       "87396839       0     False          1  FalsePositive\n",
       "92884871       0     False          1  FalsePositive\n",
       "39803028       0     False          1  FalsePositive\n",
       "92432557       0     False          1  FalsePositive\n",
       "32076507       0     False          1  FalsePositive\n",
       "15047836       0     False          1  FalsePositive\n",
       "48138419       0     False          1  FalsePositive\n",
       "46133557       0     False          1  FalsePositive\n",
       "70238402       0     False          1  FalsePositive\n",
       "1028821        0     False          1  FalsePositive\n",
       "62406033       0     False          1  FalsePositive\n",
       "44096394       0     False          1  FalsePositive\n",
       "39763437       0     False          1  FalsePositive\n",
       "53225065       0     False          1  FalsePositive\n",
       "28204756       0     False          1  FalsePositive\n",
       "78455976       0     False          1  FalsePositive\n",
       "91630289       0     False          1  FalsePositive\n",
       "29075966       0     False          1  FalsePositive\n",
       "82745142       0     False          1  FalsePositive\n",
       "80924305       0     False          1  FalsePositive\n",
       "29781318       0     False          1  FalsePositive\n",
       "70043706       0     False          1  FalsePositive\n",
       "93362225       0     False          1  FalsePositive\n",
       "19601444       0     False          1  FalsePositive\n",
       "17221207       0     False          1  FalsePositive\n",
       "15582892       0     False          1  FalsePositive\n",
       "91369358       0     False          1  FalsePositive\n",
       "90851035       0     False          1  FalsePositive\n",
       "15086035       0     False          1  FalsePositive\n",
       "60134410       0     False          1  FalsePositive\n",
       "...          ...       ...        ...            ...\n",
       "20555154       0     False          1  FalsePositive\n",
       "34397068       0     False          1  FalsePositive\n",
       "18634575       0     False          1  FalsePositive\n",
       "80018215       0     False          1  FalsePositive\n",
       "90214706       0     False          1  FalsePositive\n",
       "87713429       0     False          1  FalsePositive\n",
       "35320181       0     False          1  FalsePositive\n",
       "28379140       0     False          1  FalsePositive\n",
       "50995719       0     False          1  FalsePositive\n",
       "89598104       0     False          1  FalsePositive\n",
       "81799592       0     False          1  FalsePositive\n",
       "86335326       0     False          1  FalsePositive\n",
       "77645907       0     False          1  FalsePositive\n",
       "58699184       0     False          1  FalsePositive\n",
       "43431862       0     False          1  FalsePositive\n",
       "66743670       0     False          1  FalsePositive\n",
       "81550447       0     False          1  FalsePositive\n",
       "20442402       0     False          1  FalsePositive\n",
       "25964578       0     False          1  FalsePositive\n",
       "52548075       0     False          1  FalsePositive\n",
       "48574107       0     False          1  FalsePositive\n",
       "91836829       0     False          1  FalsePositive\n",
       "87666959       0     False          1  FalsePositive\n",
       "47855401       0     False          1  FalsePositive\n",
       "17844954       0     False          1  FalsePositive\n",
       "19911856       0     False          1  FalsePositive\n",
       "88047810       0     False          1  FalsePositive\n",
       "75808366       0     False          1  FalsePositive\n",
       "5091661        0     False          1  FalsePositive\n",
       "51403656       0     False          1  FalsePositive\n",
       "\n",
       "[941 rows x 4 columns]"
      ]
     },
     "execution_count": 61,
     "metadata": {},
     "output_type": "execute_result"
    }
   ],
   "source": [
    "Tests.loc[Tests['Result'] == 'FalsePositive']"
   ]
  },
  {
   "cell_type": "code",
   "execution_count": 62,
   "metadata": {
    "collapsed": false,
    "scrolled": true
   },
   "outputs": [
    {
     "data": {
      "text/plain": [
       "1    60.851506\n",
       "0    38.213915\n",
       "2     0.830737\n",
       "5     0.103842\n",
       "Name: NumberOfURLs, dtype: float64"
      ]
     },
     "execution_count": 62,
     "metadata": {},
     "output_type": "execute_result"
    }
   ],
   "source": [
    "FalsePositives = data.loc[Tests.loc[Tests['Result'] == 'FalsePositive'].index]  # .to_latex()\n",
    "URLS = 100. * FalsePositives.NumberOfURLs.value_counts() / len(FalsePositives.NumberOfURLs)\n",
    "URLS"
   ]
  },
  {
   "cell_type": "code",
   "execution_count": 63,
   "metadata": {
    "collapsed": false
   },
   "outputs": [
    {
     "data": {
      "text/plain": [
       "UserID\n",
       "83076908                                                  NaN\n",
       "58205927                                                  NaN\n",
       "27059567    Need A Job? Hiring Today - Job Requires: Basic...\n",
       "27094415                                                  NaN\n",
       "674433      We are recommending Essential Travel for affor...\n",
       "Name: Tweet, dtype: object"
      ]
     },
     "execution_count": 63,
     "metadata": {},
     "output_type": "execute_result"
    }
   ],
   "source": [
    "TweetExamples = FalsePositives.loc[[83076908,58205927,27059567,27094415,674433]]\n",
    "TweetExamples.Tweet"
   ]
  },
  {
   "cell_type": "code",
   "execution_count": 64,
   "metadata": {
    "collapsed": false
   },
   "outputs": [
    {
     "data": {
      "image/png": "[encoded data removed]",
      "text/plain": [
       "<matplotlib.figure.Figure at 0x15011f710>"
      ]
     },
     "metadata": {},
     "output_type": "display_data"
    },
    {
     "data": {
      "image/png": "[encoded data removed]",
      "text/plain": [
       "<matplotlib.figure.Figure at 0x145fd8ba8>"
      ]
     },
     "metadata": {},
     "output_type": "display_data"
    }
   ],
   "source": [
    "fig = plt.figure()\n",
    "ax1 = fig.add_subplot(111)\n",
    "\n",
    "ax1.scatter(x = data['AccountAge'].loc[data['IsSpammer'] == 1], y=data['NumberOfFollowings'].loc[data['IsSpammer'] == 1],   color = 'Red', label = \"Спамовые аккаунты\")\n",
    "ax1.scatter(x = data['AccountAge'].loc[data['IsSpammer'] == 0], y=data['NumberOfFollowings'].loc[data['IsSpammer'] == 0],  color = 'Green', label= \"Легитимные аккаунты\")\n",
    "ax1.scatter(x = data['AccountAge'].loc[Tests.loc[Tests['Result'] == 'FalseNegative'].index], y=data['NumberOfFollowings'].loc[Tests.loc[Tests['Result'] == 'FalseNegative'].index],  color = 'Yellow', label= \"False Negatives\")\n",
    "ax1.scatter(x = data['AccountAge'].loc[Tests.loc[Tests['Result'] == 'FalsePositive'].index], y=data['NumberOfFollowings'].loc[Tests.loc[Tests['Result'] == 'FalsePositive'].index], color = 'Black', label= \"False Positives\")\n",
    "plt.xlabel(\"Возраст аккаунта\")\n",
    "plt.ylabel(\"Количествоподписок\")\n",
    "plt.legend(loc='upper right');\n",
    "plt.savefig(\"ageincreasewitherrors\")\n",
    "plt.show()"
   ]
  },
  {
   "cell_type": "markdown",
   "metadata": {},
   "source": [
    "## Feature extraction time"
   ]
  },
  {
   "cell_type": "code",
   "execution_count": 65,
   "metadata": {
    "collapsed": false
   },
   "outputs": [],
   "source": [
    "data = pd.concat([spammers, nonspammers])\n",
    "data = data[:9000]"
   ]
  },
  {
   "cell_type": "code",
   "execution_count": 66,
   "metadata": {
    "collapsed": false
   },
   "outputs": [
    {
     "name": "stdout",
     "output_type": "stream",
     "text": [
      "CPU times: user 3.1 s, sys: 88.1 ms, total: 3.19 s\n",
      "Wall time: 3.24 s\n"
     ]
    }
   ],
   "source": [
    "%%time\n",
    "#User features\n",
    "\n",
    "# LengthOfScreenName\n",
    "# LengthOfDescriptionInUserProfile\n",
    "# NumberofFollowings\n",
    "# NumberofFollowers\n",
    "# NumberofTweets\n",
    "data[\"ProfileCreatedAt\"] = pd.to_datetime(data[\"ProfileCreatedAt\"])\n",
    "data[\"ProfileCollectedAt\"] = pd.to_datetime(data[\"ProfileCollectedAt\"])\n",
    "data[\"AccountAge\"] = (data[\"ProfileCollectedAt\"] - data[\"ProfileCreatedAt\"]).astype('timedelta64[h]')\n",
    "\n",
    "data[\"Flwrs/Flwngs\"] = data[\"NumberOfFollowers\"].divide(data[\"NumberOfFollowings\"], fill_value=True)\n",
    "data[\"Flwrs/Flwngs\"].replace(np.inf, data[\"NumberOfFollowers\"], inplace = True)\n",
    "data.replace(np.nan, 0, inplace = True)\n",
    "\n",
    "data[\"Reputation\"] = data[\"NumberOfFollowers\"].divide((data[\"NumberOfFollowers\"] + data[\"NumberOfFollowings\"]), fill_value=True)\n",
    "data[\"Reputation\"].replace(np.inf, data[\"NumberOfFollowers\"], inplace = True)\n",
    "data.replace(np.nan, 0, inplace = True)\n",
    "\n",
    "data[\"FlwngsIncrease\"] = data[\"NumberOfFollowings\"].divide(data[\"AccountAge\"])\n",
    "data[\"FlwngsIncrease\"].replace(np.inf, data[\"NumberOfFollowings\"], inplace = True)\n",
    "data.replace(np.nan, 0, inplace = True)\n",
    "\n",
    "data[\"TweetsPerDay\"]  = data[\"NumberOfTweets\"].divide((data[\"AccountAge\"] / 24), fill_value=True)\n",
    "data[\"TweetsPerDay\"].replace(np.inf, data[\"NumberOfTweets\"], inplace = True)\n",
    "data.replace(np.nan, 0, inplace = True)\n",
    "\n",
    "data[\"TweetsPerWeek\"]  = data[\"NumberOfTweets\"].divide((data[\"AccountAge\"] / (24 * 7)), fill_value=True)\n",
    "data[\"TweetsPerWeek\"].replace(np.inf, data[\"NumberOfTweets\"], inplace = True)\n",
    "data.replace(np.nan, 0, inplace = True)"
   ]
  },
  {
   "cell_type": "code",
   "execution_count": 68,
   "metadata": {
    "collapsed": true
   },
   "outputs": [],
   "source": [
    "data[\"TweetWordsList\"] = data[\"Tweet\"].str.split()\n",
    "data['CleanTweet'] = data.apply(clean_tweet,axis=1)\n",
    "data[\"CleanTweetWordsList\"] = data[\"CleanTweet\"].str.split()"
   ]
  },
  {
   "cell_type": "code",
   "execution_count": 69,
   "metadata": {
    "collapsed": false
   },
   "outputs": [
    {
     "name": "stdout",
     "output_type": "stream",
     "text": [
      "CPU times: user 8.88 s, sys: 134 ms, total: 9.02 s\n",
      "Wall time: 9.13 s\n"
     ]
    }
   ],
   "source": [
    "%%time\n",
    "#Content features\n",
    "\n",
    "data[\"NumberOfWords\"] = data[\"CleanTweet\"].str.count(' ') + 1\n",
    "data[\"NumberOfWords\"].replace(1, 0, inplace = True)\n",
    "\n",
    "data[\"NumberOfSymbols\"] = data[\"Tweet\"].str.len()\n",
    "\n",
    "data[\"NumberOfSpaces\"] = data[\"Tweet\"].str.count(' ')\n",
    "\n",
    "data[\"NumberOfCl\"] = data.apply(count_uppercases,axis=1)\n",
    "\n",
    "data[\"ClperWord\"] = data[\"NumberOfCl\"].divide(data[\"NumberOfWords\"])\n",
    "data[\"ClperWord\"].replace(np.inf, data[\"NumberOfCl\"], inplace = True)\n",
    "data.replace(np.nan, 0, inplace = True)\n",
    "\n",
    "data['MaxWord'] = data.apply(longest_word,axis=1)\n",
    "\n",
    "data['AvgWord'] = data.apply(average_word,axis=1)\n",
    "\n",
    "data[\"NumberOfEm\"] = data[\"Tweet\"].str.count('\\!')\n",
    "\n",
    "data[\"NumberOfQm\"] = data[\"Tweet\"].str.count('\\?')\n",
    "\n",
    "data[\"NumberOfURLs\"] = data.apply(count_urls,axis=1)\n",
    "\n",
    "data[\"URLperWord\"] = data[\"NumberOfURLs\"].divide(data[\"NumberOfWords\"])\n",
    "data[\"URLperWord\"].replace(np.inf, data[\"NumberOfURLs\"], inplace = True)\n",
    "data.replace(np.nan, 0, inplace = True)\n",
    "\n",
    "\n",
    "data[\"NumberOfMentions\"] = data.apply(count_mentions,axis=1)\n",
    "\n",
    "data[\"MentionsperWord\"] = data[\"NumberOfMentions\"].divide(data[\"NumberOfWords\"])\n",
    "data[\"MentionsperWord\"].replace(np.inf, data[\"NumberOfMentions\"], inplace = True)\n",
    "data.replace(np.nan, 0, inplace = True)\n",
    "\n",
    "data[\"NumberOfHashtags\"] = data.apply(count_hashtags,axis=1)\n",
    "\n",
    "data[\"HashtagsperWord\"] = data[\"NumberOfHashtags\"].divide(data[\"NumberOfWords\"])\n",
    "data[\"HashtagsperWord\"].replace(np.inf, data[\"NumberOfHashtags\"], inplace = True)\n",
    "data.replace(np.nan, 0, inplace = True)\n",
    "\n",
    "data[\"NumberOfSpamWords\"] = data.apply(count_spamwords,axis=1)\n",
    "\n",
    "data[\"SpamWordsperWord\"] = data[\"NumberOfSpamWords\"].divide(data[\"NumberOfWords\"])\n",
    "data[\"SpamWordsperWord\"].replace(np.inf, data[\"NumberOfSpamWords\"], inplace = True)\n",
    "data.replace(np.nan, 0, inplace = True)"
   ]
  }
 ],
 "metadata": {
  "kernelspec": {
   "display_name": "Python 3",
   "language": "python",
   "name": "python3"
  },
  "language_info": {
   "codemirror_mode": {
    "name": "ipython",
    "version": 3
   },
   "file_extension": ".py",
   "mimetype": "text/x-python",
   "name": "python",
   "nbconvert_exporter": "python",
   "pygments_lexer": "ipython3",
   "version": "3.6.0"
  }
 },
 "nbformat": 4,
 "nbformat_minor": 2
}
