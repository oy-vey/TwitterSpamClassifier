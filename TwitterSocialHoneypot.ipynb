{
 "cells": [
  {
   "cell_type": "markdown",
   "metadata": {},
   "source": [
    "# Twitter Spam Classifier"
   ]
  },
  {
   "cell_type": "code",
   "execution_count": 56,
   "metadata": {
    "collapsed": false
   },
   "outputs": [],
   "source": [
    "import pandas as pd\n",
    "import numpy as np\n",
    "import matplotlib.pyplot as plt\n",
    "import re\n",
    "\n",
    "from sklearn import cross_validation, grid_search, metrics, neighbors, tree, naive_bayes, ensemble, svm, calibration, feature_selection, pipeline ,preprocessing\n",
    "\n",
    "pd.set_option(\"display.max_columns\",25)"
   ]
  },
  {
   "cell_type": "markdown",
   "metadata": {},
   "source": [
    "## Dataset - Social honeypot icwsm 2011"
   ]
  },
  {
   "cell_type": "code",
   "execution_count": null,
   "metadata": {
    "collapsed": false
   },
   "outputs": [],
   "source": [
    "#!curl -O 'http://infolab.tamu.edu/static/users/kyumin/social_honeypot_icwsm_2011.zip'&& unzip social_honeypot_icwsm_2011.zip"
   ]
  },
  {
   "cell_type": "code",
   "execution_count": 8,
   "metadata": {
    "collapsed": false
   },
   "outputs": [],
   "source": [
    "#Спамеры\n",
    "content_polluters = pd.read_table('./content_polluters.txt', header=None, names = [\n",
    "    \"UserID\",\n",
    "    \"ProfileCreatedAt\",\n",
    "    \"ProfileCollectedAt\",\n",
    "    \"NumberOfFollowings\",\n",
    "    \"NumberOfFollowers\",\n",
    "    \"NumberOfTweets\",\n",
    "    \"LengthOfScreenName\",\n",
    "    \"LengthOfDescriptionInUserProfile\"])\n",
    "content_polluters_tweets = pd.read_table('./content_polluters_tweets.txt', header=None, names = [\n",
    "    \"UserID\",\n",
    "    \"TweetID\",\n",
    "    \"Tweet\",\n",
    "    \"TweetCreatedAt\"\n",
    "])"
   ]
  },
  {
   "cell_type": "code",
   "execution_count": 9,
   "metadata": {
    "collapsed": false
   },
   "outputs": [],
   "source": [
    "# Пользователь 1:1 Твит (последний по дате публикации)\n",
    "content_polluters = content_polluters.set_index(\"UserID\")\n",
    "content_polluters_tweets_distinct = content_polluters_tweets.sort_values('TweetCreatedAt', ascending = False).groupby(['UserID']).first()"
   ]
  },
  {
   "cell_type": "code",
   "execution_count": 10,
   "metadata": {
    "collapsed": true
   },
   "outputs": [],
   "source": [
    "#Легитимные пользователи\n",
    "legitimate_users = pd.read_table('./legitimate_users.txt', header=None, names = [\n",
    "    \"UserID\",\n",
    "    \"ProfileCreatedAt\",\n",
    "    \"ProfileCollectedAt\",\n",
    "    \"NumberOfFollowings\",\n",
    "    \"NumberOfFollowers\",\n",
    "    \"NumberOfTweets\",\n",
    "    \"LengthOfScreenName\",\n",
    "    \"LengthOfDescriptionInUserProfile\"])\n",
    "legitimate_users_tweets = pd.read_table('./legitimate_users_tweets.txt', header=None, names = [\n",
    "    \"UserID\",\n",
    "    \"TweetID\",\n",
    "    \"Tweet\",\n",
    "    \"TweetCreatedAt\"\n",
    "])"
   ]
  },
  {
   "cell_type": "code",
   "execution_count": 11,
   "metadata": {
    "collapsed": false
   },
   "outputs": [],
   "source": [
    "# Пользователь 1:1 Твит (последний по дате публикации)\n",
    "legitimate_users = legitimate_users.set_index(\"UserID\")\n",
    "legitimate_users_tweets_distinct = legitimate_users_tweets.sort_values('TweetCreatedAt', ascending = False).groupby(['UserID']).first()"
   ]
  },
  {
   "cell_type": "code",
   "execution_count": 13,
   "metadata": {
    "collapsed": false
   },
   "outputs": [],
   "source": [
    "# List of spamwords\n",
    "with open(\"blacklist.txt\", \"r\", encoding='utf-8') as f:\n",
    "    spamwords=f.read().splitlines()"
   ]
  },
  {
   "cell_type": "code",
   "execution_count": 190,
   "metadata": {
    "collapsed": false
   },
   "outputs": [],
   "source": [
    "spammers = pd.concat([content_polluters, content_polluters_tweets_distinct], axis=1, join='inner')\n",
    "spammers['IsSpammer'] = 1\n",
    "\n",
    "nonspammers =  pd.concat([legitimate_users, legitimate_users_tweets_distinct], axis=1, join='inner')\n",
    "nonspammers['IsSpammer'] = 0\n",
    "\n",
    "data = pd.concat([spammers, nonspammers])"
   ]
  },
  {
   "cell_type": "markdown",
   "metadata": {},
   "source": [
    "## Additional features extraction"
   ]
  },
  {
   "cell_type": "code",
   "execution_count": 191,
   "metadata": {
    "collapsed": false
   },
   "outputs": [],
   "source": [
    "#User features\n",
    "data[\"ProfileCreatedAt\"] = pd.to_datetime(data[\"ProfileCreatedAt\"])\n",
    "data[\"ProfileCollectedAt\"] = pd.to_datetime(data[\"ProfileCollectedAt\"])\n",
    "data[\"AccountAge\"] = (data[\"ProfileCollectedAt\"] - data[\"ProfileCreatedAt\"]).astype('timedelta64[h]')\n",
    "\n",
    "data[\"Flwrs/Flwngs\"] = data[\"NumberOfFollowers\"].divide(data[\"NumberOfFollowings\"], fill_value=True)\n",
    "data.replace(np.inf, data[\"NumberOfFollowers\"], inplace = True)\n",
    "\n",
    "data[\"Reputation\"] = data[\"NumberOfFollowers\"].divide((data[\"NumberOfFollowers\"] + data[\"NumberOfFollowings\"]), fill_value=True)\n",
    "data.replace(np.inf, data[\"NumberOfFollowers\"], inplace = True)\n",
    "\n",
    "data[\"FlwngsIncrease\"] = data[\"NumberOfFollowings\"].divide(data[\"AccountAge\"])\n",
    "data.replace(np.inf, data[\"NumberOfFollowings\"], inplace = True)\n",
    "\n",
    "data[\"TweetsPerDay\"]  = data[\"NumberOfTweets\"].divide((data[\"AccountAge\"] / 24), fill_value=True)\n",
    "data.replace(np.inf, data[\"NumberOfTweets\"], inplace = True)\n",
    "\n",
    "data[\"TweetsPerWeek\"]  = data[\"NumberOfTweets\"].divide((data[\"AccountAge\"] / (24 * 7)), fill_value=True)\n",
    "data.replace(np.inf, data[\"NumberOfTweets\"], inplace = True)"
   ]
  },
  {
   "cell_type": "code",
   "execution_count": 223,
   "metadata": {
    "collapsed": false
   },
   "outputs": [
    {
     "ename": "AttributeError",
     "evalue": "Can only use .str accessor with string values, which use np.object_ dtype in pandas",
     "output_type": "error",
     "traceback": [
      "\u001b[0;31m---------------------------------------------------------------------------\u001b[0m",
      "\u001b[0;31mAttributeError\u001b[0m                            Traceback (most recent call last)",
      "\u001b[0;32m<ipython-input-223-b4b4a6e80745>\u001b[0m in \u001b[0;36m<module>\u001b[0;34m()\u001b[0m\n\u001b[0;32m----> 1\u001b[0;31m \u001b[0mdata\u001b[0m\u001b[1;33m[\u001b[0m\u001b[1;34m\"TweetWordsList\"\u001b[0m\u001b[1;33m]\u001b[0m \u001b[1;33m=\u001b[0m \u001b[0mdata\u001b[0m\u001b[1;33m[\u001b[0m\u001b[1;34m\"Tweet\"\u001b[0m\u001b[1;33m]\u001b[0m\u001b[1;33m.\u001b[0m\u001b[0mstr\u001b[0m\u001b[1;33m.\u001b[0m\u001b[0msplit\u001b[0m\u001b[1;33m(\u001b[0m\u001b[1;33m)\u001b[0m\u001b[1;33m\u001b[0m\u001b[0m\n\u001b[0m\u001b[1;32m      2\u001b[0m \u001b[1;31m#data[\"CleanTweet\"] = data[\"Tweet\"].str.split()\u001b[0m\u001b[1;33m\u001b[0m\u001b[1;33m\u001b[0m\u001b[0m\n",
      "\u001b[0;32mC:\\Users\\Daniil_Skokleenko\\AppData\\Local\\Continuum\\Anaconda3\\lib\\site-packages\\pandas\\core\\generic.py\u001b[0m in \u001b[0;36m__getattr__\u001b[0;34m(self, name)\u001b[0m\n\u001b[1;32m   2738\u001b[0m         if (name in self._internal_names_set or name in self._metadata or\n\u001b[1;32m   2739\u001b[0m                 name in self._accessors):\n\u001b[0;32m-> 2740\u001b[0;31m             \u001b[1;32mreturn\u001b[0m \u001b[0mobject\u001b[0m\u001b[1;33m.\u001b[0m\u001b[0m__getattribute__\u001b[0m\u001b[1;33m(\u001b[0m\u001b[0mself\u001b[0m\u001b[1;33m,\u001b[0m \u001b[0mname\u001b[0m\u001b[1;33m)\u001b[0m\u001b[1;33m\u001b[0m\u001b[0m\n\u001b[0m\u001b[1;32m   2741\u001b[0m         \u001b[1;32melse\u001b[0m\u001b[1;33m:\u001b[0m\u001b[1;33m\u001b[0m\u001b[0m\n\u001b[1;32m   2742\u001b[0m             \u001b[1;32mif\u001b[0m \u001b[0mname\u001b[0m \u001b[1;32min\u001b[0m \u001b[0mself\u001b[0m\u001b[1;33m.\u001b[0m\u001b[0m_info_axis\u001b[0m\u001b[1;33m:\u001b[0m\u001b[1;33m\u001b[0m\u001b[0m\n",
      "\u001b[0;32mC:\\Users\\Daniil_Skokleenko\\AppData\\Local\\Continuum\\Anaconda3\\lib\\site-packages\\pandas\\core\\base.py\u001b[0m in \u001b[0;36m__get__\u001b[0;34m(self, instance, owner)\u001b[0m\n\u001b[1;32m    239\u001b[0m             \u001b[1;31m# this ensures that Series.str.<method> is well defined\u001b[0m\u001b[1;33m\u001b[0m\u001b[1;33m\u001b[0m\u001b[0m\n\u001b[1;32m    240\u001b[0m             \u001b[1;32mreturn\u001b[0m \u001b[0mself\u001b[0m\u001b[1;33m.\u001b[0m\u001b[0maccessor_cls\u001b[0m\u001b[1;33m\u001b[0m\u001b[0m\n\u001b[0;32m--> 241\u001b[0;31m         \u001b[1;32mreturn\u001b[0m \u001b[0mself\u001b[0m\u001b[1;33m.\u001b[0m\u001b[0mconstruct_accessor\u001b[0m\u001b[1;33m(\u001b[0m\u001b[0minstance\u001b[0m\u001b[1;33m)\u001b[0m\u001b[1;33m\u001b[0m\u001b[0m\n\u001b[0m\u001b[1;32m    242\u001b[0m \u001b[1;33m\u001b[0m\u001b[0m\n\u001b[1;32m    243\u001b[0m     \u001b[1;32mdef\u001b[0m \u001b[0m__set__\u001b[0m\u001b[1;33m(\u001b[0m\u001b[0mself\u001b[0m\u001b[1;33m,\u001b[0m \u001b[0minstance\u001b[0m\u001b[1;33m,\u001b[0m \u001b[0mvalue\u001b[0m\u001b[1;33m)\u001b[0m\u001b[1;33m:\u001b[0m\u001b[1;33m\u001b[0m\u001b[0m\n",
      "\u001b[0;32mC:\\Users\\Daniil_Skokleenko\\AppData\\Local\\Continuum\\Anaconda3\\lib\\site-packages\\pandas\\core\\strings.py\u001b[0m in \u001b[0;36m_make_str_accessor\u001b[0;34m(self)\u001b[0m\n\u001b[1;32m   1839\u001b[0m             \u001b[1;31m# (instead of test for object dtype), but that isn't practical for\u001b[0m\u001b[1;33m\u001b[0m\u001b[1;33m\u001b[0m\u001b[0m\n\u001b[1;32m   1840\u001b[0m             \u001b[1;31m# performance reasons until we have a str dtype (GH 9343)\u001b[0m\u001b[1;33m\u001b[0m\u001b[1;33m\u001b[0m\u001b[0m\n\u001b[0;32m-> 1841\u001b[0;31m             raise AttributeError(\"Can only use .str accessor with string \"\n\u001b[0m\u001b[1;32m   1842\u001b[0m                                  \u001b[1;34m\"values, which use np.object_ dtype in \"\u001b[0m\u001b[1;33m\u001b[0m\u001b[0m\n\u001b[1;32m   1843\u001b[0m                                  \"pandas\")\n",
      "\u001b[0;31mAttributeError\u001b[0m: Can only use .str accessor with string values, which use np.object_ dtype in pandas"
     ]
    }
   ],
   "source": [
    "data[\"TweetWordsList\"] = data[\"Tweet\"].str.split()\n",
    "#data[\"CleanTweet\"] = data[\"Tweet\"].str.split()"
   ]
  },
  {
   "cell_type": "code",
   "execution_count": 220,
   "metadata": {
    "collapsed": false
   },
   "outputs": [
    {
     "ename": "AttributeError",
     "evalue": "Can only use .str accessor with string values, which use np.object_ dtype in pandas",
     "output_type": "error",
     "traceback": [
      "\u001b[0;31m---------------------------------------------------------------------------\u001b[0m",
      "\u001b[0;31mAttributeError\u001b[0m                            Traceback (most recent call last)",
      "\u001b[0;32m<ipython-input-220-dfcee5907034>\u001b[0m in \u001b[0;36m<module>\u001b[0;34m()\u001b[0m\n\u001b[1;32m      1\u001b[0m \u001b[1;31m#Content features\u001b[0m\u001b[1;33m\u001b[0m\u001b[1;33m\u001b[0m\u001b[0m\n\u001b[0;32m----> 2\u001b[0;31m \u001b[0mdata\u001b[0m\u001b[1;33m[\u001b[0m\u001b[1;34m\"NumberOfWords\"\u001b[0m\u001b[1;33m]\u001b[0m \u001b[1;33m=\u001b[0m \u001b[0mdata\u001b[0m\u001b[1;33m[\u001b[0m\u001b[1;34m\"Tweet\"\u001b[0m\u001b[1;33m]\u001b[0m\u001b[1;33m.\u001b[0m\u001b[0mstr\u001b[0m\u001b[1;33m.\u001b[0m\u001b[0mcount\u001b[0m\u001b[1;33m(\u001b[0m\u001b[1;34m'\\w+'\u001b[0m\u001b[1;33m)\u001b[0m\u001b[1;33m\u001b[0m\u001b[0m\n\u001b[0m\u001b[1;32m      3\u001b[0m \u001b[1;33m\u001b[0m\u001b[0m\n\u001b[1;32m      4\u001b[0m \u001b[0mdata\u001b[0m\u001b[1;33m[\u001b[0m\u001b[1;34m\"NumberOfSymbols\"\u001b[0m\u001b[1;33m]\u001b[0m \u001b[1;33m=\u001b[0m \u001b[0mdata\u001b[0m\u001b[1;33m[\u001b[0m\u001b[1;34m\"Tweet\"\u001b[0m\u001b[1;33m]\u001b[0m\u001b[1;33m.\u001b[0m\u001b[0mstr\u001b[0m\u001b[1;33m.\u001b[0m\u001b[0mlen\u001b[0m\u001b[1;33m(\u001b[0m\u001b[1;33m)\u001b[0m\u001b[1;33m\u001b[0m\u001b[0m\n\u001b[1;32m      5\u001b[0m \u001b[1;33m\u001b[0m\u001b[0m\n",
      "\u001b[0;32mC:\\Users\\Daniil_Skokleenko\\AppData\\Local\\Continuum\\Anaconda3\\lib\\site-packages\\pandas\\core\\generic.py\u001b[0m in \u001b[0;36m__getattr__\u001b[0;34m(self, name)\u001b[0m\n\u001b[1;32m   2738\u001b[0m         if (name in self._internal_names_set or name in self._metadata or\n\u001b[1;32m   2739\u001b[0m                 name in self._accessors):\n\u001b[0;32m-> 2740\u001b[0;31m             \u001b[1;32mreturn\u001b[0m \u001b[0mobject\u001b[0m\u001b[1;33m.\u001b[0m\u001b[0m__getattribute__\u001b[0m\u001b[1;33m(\u001b[0m\u001b[0mself\u001b[0m\u001b[1;33m,\u001b[0m \u001b[0mname\u001b[0m\u001b[1;33m)\u001b[0m\u001b[1;33m\u001b[0m\u001b[0m\n\u001b[0m\u001b[1;32m   2741\u001b[0m         \u001b[1;32melse\u001b[0m\u001b[1;33m:\u001b[0m\u001b[1;33m\u001b[0m\u001b[0m\n\u001b[1;32m   2742\u001b[0m             \u001b[1;32mif\u001b[0m \u001b[0mname\u001b[0m \u001b[1;32min\u001b[0m \u001b[0mself\u001b[0m\u001b[1;33m.\u001b[0m\u001b[0m_info_axis\u001b[0m\u001b[1;33m:\u001b[0m\u001b[1;33m\u001b[0m\u001b[0m\n",
      "\u001b[0;32mC:\\Users\\Daniil_Skokleenko\\AppData\\Local\\Continuum\\Anaconda3\\lib\\site-packages\\pandas\\core\\base.py\u001b[0m in \u001b[0;36m__get__\u001b[0;34m(self, instance, owner)\u001b[0m\n\u001b[1;32m    239\u001b[0m             \u001b[1;31m# this ensures that Series.str.<method> is well defined\u001b[0m\u001b[1;33m\u001b[0m\u001b[1;33m\u001b[0m\u001b[0m\n\u001b[1;32m    240\u001b[0m             \u001b[1;32mreturn\u001b[0m \u001b[0mself\u001b[0m\u001b[1;33m.\u001b[0m\u001b[0maccessor_cls\u001b[0m\u001b[1;33m\u001b[0m\u001b[0m\n\u001b[0;32m--> 241\u001b[0;31m         \u001b[1;32mreturn\u001b[0m \u001b[0mself\u001b[0m\u001b[1;33m.\u001b[0m\u001b[0mconstruct_accessor\u001b[0m\u001b[1;33m(\u001b[0m\u001b[0minstance\u001b[0m\u001b[1;33m)\u001b[0m\u001b[1;33m\u001b[0m\u001b[0m\n\u001b[0m\u001b[1;32m    242\u001b[0m \u001b[1;33m\u001b[0m\u001b[0m\n\u001b[1;32m    243\u001b[0m     \u001b[1;32mdef\u001b[0m \u001b[0m__set__\u001b[0m\u001b[1;33m(\u001b[0m\u001b[0mself\u001b[0m\u001b[1;33m,\u001b[0m \u001b[0minstance\u001b[0m\u001b[1;33m,\u001b[0m \u001b[0mvalue\u001b[0m\u001b[1;33m)\u001b[0m\u001b[1;33m:\u001b[0m\u001b[1;33m\u001b[0m\u001b[0m\n",
      "\u001b[0;32mC:\\Users\\Daniil_Skokleenko\\AppData\\Local\\Continuum\\Anaconda3\\lib\\site-packages\\pandas\\core\\strings.py\u001b[0m in \u001b[0;36m_make_str_accessor\u001b[0;34m(self)\u001b[0m\n\u001b[1;32m   1839\u001b[0m             \u001b[1;31m# (instead of test for object dtype), but that isn't practical for\u001b[0m\u001b[1;33m\u001b[0m\u001b[1;33m\u001b[0m\u001b[0m\n\u001b[1;32m   1840\u001b[0m             \u001b[1;31m# performance reasons until we have a str dtype (GH 9343)\u001b[0m\u001b[1;33m\u001b[0m\u001b[1;33m\u001b[0m\u001b[0m\n\u001b[0;32m-> 1841\u001b[0;31m             raise AttributeError(\"Can only use .str accessor with string \"\n\u001b[0m\u001b[1;32m   1842\u001b[0m                                  \u001b[1;34m\"values, which use np.object_ dtype in \"\u001b[0m\u001b[1;33m\u001b[0m\u001b[0m\n\u001b[1;32m   1843\u001b[0m                                  \"pandas\")\n",
      "\u001b[0;31mAttributeError\u001b[0m: Can only use .str accessor with string values, which use np.object_ dtype in pandas"
     ]
    }
   ],
   "source": [
    "#Content features\n",
    "data[\"NumberOfWords\"] = data[\"Tweet\"].str.count('\\w+')\n",
    "\n",
    "data[\"NumberOfSymbols\"] = data[\"Tweet\"].str.len()\n",
    "\n",
    "data[\"NumberOfSpaces\"] = data[\"Tweet\"].str.count(' ')\n",
    "\n",
    "data[\"NumberOfCl\"] = data[\"Tweet\"].str.count('[A-Z]*')  # ???\n",
    "\n",
    "data[\"ClperWord\"] = data[\"NumberOfCl\"].divide(data[\"NumberOfWords\"]) # ???\n",
    "data.replace(np.inf, data[\"NumberOfCl\"], inplace = True)\n",
    "\n",
    "data['MaxWord'] = -99 # ???\n",
    "\n",
    "data['AvgWord'] = -99 # ???\n",
    "\n",
    "data[\"NumberOfEm\"] = data[\"Tweet\"].str.count('\\!')\n",
    "\n",
    "data[\"NumberOfQm\"] = data[\"Tweet\"].str.count('\\?')\n",
    "\n",
    "data[\"NumberOfURLs\"] = data[\"Tweet\"].str.count('(https://\\S+|http://\\S+)')\n",
    "\n",
    "data[\"URLperWord\"] = data[\"NumberOfURLs\"].divide(data[\"NumberOfWords\"])\n",
    "data.replace(np.inf, data[\"NumberOfURLs\"], inplace = True)\n",
    "\n",
    "data[\"NumberOfMentions\"] = data[\"Tweet\"].str.count('(@\\S+)')\n",
    "\n",
    "data[\"MentionsperWord\"] = data[\"NumberOfMentions\"].divide(data[\"NumberOfWords\"])\n",
    "data.replace(np.inf, data[\"NumberOfMentions\"], inplace = True)\n",
    "\n",
    "data[\"NumberOfHashtags\"] = data[\"Tweet\"].str.count('(#\\S+)')\n",
    "\n",
    "data[\"HashtagsperWord\"] = data[\"NumberOfHashtags\"].divide(data[\"NumberOfWords\"])\n",
    "data.replace(np.inf, data[\"NumberOfHashtags\"], inplace = True)\n",
    "\n",
    "data[\"NumberOfSpamWords\"] = data[\"Tweet\"].str.count('(' + '|'.join(set([x for x in spamwords if all(ord(c) < 128 and c.isalpha() for c in x)])) + ')')\n",
    "\n",
    "data[\"SpamWordsperWord\"] = data[\"NumberOfSpamWords\"].divide(data[\"NumberOfWords\"])\n",
    "data.replace(np.inf, data[\"NumberOfSpamWords\"], inplace = True)\n",
    "\n",
    "\n",
    "#data.fillna(0, inplace = True)"
   ]
  },
  {
   "cell_type": "code",
   "execution_count": 199,
   "metadata": {
    "collapsed": false
   },
   "outputs": [
    {
     "data": {
      "text/html": [
       "<div>\n",
       "<table border=\"1\" class=\"dataframe\">\n",
       "  <thead>\n",
       "    <tr style=\"text-align: right;\">\n",
       "      <th></th>\n",
       "      <th>Tweet</th>\n",
       "      <th>NumberOfWords</th>\n",
       "    </tr>\n",
       "    <tr>\n",
       "      <th>UserID</th>\n",
       "      <th></th>\n",
       "      <th></th>\n",
       "    </tr>\n",
       "  </thead>\n",
       "  <tbody>\n",
       "    <tr>\n",
       "      <th>6301</th>\n",
       "      <td>@ntdesignsMUA Kind of like McFeast. Amazing!!!...</td>\n",
       "      <td>20</td>\n",
       "    </tr>\n",
       "    <tr>\n",
       "      <th>10836</th>\n",
       "      <td>#Techsailor shares: http://bit.ly/9IJ4p9 Explo...</td>\n",
       "      <td>13</td>\n",
       "    </tr>\n",
       "    <tr>\n",
       "      <th>10997</th>\n",
       "      <td>ugh.  woke up.  hoping I can drop off again.</td>\n",
       "      <td>9</td>\n",
       "    </tr>\n",
       "    <tr>\n",
       "      <th>633293</th>\n",
       "      <td>I remember when I didn't HAVE to work at 2am.....</td>\n",
       "      <td>14</td>\n",
       "    </tr>\n",
       "    <tr>\n",
       "      <th>717883</th>\n",
       "      <td>DJ Godfather - Lolli Pop (Detroit Ghetto Tech ...</td>\n",
       "      <td>24</td>\n",
       "    </tr>\n",
       "    <tr>\n",
       "      <th>763068</th>\n",
       "      <td>@educabo well... I've been at the office since...</td>\n",
       "      <td>15</td>\n",
       "    </tr>\n",
       "    <tr>\n",
       "      <th>783705</th>\n",
       "      <td>@smellycents please don't shot anyone</td>\n",
       "      <td>6</td>\n",
       "    </tr>\n",
       "    <tr>\n",
       "      <th>788352</th>\n",
       "      <td>@erincarrasco If anyone is listening... I need...</td>\n",
       "      <td>14</td>\n",
       "    </tr>\n",
       "    <tr>\n",
       "      <th>810011</th>\n",
       "      <td>Workshop #40: Statistika by Smi mc | Audiotuts...</td>\n",
       "      <td>11</td>\n",
       "    </tr>\n",
       "    <tr>\n",
       "      <th>815299</th>\n",
       "      <td>Radiohead vs. Louis Armstrong Mashup - This ga...</td>\n",
       "      <td>15</td>\n",
       "    </tr>\n",
       "    <tr>\n",
       "      <th>817045</th>\n",
       "      <td>That Hobby Looks Like A Lot Of Work  http://ww...</td>\n",
       "      <td>24</td>\n",
       "    </tr>\n",
       "    <tr>\n",
       "      <th>1091571</th>\n",
       "      <td>Lady GaGa: Says \"Slunt out with your cunt out ...</td>\n",
       "      <td>26</td>\n",
       "    </tr>\n",
       "    <tr>\n",
       "      <th>1303381</th>\n",
       "      <td>Watching Scorcese's \"Casino\" - such a freakin'...</td>\n",
       "      <td>15</td>\n",
       "    </tr>\n",
       "    <tr>\n",
       "      <th>1322691</th>\n",
       "      <td>The World Doesn’t Need Someone Telling Us What...</td>\n",
       "      <td>19</td>\n",
       "    </tr>\n",
       "    <tr>\n",
       "      <th>1467621</th>\n",
       "      <td>Profits booked and we are done until the FOMC ...</td>\n",
       "      <td>12</td>\n",
       "    </tr>\n",
       "    <tr>\n",
       "      <th>1599001</th>\n",
       "      <td>SSDs the size of a postage stamp coming soon: ...</td>\n",
       "      <td>13</td>\n",
       "    </tr>\n",
       "    <tr>\n",
       "      <th>1907361</th>\n",
       "      <td>Free File Hosting Made Simple - MediaFire http...</td>\n",
       "      <td>10</td>\n",
       "    </tr>\n",
       "    <tr>\n",
       "      <th>2077351</th>\n",
       "      <td>International telemarketers don't appear to ha...</td>\n",
       "      <td>21</td>\n",
       "    </tr>\n",
       "    <tr>\n",
       "      <th>2157321</th>\n",
       "      <td>@thatkevinsmith http://urlzen.com/1afm</td>\n",
       "      <td>5</td>\n",
       "    </tr>\n",
       "    <tr>\n",
       "      <th>2219081</th>\n",
       "      <td>Lawmakers, Gibbons agree to budget deal that w...</td>\n",
       "      <td>18</td>\n",
       "    </tr>\n",
       "    <tr>\n",
       "      <th>2243161</th>\n",
       "      <td>User warns of social networking apps http://bi...</td>\n",
       "      <td>10</td>\n",
       "    </tr>\n",
       "    <tr>\n",
       "      <th>2269491</th>\n",
       "      <td>11 Beloften voor Meer Positiviteit http://bit....</td>\n",
       "      <td>9</td>\n",
       "    </tr>\n",
       "    <tr>\n",
       "      <th>2695911</th>\n",
       "      <td>Business GazetteHip-hop from the underground: ...</td>\n",
       "      <td>22</td>\n",
       "    </tr>\n",
       "    <tr>\n",
       "      <th>2884771</th>\n",
       "      <td>I Was a Male Weight Watcher http://bit.ly/97aD9B</td>\n",
       "      <td>10</td>\n",
       "    </tr>\n",
       "    <tr>\n",
       "      <th>3060631</th>\n",
       "      <td>Buick Got Back? Insignia Wagons Mysteriously A...</td>\n",
       "      <td>16</td>\n",
       "    </tr>\n",
       "    <tr>\n",
       "      <th>3076591</th>\n",
       "      <td>News at CB: Earn Repeat Commissions For Automa...</td>\n",
       "      <td>14</td>\n",
       "    </tr>\n",
       "    <tr>\n",
       "      <th>3291901</th>\n",
       "      <td>@deidredup The eyes in my bg signify the Unive...</td>\n",
       "      <td>14</td>\n",
       "    </tr>\n",
       "    <tr>\n",
       "      <th>3881391</th>\n",
       "      <td>Its 11pm and just now jettin from Oceans. Than...</td>\n",
       "      <td>21</td>\n",
       "    </tr>\n",
       "    <tr>\n",
       "      <th>3908631</th>\n",
       "      <td>Check out dotcompals' world-click.com “@seolea...</td>\n",
       "      <td>21</td>\n",
       "    </tr>\n",
       "    <tr>\n",
       "      <th>4046051</th>\n",
       "      <td>Spring #Skiing in @Breckenridgemtn. #snow fore...</td>\n",
       "      <td>12</td>\n",
       "    </tr>\n",
       "    <tr>\n",
       "      <th>...</th>\n",
       "      <td>...</td>\n",
       "      <td>...</td>\n",
       "    </tr>\n",
       "    <tr>\n",
       "      <th>93055692</th>\n",
       "      <td>Biofeedback?  Hair gone for good the first tim...</td>\n",
       "      <td>10</td>\n",
       "    </tr>\n",
       "    <tr>\n",
       "      <th>93058189</th>\n",
       "      <td>bom to indo durmir fui ate mais tarde</td>\n",
       "      <td>8</td>\n",
       "    </tr>\n",
       "    <tr>\n",
       "      <th>93061925</th>\n",
       "      <td>with my cupcake :) (haha my beffa) i love u fa...</td>\n",
       "      <td>17</td>\n",
       "    </tr>\n",
       "    <tr>\n",
       "      <th>93070321</th>\n",
       "      <td>i miss u</td>\n",
       "      <td>3</td>\n",
       "    </tr>\n",
       "    <tr>\n",
       "      <th>93071458</th>\n",
       "      <td>Puzzels for bright young children - What is yo...</td>\n",
       "      <td>9</td>\n",
       "    </tr>\n",
       "    <tr>\n",
       "      <th>93099375</th>\n",
       "      <td>なんかまだ頭痛いッス・・・ 呑みすぎなんやね・・・私</td>\n",
       "      <td>3</td>\n",
       "    </tr>\n",
       "    <tr>\n",
       "      <th>93118174</th>\n",
       "      <td>坂本龍馬かわいい。面白い。</td>\n",
       "      <td>2</td>\n",
       "    </tr>\n",
       "    <tr>\n",
       "      <th>93121803</th>\n",
       "      <td>@Ethaannn ur my first follower</td>\n",
       "      <td>5</td>\n",
       "    </tr>\n",
       "    <tr>\n",
       "      <th>93129749</th>\n",
       "      <td>Lots of lyric tweets coming your way</td>\n",
       "      <td>7</td>\n",
       "    </tr>\n",
       "    <tr>\n",
       "      <th>93139606</th>\n",
       "      <td>@munatul ooh iya, ni gue lagi nungguin panji. hmm</td>\n",
       "      <td>9</td>\n",
       "    </tr>\n",
       "    <tr>\n",
       "      <th>93156080</th>\n",
       "      <td>@mirafebriani kemaren baru ngumpul lagiiii.......</td>\n",
       "      <td>12</td>\n",
       "    </tr>\n",
       "    <tr>\n",
       "      <th>93179406</th>\n",
       "      <td>@hollywills I am deeply in love with Lloyd, I ...</td>\n",
       "      <td>20</td>\n",
       "    </tr>\n",
       "    <tr>\n",
       "      <th>93189641</th>\n",
       "      <td>Ema just threw her comb into a bowl of cocopop...</td>\n",
       "      <td>12</td>\n",
       "    </tr>\n",
       "    <tr>\n",
       "      <th>93213066</th>\n",
       "      <td>... aliás , alguem sabe a hora do próximo ?</td>\n",
       "      <td>7</td>\n",
       "    </tr>\n",
       "    <tr>\n",
       "      <th>93229688</th>\n",
       "      <td>http://twitpic.com/rg8s2 - BOOBiESz</td>\n",
       "      <td>5</td>\n",
       "    </tr>\n",
       "    <tr>\n",
       "      <th>93258789</th>\n",
       "      <td>昼食は鶏そぼろ弁当。コンビニ万歳！</td>\n",
       "      <td>2</td>\n",
       "    </tr>\n",
       "    <tr>\n",
       "      <th>93271119</th>\n",
       "      <td>i did not like twitter :/</td>\n",
       "      <td>5</td>\n",
       "    </tr>\n",
       "    <tr>\n",
       "      <th>93314424</th>\n",
       "      <td>@DeRayDavis Follow Me Man.</td>\n",
       "      <td>4</td>\n",
       "    </tr>\n",
       "    <tr>\n",
       "      <th>93337503</th>\n",
       "      <td>やぁ、調子どう？(´・ω・｀)</td>\n",
       "      <td>3</td>\n",
       "    </tr>\n",
       "    <tr>\n",
       "      <th>93340898</th>\n",
       "      <td>@Lindsey_bieberx Me too.</td>\n",
       "      <td>3</td>\n",
       "    </tr>\n",
       "    <tr>\n",
       "      <th>93342019</th>\n",
       "      <td>Betty's Hat Wedding Invitation http://bit.ly/5...</td>\n",
       "      <td>9</td>\n",
       "    </tr>\n",
       "    <tr>\n",
       "      <th>93362225</th>\n",
       "      <td>team Edward because of Robert Pattinson! :-)</td>\n",
       "      <td>6</td>\n",
       "    </tr>\n",
       "    <tr>\n",
       "      <th>93378157</th>\n",
       "      <td>comment sa marche</td>\n",
       "      <td>3</td>\n",
       "    </tr>\n",
       "    <tr>\n",
       "      <th>93386957</th>\n",
       "      <td>Cause all of the stars Are fading away Just tr...</td>\n",
       "      <td>24</td>\n",
       "    </tr>\n",
       "    <tr>\n",
       "      <th>93390803</th>\n",
       "      <td>@restartfas boom dia :D</td>\n",
       "      <td>4</td>\n",
       "    </tr>\n",
       "    <tr>\n",
       "      <th>93390990</th>\n",
       "      <td>Achieved level 16! #epicpetwars http://www.epi...</td>\n",
       "      <td>8</td>\n",
       "    </tr>\n",
       "    <tr>\n",
       "      <th>93402679</th>\n",
       "      <td>my twitter</td>\n",
       "      <td>2</td>\n",
       "    </tr>\n",
       "    <tr>\n",
       "      <th>93419256</th>\n",
       "      <td>exploring this thing...</td>\n",
       "      <td>3</td>\n",
       "    </tr>\n",
       "    <tr>\n",
       "      <th>93426370</th>\n",
       "      <td>learning the rap ice ice baby LOL, not very gd...</td>\n",
       "      <td>18</td>\n",
       "    </tr>\n",
       "    <tr>\n",
       "      <th>93442002</th>\n",
       "      <td>Clipse, B.o.B и J.Cole</td>\n",
       "      <td>7</td>\n",
       "    </tr>\n",
       "  </tbody>\n",
       "</table>\n",
       "<p>39896 rows × 2 columns</p>\n",
       "</div>"
      ],
      "text/plain": [
       "                                                      Tweet  NumberOfWords\n",
       "UserID                                                                    \n",
       "6301      @ntdesignsMUA Kind of like McFeast. Amazing!!!...             20\n",
       "10836     #Techsailor shares: http://bit.ly/9IJ4p9 Explo...             13\n",
       "10997          ugh.  woke up.  hoping I can drop off again.              9\n",
       "633293    I remember when I didn't HAVE to work at 2am.....             14\n",
       "717883    DJ Godfather - Lolli Pop (Detroit Ghetto Tech ...             24\n",
       "763068    @educabo well... I've been at the office since...             15\n",
       "783705                @smellycents please don't shot anyone              6\n",
       "788352    @erincarrasco If anyone is listening... I need...             14\n",
       "810011    Workshop #40: Statistika by Smi mc | Audiotuts...             11\n",
       "815299    Radiohead vs. Louis Armstrong Mashup - This ga...             15\n",
       "817045    That Hobby Looks Like A Lot Of Work  http://ww...             24\n",
       "1091571   Lady GaGa: Says \"Slunt out with your cunt out ...             26\n",
       "1303381   Watching Scorcese's \"Casino\" - such a freakin'...             15\n",
       "1322691   The World Doesn’t Need Someone Telling Us What...             19\n",
       "1467621   Profits booked and we are done until the FOMC ...             12\n",
       "1599001   SSDs the size of a postage stamp coming soon: ...             13\n",
       "1907361   Free File Hosting Made Simple - MediaFire http...             10\n",
       "2077351   International telemarketers don't appear to ha...             21\n",
       "2157321              @thatkevinsmith http://urlzen.com/1afm              5\n",
       "2219081   Lawmakers, Gibbons agree to budget deal that w...             18\n",
       "2243161   User warns of social networking apps http://bi...             10\n",
       "2269491   11 Beloften voor Meer Positiviteit http://bit....              9\n",
       "2695911   Business GazetteHip-hop from the underground: ...             22\n",
       "2884771    I Was a Male Weight Watcher http://bit.ly/97aD9B             10\n",
       "3060631   Buick Got Back? Insignia Wagons Mysteriously A...             16\n",
       "3076591   News at CB: Earn Repeat Commissions For Automa...             14\n",
       "3291901   @deidredup The eyes in my bg signify the Unive...             14\n",
       "3881391   Its 11pm and just now jettin from Oceans. Than...             21\n",
       "3908631   Check out dotcompals' world-click.com “@seolea...             21\n",
       "4046051   Spring #Skiing in @Breckenridgemtn. #snow fore...             12\n",
       "...                                                     ...            ...\n",
       "93055692  Biofeedback?  Hair gone for good the first tim...             10\n",
       "93058189              bom to indo durmir fui ate mais tarde              8\n",
       "93061925  with my cupcake :) (haha my beffa) i love u fa...             17\n",
       "93070321                                           i miss u              3\n",
       "93071458  Puzzels for bright young children - What is yo...              9\n",
       "93099375                         なんかまだ頭痛いッス・・・ 呑みすぎなんやね・・・私              3\n",
       "93118174                                      坂本龍馬かわいい。面白い。              2\n",
       "93121803                     @Ethaannn ur my first follower              5\n",
       "93129749               Lots of lyric tweets coming your way              7\n",
       "93139606  @munatul ooh iya, ni gue lagi nungguin panji. hmm              9\n",
       "93156080  @mirafebriani kemaren baru ngumpul lagiiii.......             12\n",
       "93179406  @hollywills I am deeply in love with Lloyd, I ...             20\n",
       "93189641  Ema just threw her comb into a bowl of cocopop...             12\n",
       "93213066        ... aliás , alguem sabe a hora do próximo ?              7\n",
       "93229688                http://twitpic.com/rg8s2 - BOOBiESz              5\n",
       "93258789                                  昼食は鶏そぼろ弁当。コンビニ万歳！              2\n",
       "93271119                          i did not like twitter :/              5\n",
       "93314424                         @DeRayDavis Follow Me Man.              4\n",
       "93337503                                    やぁ、調子どう？(´・ω・｀)              3\n",
       "93340898                           @Lindsey_bieberx Me too.              3\n",
       "93342019  Betty's Hat Wedding Invitation http://bit.ly/5...              9\n",
       "93362225       team Edward because of Robert Pattinson! :-)              6\n",
       "93378157                                  comment sa marche              3\n",
       "93386957  Cause all of the stars Are fading away Just tr...             24\n",
       "93390803                            @restartfas boom dia :D              4\n",
       "93390990  Achieved level 16! #epicpetwars http://www.epi...              8\n",
       "93402679                                         my twitter              2\n",
       "93419256                            exploring this thing...              3\n",
       "93426370  learning the rap ice ice baby LOL, not very gd...             18\n",
       "93442002                             Clipse, B.o.B и J.Cole              7\n",
       "\n",
       "[39896 rows x 2 columns]"
      ]
     },
     "execution_count": 199,
     "metadata": {},
     "output_type": "execute_result"
    }
   ],
   "source": [
    "data[[\"Tweet\",\"NumberOfWords\"]]"
   ]
  },
  {
   "cell_type": "code",
   "execution_count": 15,
   "metadata": {
    "collapsed": false
   },
   "outputs": [
    {
     "data": {
      "image/png": "[encoded data removed]",
      "text/plain": [
       "<matplotlib.figure.Figure at 0x1fc01e95588>"
      ]
     },
     "metadata": {},
     "output_type": "display_data"
    }
   ],
   "source": [
    "plt.rcParams['figure.figsize'] = (20,7)\n",
    "plt.rcParams['font.size'] = 25   \n",
    "\n",
    "data0=data[data.Reputation > .1]\n",
    "plt.hist([data0[data0.IsSpammer==1].Reputation.values,\n",
    "          data0[data0.IsSpammer==0].Reputation.values],label=[\"Спамер\",\"Легитимный пользователь\"],\n",
    "          alpha = .99)\n",
    "plt.legend()\n",
    "plt.xlabel(\"Репутация\")\n",
    "plt.ylabel(\"Количество пользователей\")\n",
    "plt.savefig(\"reputation.png\")\n",
    "plt.show()"
   ]
  },
  {
   "cell_type": "code",
   "execution_count": 16,
   "metadata": {
    "collapsed": false
   },
   "outputs": [],
   "source": [
    "feature_cols = { \"UserFeatures\" : [\n",
    "                                \"LengthOfScreenName\",\n",
    "                                \"LengthOfDescriptionInUserProfile\",\n",
    "                                \"NumberOfFollowings\",\n",
    "                                \"NumberOfFollowers\",\n",
    "                                \"NumberOfTweets\",\n",
    "                                \"AccountAge\",\n",
    "                                \"Flwrs/Flwngs\",\n",
    "                                \"FlwngsIncrease\",\n",
    "                                \"TweetsPerDay\",\n",
    "                                \"TweetsPerWeek\"\n",
    "                                ],\n",
    "               \"ContentFeatures\":[ \n",
    "                                  \"NumberOfWords\",\n",
    "                                  \"NumberOfSymbols\",\n",
    "                                  \"NumberOfSpaces\",\n",
    "                                  \"NumberOfEm\",\n",
    "                                  \"NumberOfQm\",\n",
    "                                  \"NumberOfURLs\",\n",
    "                                  \"NumberOfHashtags\",\n",
    "                                  \"NumberOfMentions\",\n",
    "                                  \"NumberOfSpamWords\"\n",
    "                                ],\n",
    " \n",
    "               }\n",
    "X = data[feature_cols[\"UserFeatures\"] + feature_cols[\"ContentFeatures\"]]\n",
    "Y = data['IsSpammer']\n",
    "\n",
    "#X = (X - ((X.max() - X.min()) / 2)) / ((X.max() - X.min())/2)\n",
    "#X = (X - X.mean())/ ((X.max() - X.min())/2)\n",
    "#№X.max()"
   ]
  },
  {
   "cell_type": "code",
   "execution_count": 18,
   "metadata": {
    "collapsed": false
   },
   "outputs": [],
   "source": [
    "X_train, X_test, Y_train, Y_test = cross_validation.train_test_split(X, Y, train_size=0.4, random_state = 0)"
   ]
  },
  {
   "cell_type": "code",
   "execution_count": 19,
   "metadata": {
    "collapsed": true
   },
   "outputs": [],
   "source": [
    "def print_report(RealValues, PredictedValues ):\n",
    "    print('Accuracy: ' + str(metrics.accuracy_score(RealValues, PredictedValues)))\n",
    "    print('\\n' + 'Classification report:')\n",
    "    print(metrics.classification_report(RealValues, PredictedValues))\n",
    "    print('\\n' + 'Confusion matrix: ')\n",
    "    print(metrics.confusion_matrix(RealValues, PredictedValues))\n",
    "\n",
    "def print_cross_validation(model, X, Y):\n",
    "    scores = cross_validation.cross_val_score(model, X, Y, cv=10, scoring='accuracy')\n",
    "    #print(scores)\n",
    "    print('Cross Validation Score: ' + str(scores.mean()))"
   ]
  },
  {
   "cell_type": "code",
   "execution_count": 20,
   "metadata": {
    "collapsed": false
   },
   "outputs": [],
   "source": [
    "cv = cross_validation.StratifiedShuffleSplit(Y_train, n_iter = 10, test_size = 0.2, random_state = 0)"
   ]
  },
  {
   "cell_type": "markdown",
   "metadata": {},
   "source": [
    "## KNN"
   ]
  },
  {
   "cell_type": "code",
   "execution_count": 21,
   "metadata": {
    "collapsed": false
   },
   "outputs": [],
   "source": [
    "knn = neighbors.KNeighborsClassifier()\n",
    "#knn.get_params().keys()"
   ]
  },
  {
   "cell_type": "code",
   "execution_count": 22,
   "metadata": {
    "collapsed": true
   },
   "outputs": [],
   "source": [
    "parameters_grid = {\n",
    "    'n_neighbors' : [1, 3, 5, 7, 9, 11, 13, 15, 17, 19],\n",
    "    'weights' :  ['uniform', 'distance'],\n",
    "}"
   ]
  },
  {
   "cell_type": "code",
   "execution_count": 23,
   "metadata": {
    "collapsed": false
   },
   "outputs": [],
   "source": [
    "grid_cv = grid_search.GridSearchCV(knn, parameters_grid, scoring = 'accuracy', cv = cv)"
   ]
  },
  {
   "cell_type": "code",
   "execution_count": 24,
   "metadata": {
    "collapsed": false
   },
   "outputs": [
    {
     "name": "stdout",
     "output_type": "stream",
     "text": [
      "Wall time: 31.4 s\n"
     ]
    },
    {
     "data": {
      "text/plain": [
       "GridSearchCV(cv=StratifiedShuffleSplit(labels=[1 1 ..., 0 1], n_iter=10, test_size=0.2, random_state=0),\n",
       "       error_score='raise',\n",
       "       estimator=KNeighborsClassifier(algorithm='auto', leaf_size=30, metric='minkowski',\n",
       "           metric_params=None, n_jobs=1, n_neighbors=5, p=2,\n",
       "           weights='uniform'),\n",
       "       fit_params={}, iid=True, n_jobs=1,\n",
       "       param_grid={'n_neighbors': [1, 3, 5, 7, 9, 11, 13, 15, 17, 19], 'weights': ['uniform', 'distance']},\n",
       "       pre_dispatch='2*n_jobs', refit=True, scoring='accuracy', verbose=0)"
      ]
     },
     "execution_count": 24,
     "metadata": {},
     "output_type": "execute_result"
    }
   ],
   "source": [
    "%%time\n",
    "grid_cv.fit(X_train, Y_train)"
   ]
  },
  {
   "cell_type": "code",
   "execution_count": 25,
   "metadata": {
    "collapsed": false
   },
   "outputs": [
    {
     "name": "stdout",
     "output_type": "stream",
     "text": [
      "Accuracy: 0.882655192581\n",
      "\n",
      "Classification report:\n",
      "             precision    recall  f1-score   support\n",
      "\n",
      "          0       0.87      0.89      0.88     11575\n",
      "          1       0.90      0.87      0.88     12363\n",
      "\n",
      "avg / total       0.88      0.88      0.88     23938\n",
      "\n",
      "\n",
      "Confusion matrix: \n",
      "[[10328  1247]\n",
      " [ 1562 10801]]\n",
      "Cross Validation Score: 0.729896333646\n"
     ]
    }
   ],
   "source": [
    "best_estimator = grid_cv.best_estimator_\n",
    "Y_pred = best_estimator.predict(X_test)\n",
    "print_report(Y_test, Y_pred)\n",
    "print_cross_validation(best_estimator, X, Y)"
   ]
  },
  {
   "cell_type": "code",
   "execution_count": 26,
   "metadata": {
    "collapsed": false
   },
   "outputs": [
    {
     "name": "stdout",
     "output_type": "stream",
     "text": [
      "0.8803258145363408\n",
      "{'n_neighbors': 11, 'weights': 'distance'}\n"
     ]
    }
   ],
   "source": [
    "print (grid_cv.best_score_)\n",
    "print (grid_cv.best_params_)"
   ]
  },
  {
   "cell_type": "code",
   "execution_count": 27,
   "metadata": {
    "collapsed": false
   },
   "outputs": [
    {
     "data": {
      "text/plain": [
       "[mean: 0.84737, std: 0.00544, params: {'n_neighbors': 1, 'weights': 'uniform'},\n",
       " mean: 0.84737, std: 0.00544, params: {'n_neighbors': 1, 'weights': 'distance'},\n",
       " mean: 0.86964, std: 0.00461, params: {'n_neighbors': 3, 'weights': 'uniform'},\n",
       " mean: 0.86886, std: 0.00389, params: {'n_neighbors': 3, 'weights': 'distance'},\n",
       " mean: 0.87675, std: 0.00590, params: {'n_neighbors': 5, 'weights': 'uniform'},\n",
       " mean: 0.87691, std: 0.00524, params: {'n_neighbors': 5, 'weights': 'distance'},\n",
       " mean: 0.87785, std: 0.00495, params: {'n_neighbors': 7, 'weights': 'uniform'},\n",
       " mean: 0.87832, std: 0.00491, params: {'n_neighbors': 7, 'weights': 'distance'},\n",
       " mean: 0.87863, std: 0.00570, params: {'n_neighbors': 9, 'weights': 'uniform'},\n",
       " mean: 0.88004, std: 0.00509, params: {'n_neighbors': 9, 'weights': 'distance'},\n",
       " mean: 0.87794, std: 0.00514, params: {'n_neighbors': 11, 'weights': 'uniform'},\n",
       " mean: 0.88033, std: 0.00537, params: {'n_neighbors': 11, 'weights': 'distance'},\n",
       " mean: 0.87607, std: 0.00452, params: {'n_neighbors': 13, 'weights': 'uniform'},\n",
       " mean: 0.87986, std: 0.00444, params: {'n_neighbors': 13, 'weights': 'distance'},\n",
       " mean: 0.87569, std: 0.00418, params: {'n_neighbors': 15, 'weights': 'uniform'},\n",
       " mean: 0.87910, std: 0.00450, params: {'n_neighbors': 15, 'weights': 'distance'},\n",
       " mean: 0.87572, std: 0.00568, params: {'n_neighbors': 17, 'weights': 'uniform'},\n",
       " mean: 0.87901, std: 0.00501, params: {'n_neighbors': 17, 'weights': 'distance'},\n",
       " mean: 0.87466, std: 0.00519, params: {'n_neighbors': 19, 'weights': 'uniform'},\n",
       " mean: 0.87860, std: 0.00497, params: {'n_neighbors': 19, 'weights': 'distance'}]"
      ]
     },
     "execution_count": 27,
     "metadata": {},
     "output_type": "execute_result"
    }
   ],
   "source": [
    "grid_cv.grid_scores_"
   ]
  },
  {
   "cell_type": "markdown",
   "metadata": {},
   "source": [
    "## Naive Bayes"
   ]
  },
  {
   "cell_type": "code",
   "execution_count": 28,
   "metadata": {
    "collapsed": false
   },
   "outputs": [
    {
     "data": {
      "text/plain": [
       "dict_keys(['alpha', 'binarize', 'class_prior', 'fit_prior'])"
      ]
     },
     "execution_count": 28,
     "metadata": {},
     "output_type": "execute_result"
    }
   ],
   "source": [
    "bern = naive_bayes.BernoulliNB()\n",
    "bern.get_params().keys()"
   ]
  },
  {
   "cell_type": "code",
   "execution_count": 29,
   "metadata": {
    "collapsed": false
   },
   "outputs": [],
   "source": [
    "parameters_grid = {\n",
    "    'fit_prior' : [True, False],\n",
    "}"
   ]
  },
  {
   "cell_type": "code",
   "execution_count": 30,
   "metadata": {
    "collapsed": true
   },
   "outputs": [],
   "source": [
    "grid_cv = grid_search.GridSearchCV(bern, parameters_grid, scoring = 'accuracy', cv = cv)"
   ]
  },
  {
   "cell_type": "code",
   "execution_count": 31,
   "metadata": {
    "collapsed": false
   },
   "outputs": [
    {
     "name": "stdout",
     "output_type": "stream",
     "text": [
      "Wall time: 615 ms\n"
     ]
    },
    {
     "data": {
      "text/plain": [
       "GridSearchCV(cv=StratifiedShuffleSplit(labels=[1 1 ..., 0 1], n_iter=10, test_size=0.2, random_state=0),\n",
       "       error_score='raise',\n",
       "       estimator=BernoulliNB(alpha=1.0, binarize=0.0, class_prior=None, fit_prior=True),\n",
       "       fit_params={}, iid=True, n_jobs=1,\n",
       "       param_grid={'fit_prior': [True, False]}, pre_dispatch='2*n_jobs',\n",
       "       refit=True, scoring='accuracy', verbose=0)"
      ]
     },
     "execution_count": 31,
     "metadata": {},
     "output_type": "execute_result"
    }
   ],
   "source": [
    "%%time\n",
    "grid_cv.fit(X_train, Y_train)"
   ]
  },
  {
   "cell_type": "code",
   "execution_count": 32,
   "metadata": {
    "collapsed": false
   },
   "outputs": [
    {
     "name": "stdout",
     "output_type": "stream",
     "text": [
      "Accuracy: 0.761132926727\n",
      "\n",
      "Classification report:\n",
      "             precision    recall  f1-score   support\n",
      "\n",
      "          0       0.72      0.83      0.77     11575\n",
      "          1       0.81      0.70      0.75     12363\n",
      "\n",
      "avg / total       0.77      0.76      0.76     23938\n",
      "\n",
      "\n",
      "Confusion matrix: \n",
      "[[9578 1997]\n",
      " [3721 8642]]\n",
      "Cross Validation Score: 0.755640042819\n"
     ]
    }
   ],
   "source": [
    "best_estimator = grid_cv.best_estimator_\n",
    "Y_pred = best_estimator.predict(X_test)\n",
    "print_report(Y_test, Y_pred)\n",
    "print_cross_validation(best_estimator, X, Y)"
   ]
  },
  {
   "cell_type": "code",
   "execution_count": 33,
   "metadata": {
    "collapsed": false
   },
   "outputs": [
    {
     "name": "stdout",
     "output_type": "stream",
     "text": [
      "0.7559210526315789\n",
      "{'fit_prior': False}\n"
     ]
    }
   ],
   "source": [
    "print (grid_cv.best_score_)\n",
    "print (grid_cv.best_params_)"
   ]
  },
  {
   "cell_type": "code",
   "execution_count": 34,
   "metadata": {
    "collapsed": false
   },
   "outputs": [
    {
     "data": {
      "text/plain": [
       "[mean: 0.75545, std: 0.00989, params: {'fit_prior': True},\n",
       " mean: 0.75592, std: 0.00899, params: {'fit_prior': False}]"
      ]
     },
     "execution_count": 34,
     "metadata": {},
     "output_type": "execute_result"
    }
   ],
   "source": [
    "grid_cv.grid_scores_"
   ]
  },
  {
   "cell_type": "markdown",
   "metadata": {},
   "source": [
    "## Decision Tree"
   ]
  },
  {
   "cell_type": "code",
   "execution_count": 35,
   "metadata": {
    "collapsed": false
   },
   "outputs": [
    {
     "data": {
      "text/plain": [
       "dict_keys(['class_weight', 'criterion', 'max_depth', 'max_features', 'max_leaf_nodes', 'min_impurity_split', 'min_samples_leaf', 'min_samples_split', 'min_weight_fraction_leaf', 'presort', 'random_state', 'splitter'])"
      ]
     },
     "execution_count": 35,
     "metadata": {},
     "output_type": "execute_result"
    }
   ],
   "source": [
    "dt = tree.DecisionTreeClassifier()\n",
    "dt.get_params().keys()"
   ]
  },
  {
   "cell_type": "code",
   "execution_count": 37,
   "metadata": {
    "collapsed": false
   },
   "outputs": [],
   "source": [
    "parameters_grid = {\n",
    "    'criterion'  : ['gini', 'entropy'],\n",
    "    'splitter' : ['best','random'],\n",
    "    'max_depth' : [1, 2, 3, None]\n",
    "}"
   ]
  },
  {
   "cell_type": "code",
   "execution_count": 38,
   "metadata": {
    "collapsed": true
   },
   "outputs": [],
   "source": [
    "grid_cv = grid_search.GridSearchCV(dt, parameters_grid, scoring = 'accuracy', cv = cv)"
   ]
  },
  {
   "cell_type": "code",
   "execution_count": 39,
   "metadata": {
    "collapsed": false
   },
   "outputs": [
    {
     "name": "stdout",
     "output_type": "stream",
     "text": [
      "Wall time: 8.63 s\n"
     ]
    },
    {
     "data": {
      "text/plain": [
       "GridSearchCV(cv=StratifiedShuffleSplit(labels=[1 1 ..., 0 1], n_iter=10, test_size=0.2, random_state=0),\n",
       "       error_score='raise',\n",
       "       estimator=DecisionTreeClassifier(class_weight=None, criterion='gini', max_depth=None,\n",
       "            max_features=None, max_leaf_nodes=None,\n",
       "            min_impurity_split=1e-07, min_samples_leaf=1,\n",
       "            min_samples_split=2, min_weight_fraction_leaf=0.0,\n",
       "            presort=False, random_state=None, splitter='best'),\n",
       "       fit_params={}, iid=True, n_jobs=1,\n",
       "       param_grid={'criterion': ['gini', 'entropy'], 'splitter': ['best', 'random'], 'max_depth': [1, 2, 3, None]},\n",
       "       pre_dispatch='2*n_jobs', refit=True, scoring='accuracy', verbose=0)"
      ]
     },
     "execution_count": 39,
     "metadata": {},
     "output_type": "execute_result"
    }
   ],
   "source": [
    "%%time\n",
    "grid_cv.fit(X_train, Y_train)"
   ]
  },
  {
   "cell_type": "code",
   "execution_count": 40,
   "metadata": {
    "collapsed": false
   },
   "outputs": [
    {
     "name": "stdout",
     "output_type": "stream",
     "text": [
      "Accuracy: 0.884994569304\n",
      "\n",
      "Classification report:\n",
      "             precision    recall  f1-score   support\n",
      "\n",
      "          0       0.88      0.88      0.88     11575\n",
      "          1       0.89      0.89      0.89     12363\n",
      "\n",
      "avg / total       0.88      0.88      0.88     23938\n",
      "\n",
      "\n",
      "Confusion matrix: \n",
      "[[10201  1374]\n",
      " [ 1379 10984]]\n",
      "Cross Validation Score: 0.841311787963\n"
     ]
    }
   ],
   "source": [
    "best_estimator = grid_cv.best_estimator_\n",
    "Y_pred = best_estimator.predict(X_test)\n",
    "print_report(Y_test, Y_pred)\n",
    "print_cross_validation(best_estimator, X, Y)"
   ]
  },
  {
   "cell_type": "code",
   "execution_count": 41,
   "metadata": {
    "collapsed": false
   },
   "outputs": [
    {
     "name": "stdout",
     "output_type": "stream",
     "text": [
      "0.8817042606516291\n",
      "{'criterion': 'entropy', 'max_depth': None, 'splitter': 'best'}\n"
     ]
    }
   ],
   "source": [
    "print (grid_cv.best_score_)\n",
    "print (grid_cv.best_params_)"
   ]
  },
  {
   "cell_type": "code",
   "execution_count": 42,
   "metadata": {
    "collapsed": false
   },
   "outputs": [
    {
     "data": {
      "text/plain": [
       "[mean: 0.84170, std: 0.00672, params: {'criterion': 'gini', 'max_depth': 1, 'splitter': 'best'},\n",
       " mean: 0.53982, std: 0.03347, params: {'criterion': 'gini', 'max_depth': 1, 'splitter': 'random'},\n",
       " mean: 0.84170, std: 0.00672, params: {'criterion': 'gini', 'max_depth': 2, 'splitter': 'best'},\n",
       " mean: 0.60655, std: 0.02840, params: {'criterion': 'gini', 'max_depth': 2, 'splitter': 'random'},\n",
       " mean: 0.87099, std: 0.00607, params: {'criterion': 'gini', 'max_depth': 3, 'splitter': 'best'},\n",
       " mean: 0.61147, std: 0.02576, params: {'criterion': 'gini', 'max_depth': 3, 'splitter': 'random'},\n",
       " mean: 0.87876, std: 0.00916, params: {'criterion': 'gini', 'max_depth': None, 'splitter': 'best'},\n",
       " mean: 0.86720, std: 0.01064, params: {'criterion': 'gini', 'max_depth': None, 'splitter': 'random'},\n",
       " mean: 0.84198, std: 0.00627, params: {'criterion': 'entropy', 'max_depth': 1, 'splitter': 'best'},\n",
       " mean: 0.57578, std: 0.02964, params: {'criterion': 'entropy', 'max_depth': 1, 'splitter': 'random'},\n",
       " mean: 0.84198, std: 0.00627, params: {'criterion': 'entropy', 'max_depth': 2, 'splitter': 'best'},\n",
       " mean: 0.60896, std: 0.04988, params: {'criterion': 'entropy', 'max_depth': 2, 'splitter': 'random'},\n",
       " mean: 0.86877, std: 0.00543, params: {'criterion': 'entropy', 'max_depth': 3, 'splitter': 'best'},\n",
       " mean: 0.65573, std: 0.05229, params: {'criterion': 'entropy', 'max_depth': 3, 'splitter': 'random'},\n",
       " mean: 0.88170, std: 0.00412, params: {'criterion': 'entropy', 'max_depth': None, 'splitter': 'best'},\n",
       " mean: 0.86548, std: 0.01034, params: {'criterion': 'entropy', 'max_depth': None, 'splitter': 'random'}]"
      ]
     },
     "execution_count": 42,
     "metadata": {},
     "output_type": "execute_result"
    }
   ],
   "source": [
    "grid_cv.grid_scores_"
   ]
  },
  {
   "cell_type": "markdown",
   "metadata": {},
   "source": [
    "## Random Forest"
   ]
  },
  {
   "cell_type": "code",
   "execution_count": 43,
   "metadata": {
    "collapsed": false,
    "scrolled": true
   },
   "outputs": [],
   "source": [
    "rfc = ensemble.RandomForestClassifier()\n",
    "#rfc.get_params().keys()"
   ]
  },
  {
   "cell_type": "code",
   "execution_count": 44,
   "metadata": {
    "collapsed": false
   },
   "outputs": [],
   "source": [
    "parameters_grid = {\n",
    "    'n_estimators' : list(range(1,20)),\n",
    "    'criterion' : ['gini','entropy'],\n",
    "    'max_depth' : [1,2,3,4,5,None],\n",
    "    'bootstrap' : [True, False],\n",
    "}"
   ]
  },
  {
   "cell_type": "code",
   "execution_count": 45,
   "metadata": {
    "collapsed": true
   },
   "outputs": [],
   "source": [
    "grid_cv = grid_search.GridSearchCV(rfc, parameters_grid, scoring = 'accuracy', cv = cv)"
   ]
  },
  {
   "cell_type": "code",
   "execution_count": 46,
   "metadata": {
    "collapsed": false
   },
   "outputs": [
    {
     "name": "stdout",
     "output_type": "stream",
     "text": [
      "Wall time: 11min 27s\n"
     ]
    },
    {
     "data": {
      "text/plain": [
       "GridSearchCV(cv=StratifiedShuffleSplit(labels=[1 1 ..., 0 1], n_iter=10, test_size=0.2, random_state=0),\n",
       "       error_score='raise',\n",
       "       estimator=RandomForestClassifier(bootstrap=True, class_weight=None, criterion='gini',\n",
       "            max_depth=None, max_features='auto', max_leaf_nodes=None,\n",
       "            min_impurity_split=1e-07, min_samples_leaf=1,\n",
       "            min_samples_split=2, min_weight_fraction_leaf=0.0,\n",
       "            n_estimators=10, n_jobs=1, oob_score=False, random_state=None,\n",
       "            verbose=0, warm_start=False),\n",
       "       fit_params={}, iid=True, n_jobs=1,\n",
       "       param_grid={'n_estimators': [1, 2, 3, 4, 5, 6, 7, 8, 9, 10, 11, 12, 13, 14, 15, 16, 17, 18, 19], 'criterion': ['gini', 'entropy'], 'max_depth': [1, 2, 3, 4, 5, None], 'bootstrap': [True, False]},\n",
       "       pre_dispatch='2*n_jobs', refit=True, scoring='accuracy', verbose=0)"
      ]
     },
     "execution_count": 46,
     "metadata": {},
     "output_type": "execute_result"
    }
   ],
   "source": [
    "%%time\n",
    "grid_cv.fit(X_train, Y_train)"
   ]
  },
  {
   "cell_type": "code",
   "execution_count": 47,
   "metadata": {
    "collapsed": false
   },
   "outputs": [
    {
     "name": "stdout",
     "output_type": "stream",
     "text": [
      "Accuracy: 0.925432366948\n",
      "\n",
      "Classification report:\n",
      "             precision    recall  f1-score   support\n",
      "\n",
      "          0       0.94      0.91      0.92     11575\n",
      "          1       0.92      0.94      0.93     12363\n",
      "\n",
      "avg / total       0.93      0.93      0.93     23938\n",
      "\n",
      "\n",
      "Confusion matrix: \n",
      "[[10516  1059]\n",
      " [  726 11637]]\n",
      "Cross Validation Score: 0.888781692355\n"
     ]
    }
   ],
   "source": [
    "best_estimator = grid_cv.best_estimator_\n",
    "Y_pred = best_estimator.predict(X_test)\n",
    "print_report(Y_test, Y_pred)\n",
    "print_cross_validation(best_estimator, X, Y)"
   ]
  },
  {
   "cell_type": "code",
   "execution_count": 48,
   "metadata": {
    "collapsed": false
   },
   "outputs": [
    {
     "name": "stdout",
     "output_type": "stream",
     "text": [
      "0.9229010025062656\n",
      "{'bootstrap': True, 'criterion': 'entropy', 'max_depth': None, 'n_estimators': 19}\n"
     ]
    }
   ],
   "source": [
    "print (grid_cv.best_score_)\n",
    "print (grid_cv.best_params_)"
   ]
  },
  {
   "cell_type": "code",
   "execution_count": 49,
   "metadata": {
    "collapsed": false
   },
   "outputs": [
    {
     "data": {
      "text/plain": [
       "[mean: 0.91319, std: 0.00423, params: {'bootstrap': False, 'criterion': 'entropy', 'max_depth': 5, 'n_estimators': 19},\n",
       " mean: 0.87998, std: 0.00532, params: {'bootstrap': False, 'criterion': 'entropy', 'max_depth': None, 'n_estimators': 1},\n",
       " mean: 0.87039, std: 0.00432, params: {'bootstrap': False, 'criterion': 'entropy', 'max_depth': None, 'n_estimators': 2},\n",
       " mean: 0.90533, std: 0.00425, params: {'bootstrap': False, 'criterion': 'entropy', 'max_depth': None, 'n_estimators': 3},\n",
       " mean: 0.90222, std: 0.00694, params: {'bootstrap': False, 'criterion': 'entropy', 'max_depth': None, 'n_estimators': 4},\n",
       " mean: 0.91344, std: 0.00654, params: {'bootstrap': False, 'criterion': 'entropy', 'max_depth': None, 'n_estimators': 5},\n",
       " mean: 0.91241, std: 0.00337, params: {'bootstrap': False, 'criterion': 'entropy', 'max_depth': None, 'n_estimators': 6},\n",
       " mean: 0.91501, std: 0.00545, params: {'bootstrap': False, 'criterion': 'entropy', 'max_depth': None, 'n_estimators': 7},\n",
       " mean: 0.91617, std: 0.00575, params: {'bootstrap': False, 'criterion': 'entropy', 'max_depth': None, 'n_estimators': 8},\n",
       " mean: 0.91930, std: 0.00528, params: {'bootstrap': False, 'criterion': 'entropy', 'max_depth': None, 'n_estimators': 9},\n",
       " mean: 0.91848, std: 0.00566, params: {'bootstrap': False, 'criterion': 'entropy', 'max_depth': None, 'n_estimators': 10},\n",
       " mean: 0.91826, std: 0.00473, params: {'bootstrap': False, 'criterion': 'entropy', 'max_depth': None, 'n_estimators': 11},\n",
       " mean: 0.92030, std: 0.00514, params: {'bootstrap': False, 'criterion': 'entropy', 'max_depth': None, 'n_estimators': 12},\n",
       " mean: 0.92011, std: 0.00400, params: {'bootstrap': False, 'criterion': 'entropy', 'max_depth': None, 'n_estimators': 13},\n",
       " mean: 0.92018, std: 0.00583, params: {'bootstrap': False, 'criterion': 'entropy', 'max_depth': None, 'n_estimators': 14},\n",
       " mean: 0.92033, std: 0.00493, params: {'bootstrap': False, 'criterion': 'entropy', 'max_depth': None, 'n_estimators': 15},\n",
       " mean: 0.92002, std: 0.00445, params: {'bootstrap': False, 'criterion': 'entropy', 'max_depth': None, 'n_estimators': 16},\n",
       " mean: 0.92052, std: 0.00549, params: {'bootstrap': False, 'criterion': 'entropy', 'max_depth': None, 'n_estimators': 17},\n",
       " mean: 0.92196, std: 0.00498, params: {'bootstrap': False, 'criterion': 'entropy', 'max_depth': None, 'n_estimators': 18},\n",
       " mean: 0.92165, std: 0.00453, params: {'bootstrap': False, 'criterion': 'entropy', 'max_depth': None, 'n_estimators': 19}]"
      ]
     },
     "execution_count": 49,
     "metadata": {},
     "output_type": "execute_result"
    }
   ],
   "source": [
    "grid_cv.grid_scores_[-20:]"
   ]
  },
  {
   "cell_type": "code",
   "execution_count": 124,
   "metadata": {
    "collapsed": false
   },
   "outputs": [
    {
     "name": "stdout",
     "output_type": "stream",
     "text": [
      "Feature ranking:\n",
      "1. feature 7 (0.270367)\n",
      "2. feature 2 (0.170063)\n",
      "3. feature 15 (0.077128)\n",
      "4. feature 6 (0.073277)\n",
      "5. feature 4 (0.068783)\n",
      "6. feature 8 (0.051180)\n",
      "7. feature 3 (0.047659)\n",
      "8. feature 9 (0.047519)\n",
      "9. feature 5 (0.039791)\n",
      "10. feature 10 (0.029710)\n",
      "11. feature 11 (0.029390)\n",
      "12. feature 17 (0.024537)\n",
      "13. feature 12 (0.021861)\n",
      "14. feature 1 (0.019561)\n",
      "15. feature 0 (0.014668)\n",
      "16. feature 13 (0.006355)\n",
      "17. feature 14 (0.003659)\n",
      "18. feature 16 (0.003413)\n",
      "19. feature 18 (0.001079)\n"
     ]
    },
    {
     "data": {
      "image/png": "[encoded data removed]",
      "text/plain": [
       "<matplotlib.figure.Figure at 0x1fc13a5bc18>"
      ]
     },
     "metadata": {},
     "output_type": "display_data"
    }
   ],
   "source": [
    "importances  = best_estimator.feature_importances_\n",
    "std = np.std([best_estimator.feature_importances_ for tree in best_estimator.estimators_],\n",
    "             axis=0)\n",
    "indices = np.argsort(importances)[::-1]\n",
    "# Print the feature ranking\n",
    "print(\"Feature ranking:\")\n",
    "\n",
    "for f in range(X.shape[1]):\n",
    "    print(\"%d. feature %d (%f)\" % (f + 1, indices[f], importances[indices[f]]))\n",
    "\n",
    "# Plot the feature importances of the forest\n",
    "plt.figure()\n",
    "plt.title(\"Feature importances\")\n",
    "plt.bar(range(X.shape[1]), importances[indices],\n",
    "       color=\"r\", yerr=std[indices], align=\"center\")\n",
    "plt.xticks(range(X.shape[1]), list(X[indices]), rotation='vertical')\n",
    "plt.xlim([-1, X.shape[1]])\n",
    "plt.show()"
   ]
  },
  {
   "cell_type": "code",
   "execution_count": 173,
   "metadata": {
    "collapsed": false
   },
   "outputs": [
    {
     "data": {
      "image/png": "[encoded data removed]",
      "text/plain": [
       "<matplotlib.figure.Figure at 0x1fc11a71a90>"
      ]
     },
     "metadata": {},
     "output_type": "display_data"
    }
   ],
   "source": [
    "fig = plt.figure()\n",
    "ax1 = fig.add_subplot(111)\n",
    "\n",
    "ax1.scatter(x = data['FlwngsIncrease'].loc[data['IsSpammer'] == 1], y=data['NumberOfFollowings'].loc[data['IsSpammer'] == 1], color = 'Red', label = \"Spam\")\n",
    "ax1.scatter(x = data['FlwngsIncrease'].loc[data['IsSpammer'] == 0], y=data['NumberOfFollowings'].loc[data['IsSpammer'] == 0], color = 'Green', label= \"Legitimate\")\n",
    "ax1.scatter(x = data['FlwngsIncrease'].loc[Corr2.loc[Corr2['IsCorrect'] == False].index], y=data['NumberOfFollowings'].loc[Corr2.loc[Corr2['IsCorrect'] == False].index], color = 'Blue', label= \"Mistakes\")\n",
    "plt.xlabel(\"FlwngsIncrease\")\n",
    "plt.ylabel(\"NumberOfFollowings\")\n",
    "plt.legend(loc='upper right');\n",
    "plt.show()"
   ]
  },
  {
   "cell_type": "code",
   "execution_count": 178,
   "metadata": {
    "collapsed": false
   },
   "outputs": [
    {
     "data": {
      "image/png": "[encoded data removed]",
      "text/plain": [
       "<matplotlib.figure.Figure at 0x1fc11a983c8>"
      ]
     },
     "metadata": {},
     "output_type": "display_data"
    }
   ],
   "source": [
    "fig = plt.figure()\n",
    "ax1 = fig.add_subplot(111)\n",
    "\n",
    "ax1.scatter(x = data['NumberOfURLs'].loc[data['IsSpammer'] == 1], y=data['Flwrs/Flwngs'].loc[data['IsSpammer'] == 1], color = 'Red', label = \"Spam\")\n",
    "ax1.scatter(x = data['NumberOfURLs'].loc[data['IsSpammer'] == 0], y=data['Flwrs/Flwngs'].loc[data['IsSpammer'] == 0], color = 'Green', label= \"Legitimate\")\n",
    "ax1.scatter(x = data['NumberOfURLs'].loc[Corr2.loc[Corr2['IsCorrect'] == False].index], y=data['Flwrs/Flwngs'].loc[Corr2.loc[Corr2['IsCorrect'] == False].index], color = 'Blue', label= \"Mistakes\")\n",
    "plt.xlabel(\"NumberOfURLs\")\n",
    "plt.ylabel(\"Flwrs/Flwngs\")\n",
    "plt.legend(loc='upper right');\n",
    "plt.show()"
   ]
  },
  {
   "cell_type": "code",
   "execution_count": 169,
   "metadata": {
    "collapsed": false
   },
   "outputs": [
    {
     "data": {
      "text/plain": [
       "Int64Index([ 68436848,  83076908,  42447746, 134588518,  58205927,  78869321,\n",
       "             69435170,  99134071,  36922853, 100983447,\n",
       "            ...\n",
       "            108206097, 169611931,  43859782,  88047810,  58227237, 104038545,\n",
       "                10997,  71329773,  57054499,  32589620],\n",
       "           dtype='int64', name='UserID', length=1785)"
      ]
     },
     "execution_count": 169,
     "metadata": {},
     "output_type": "execute_result"
    }
   ],
   "source": [
    "#Tests = {'IsFN': Y_pred != Y_test & Y_test == 1,\n",
    "#         'IsFP': Y_pred != Y_test & Y_test == 0}\n",
    "Corr2 = pd.DataFrame(data=Corr)\n",
    "Corr2.loc[Corr2['IsCorrect'] == False].index"
   ]
  },
  {
   "cell_type": "code",
   "execution_count": 183,
   "metadata": {
    "collapsed": false
   },
   "outputs": [
    {
     "data": {
      "text/html": [
       "<div>\n",
       "<table border=\"1\" class=\"dataframe\">\n",
       "  <thead>\n",
       "    <tr style=\"text-align: right;\">\n",
       "      <th></th>\n",
       "      <th>ProfileCreatedAt</th>\n",
       "      <th>ProfileCollectedAt</th>\n",
       "      <th>NumberOfFollowings</th>\n",
       "      <th>NumberOfFollowers</th>\n",
       "      <th>NumberOfTweets</th>\n",
       "      <th>LengthOfScreenName</th>\n",
       "      <th>LengthOfDescriptionInUserProfile</th>\n",
       "      <th>TweetID</th>\n",
       "      <th>Tweet</th>\n",
       "      <th>TweetCreatedAt</th>\n",
       "      <th>IsSpammer</th>\n",
       "      <th>Reputation</th>\n",
       "      <th>...</th>\n",
       "      <th>FlwngsIncrease</th>\n",
       "      <th>TweetsPerDay</th>\n",
       "      <th>TweetsPerWeek</th>\n",
       "      <th>NumberOfWords</th>\n",
       "      <th>NumberOfSpaces</th>\n",
       "      <th>NumberOfSymbols</th>\n",
       "      <th>NumberOfQm</th>\n",
       "      <th>NumberOfEm</th>\n",
       "      <th>NumberOfURLs</th>\n",
       "      <th>NumberOfMentions</th>\n",
       "      <th>NumberOfHashtags</th>\n",
       "      <th>NumberOfSpamWords</th>\n",
       "    </tr>\n",
       "    <tr>\n",
       "      <th>UserID</th>\n",
       "      <th></th>\n",
       "      <th></th>\n",
       "      <th></th>\n",
       "      <th></th>\n",
       "      <th></th>\n",
       "      <th></th>\n",
       "      <th></th>\n",
       "      <th></th>\n",
       "      <th></th>\n",
       "      <th></th>\n",
       "      <th></th>\n",
       "      <th></th>\n",
       "      <th></th>\n",
       "      <th></th>\n",
       "      <th></th>\n",
       "      <th></th>\n",
       "      <th></th>\n",
       "      <th></th>\n",
       "      <th></th>\n",
       "      <th></th>\n",
       "      <th></th>\n",
       "      <th></th>\n",
       "      <th></th>\n",
       "      <th></th>\n",
       "      <th></th>\n",
       "    </tr>\n",
       "  </thead>\n",
       "  <tbody>\n",
       "    <tr>\n",
       "      <th>19877054</th>\n",
       "      <td>2009-02-01 15:11:38</td>\n",
       "      <td>2009-11-21 12:15:14</td>\n",
       "      <td>1</td>\n",
       "      <td>33344</td>\n",
       "      <td>526</td>\n",
       "      <td>11</td>\n",
       "      <td>102</td>\n",
       "      <td>5924324822</td>\n",
       "      <td>@ my boys crib playin 2K10.he just used the ba...</td>\n",
       "      <td>2009-11-21 12:11:45</td>\n",
       "      <td>0</td>\n",
       "      <td>0.99997</td>\n",
       "      <td>...</td>\n",
       "      <td>0.000142</td>\n",
       "      <td>1.795988</td>\n",
       "      <td>12.571916</td>\n",
       "      <td>21</td>\n",
       "      <td>21</td>\n",
       "      <td>117</td>\n",
       "      <td>0</td>\n",
       "      <td>0</td>\n",
       "      <td>0</td>\n",
       "      <td>0</td>\n",
       "      <td>0</td>\n",
       "      <td>1</td>\n",
       "    </tr>\n",
       "  </tbody>\n",
       "</table>\n",
       "<p>1 rows × 26 columns</p>\n",
       "</div>"
      ],
      "text/plain": [
       "            ProfileCreatedAt  ProfileCollectedAt  NumberOfFollowings  \\\n",
       "UserID                                                                 \n",
       "19877054 2009-02-01 15:11:38 2009-11-21 12:15:14                   1   \n",
       "\n",
       "          NumberOfFollowers  NumberOfTweets  LengthOfScreenName  \\\n",
       "UserID                                                            \n",
       "19877054              33344             526                  11   \n",
       "\n",
       "          LengthOfDescriptionInUserProfile     TweetID  \\\n",
       "UserID                                                   \n",
       "19877054                               102  5924324822   \n",
       "\n",
       "                                                      Tweet  \\\n",
       "UserID                                                        \n",
       "19877054  @ my boys crib playin 2K10.he just used the ba...   \n",
       "\n",
       "               TweetCreatedAt  IsSpammer  Reputation        ...          \\\n",
       "UserID                                                      ...           \n",
       "19877054  2009-11-21 12:11:45          0     0.99997        ...           \n",
       "\n",
       "          FlwngsIncrease  TweetsPerDay  TweetsPerWeek  NumberOfWords  \\\n",
       "UserID                                                                 \n",
       "19877054        0.000142      1.795988      12.571916             21   \n",
       "\n",
       "          NumberOfSpaces  NumberOfSymbols  NumberOfQm  NumberOfEm  \\\n",
       "UserID                                                              \n",
       "19877054              21              117           0           0   \n",
       "\n",
       "          NumberOfURLs  NumberOfMentions  NumberOfHashtags  NumberOfSpamWords  \n",
       "UserID                                                                         \n",
       "19877054             0                 0                 0                  1  \n",
       "\n",
       "[1 rows x 26 columns]"
      ]
     },
     "execution_count": 183,
     "metadata": {},
     "output_type": "execute_result"
    }
   ],
   "source": [
    "data.loc[data['Flwrs/Flwngs'] > 30000]"
   ]
  },
  {
   "cell_type": "code",
   "execution_count": 158,
   "metadata": {
    "collapsed": false
   },
   "outputs": [
    {
     "data": {
      "text/plain": [
       "UserID\n",
       "21069781     0\n",
       "102179859    1\n",
       "47333321     1\n",
       "118749743    1\n",
       "68436848     0\n",
       "36194131     0\n",
       "31395163     0\n",
       "64232031     0\n",
       "38957358     0\n",
       "80545504     0\n",
       "70818027     0\n",
       "161689043    1\n",
       "78558198     1\n",
       "76512253     1\n",
       "83076908     0\n",
       "26588435     1\n",
       "23560091     0\n",
       "42447746     0\n",
       "20780650     1\n",
       "30208834     0\n",
       "36731667     1\n",
       "14811476     0\n",
       "30152138     0\n",
       "66145682     0\n",
       "140053814    1\n",
       "84282096     0\n",
       "134588518    1\n",
       "16845489     0\n",
       "86340431     0\n",
       "25429996     1\n",
       "            ..\n",
       "35522273     0\n",
       "78123169     0\n",
       "16154421     0\n",
       "44937591     0\n",
       "110548420    1\n",
       "57054499     0\n",
       "63684858     1\n",
       "139048732    1\n",
       "67848158     0\n",
       "83517842     0\n",
       "18577266     0\n",
       "79099240     1\n",
       "15470773     1\n",
       "32589620     0\n",
       "54166222     1\n",
       "82271228     1\n",
       "14165753     0\n",
       "102504645    1\n",
       "34089169     1\n",
       "56807077     0\n",
       "52650761     0\n",
       "40649030     1\n",
       "43677238     0\n",
       "61090619     0\n",
       "122028557    1\n",
       "124317574    1\n",
       "110009410    1\n",
       "47203        0\n",
       "71247722     1\n",
       "25163025     0\n",
       "Name: IsSpammer, dtype: int64"
      ]
     },
     "execution_count": 158,
     "metadata": {},
     "output_type": "execute_result"
    }
   ],
   "source": [
    "Y_test"
   ]
  },
  {
   "cell_type": "markdown",
   "metadata": {},
   "source": [
    "## SVM"
   ]
  },
  {
   "cell_type": "code",
   "execution_count": 63,
   "metadata": {
    "collapsed": false
   },
   "outputs": [
    {
     "data": {
      "text/plain": [
       "dict_keys(['C', 'cache_size', 'class_weight', 'coef0', 'decision_function_shape', 'degree', 'gamma', 'kernel', 'max_iter', 'probability', 'random_state', 'shrinking', 'tol', 'verbose'])"
      ]
     },
     "execution_count": 63,
     "metadata": {},
     "output_type": "execute_result"
    }
   ],
   "source": [
    "svc = svm.SVC()\n",
    "svc.get_params().keys()"
   ]
  },
  {
   "cell_type": "code",
   "execution_count": 58,
   "metadata": {
    "collapsed": false
   },
   "outputs": [],
   "source": [
    " parameters_grid = {\n",
    "     'kernel' : ['linear', 'poly', 'rbf', 'sigmoid' ],\n",
    "     'reduce_dim': [feature_selection.SelectKBest(feature_selection.chi2)]\n",
    "}"
   ]
  },
  {
   "cell_type": "code",
   "execution_count": 60,
   "metadata": {
    "collapsed": false
   },
   "outputs": [
    {
     "ename": "TypeError",
     "evalue": "__init__() got multiple values for argument 'scoring'",
     "output_type": "error",
     "traceback": [
      "\u001b[0;31m---------------------------------------------------------------------------\u001b[0m",
      "\u001b[0;31mTypeError\u001b[0m                                 Traceback (most recent call last)",
      "\u001b[0;32m<ipython-input-60-e19ef70fa7a3>\u001b[0m in \u001b[0;36m<module>\u001b[0;34m()\u001b[0m\n\u001b[1;32m      2\u001b[0m     \u001b[1;33m(\u001b[0m\u001b[1;34m'classify'\u001b[0m\u001b[1;33m,\u001b[0m \u001b[0msvc\u001b[0m\u001b[1;33m)\u001b[0m\u001b[1;33m\u001b[0m\u001b[0m\n\u001b[1;32m      3\u001b[0m ])\n\u001b[0;32m----> 4\u001b[0;31m \u001b[0mgrid_cv\u001b[0m \u001b[1;33m=\u001b[0m \u001b[0mgrid_search\u001b[0m\u001b[1;33m.\u001b[0m\u001b[0mGridSearchCV\u001b[0m\u001b[1;33m(\u001b[0m\u001b[0mpipe\u001b[0m\u001b[1;33m,\u001b[0m\u001b[0msvc\u001b[0m\u001b[1;33m,\u001b[0m \u001b[0mparameters_grid\u001b[0m\u001b[1;33m,\u001b[0m \u001b[0mscoring\u001b[0m \u001b[1;33m=\u001b[0m \u001b[1;34m'accuracy'\u001b[0m\u001b[1;33m,\u001b[0m \u001b[0mcv\u001b[0m \u001b[1;33m=\u001b[0m \u001b[0mcv\u001b[0m\u001b[1;33m)\u001b[0m\u001b[1;33m\u001b[0m\u001b[0m\n\u001b[0m",
      "\u001b[0;31mTypeError\u001b[0m: __init__() got multiple values for argument 'scoring'"
     ]
    }
   ],
   "source": [
    "pipe = pipeline.Pipeline([\n",
    "    ('classify', svc)\n",
    "])\n",
    "grid_cv = grid_search.GridSearchCV(pipe,svc, parameters_grid, scoring = 'accuracy', cv = cv)"
   ]
  },
  {
   "cell_type": "code",
   "execution_count": 54,
   "metadata": {
    "collapsed": false
   },
   "outputs": [
    {
     "ename": "ValueError",
     "evalue": "Invalid parameter kernel for estimator LinearSVC. Check the list of available parameters with `estimator.get_params().keys()`.",
     "output_type": "error",
     "traceback": [
      "\u001b[0;31m---------------------------------------------------------------------------\u001b[0m",
      "\u001b[0;31mValueError\u001b[0m                                Traceback (most recent call last)",
      "\u001b[0;32m<ipython-input-54-388ce45f8932>\u001b[0m in \u001b[0;36m<module>\u001b[0;34m()\u001b[0m\n\u001b[0;32m----> 1\u001b[0;31m \u001b[0mget_ipython\u001b[0m\u001b[1;33m(\u001b[0m\u001b[1;33m)\u001b[0m\u001b[1;33m.\u001b[0m\u001b[0mrun_cell_magic\u001b[0m\u001b[1;33m(\u001b[0m\u001b[1;34m'time'\u001b[0m\u001b[1;33m,\u001b[0m \u001b[1;34m''\u001b[0m\u001b[1;33m,\u001b[0m \u001b[1;34m'grid_cv.fit(X_train, Y_train)'\u001b[0m\u001b[1;33m)\u001b[0m\u001b[1;33m\u001b[0m\u001b[0m\n\u001b[0m",
      "\u001b[0;32mC:\\Users\\Daniil_Skokleenko\\AppData\\Local\\Continuum\\Anaconda3\\lib\\site-packages\\IPython\\core\\interactiveshell.py\u001b[0m in \u001b[0;36mrun_cell_magic\u001b[0;34m(self, magic_name, line, cell)\u001b[0m\n\u001b[1;32m   2113\u001b[0m             \u001b[0mmagic_arg_s\u001b[0m \u001b[1;33m=\u001b[0m \u001b[0mself\u001b[0m\u001b[1;33m.\u001b[0m\u001b[0mvar_expand\u001b[0m\u001b[1;33m(\u001b[0m\u001b[0mline\u001b[0m\u001b[1;33m,\u001b[0m \u001b[0mstack_depth\u001b[0m\u001b[1;33m)\u001b[0m\u001b[1;33m\u001b[0m\u001b[0m\n\u001b[1;32m   2114\u001b[0m             \u001b[1;32mwith\u001b[0m \u001b[0mself\u001b[0m\u001b[1;33m.\u001b[0m\u001b[0mbuiltin_trap\u001b[0m\u001b[1;33m:\u001b[0m\u001b[1;33m\u001b[0m\u001b[0m\n\u001b[0;32m-> 2115\u001b[0;31m                 \u001b[0mresult\u001b[0m \u001b[1;33m=\u001b[0m \u001b[0mfn\u001b[0m\u001b[1;33m(\u001b[0m\u001b[0mmagic_arg_s\u001b[0m\u001b[1;33m,\u001b[0m \u001b[0mcell\u001b[0m\u001b[1;33m)\u001b[0m\u001b[1;33m\u001b[0m\u001b[0m\n\u001b[0m\u001b[1;32m   2116\u001b[0m             \u001b[1;32mreturn\u001b[0m \u001b[0mresult\u001b[0m\u001b[1;33m\u001b[0m\u001b[0m\n\u001b[1;32m   2117\u001b[0m \u001b[1;33m\u001b[0m\u001b[0m\n",
      "\u001b[0;32m<decorator-gen-60>\u001b[0m in \u001b[0;36mtime\u001b[0;34m(self, line, cell, local_ns)\u001b[0m\n",
      "\u001b[0;32mC:\\Users\\Daniil_Skokleenko\\AppData\\Local\\Continuum\\Anaconda3\\lib\\site-packages\\IPython\\core\\magic.py\u001b[0m in \u001b[0;36m<lambda>\u001b[0;34m(f, *a, **k)\u001b[0m\n\u001b[1;32m    186\u001b[0m     \u001b[1;31m# but it's overkill for just that one bit of state.\u001b[0m\u001b[1;33m\u001b[0m\u001b[1;33m\u001b[0m\u001b[0m\n\u001b[1;32m    187\u001b[0m     \u001b[1;32mdef\u001b[0m \u001b[0mmagic_deco\u001b[0m\u001b[1;33m(\u001b[0m\u001b[0marg\u001b[0m\u001b[1;33m)\u001b[0m\u001b[1;33m:\u001b[0m\u001b[1;33m\u001b[0m\u001b[0m\n\u001b[0;32m--> 188\u001b[0;31m         \u001b[0mcall\u001b[0m \u001b[1;33m=\u001b[0m \u001b[1;32mlambda\u001b[0m \u001b[0mf\u001b[0m\u001b[1;33m,\u001b[0m \u001b[1;33m*\u001b[0m\u001b[0ma\u001b[0m\u001b[1;33m,\u001b[0m \u001b[1;33m**\u001b[0m\u001b[0mk\u001b[0m\u001b[1;33m:\u001b[0m \u001b[0mf\u001b[0m\u001b[1;33m(\u001b[0m\u001b[1;33m*\u001b[0m\u001b[0ma\u001b[0m\u001b[1;33m,\u001b[0m \u001b[1;33m**\u001b[0m\u001b[0mk\u001b[0m\u001b[1;33m)\u001b[0m\u001b[1;33m\u001b[0m\u001b[0m\n\u001b[0m\u001b[1;32m    189\u001b[0m \u001b[1;33m\u001b[0m\u001b[0m\n\u001b[1;32m    190\u001b[0m         \u001b[1;32mif\u001b[0m \u001b[0mcallable\u001b[0m\u001b[1;33m(\u001b[0m\u001b[0marg\u001b[0m\u001b[1;33m)\u001b[0m\u001b[1;33m:\u001b[0m\u001b[1;33m\u001b[0m\u001b[0m\n",
      "\u001b[0;32mC:\\Users\\Daniil_Skokleenko\\AppData\\Local\\Continuum\\Anaconda3\\lib\\site-packages\\IPython\\core\\magics\\execution.py\u001b[0m in \u001b[0;36mtime\u001b[0;34m(self, line, cell, local_ns)\u001b[0m\n\u001b[1;32m   1174\u001b[0m         \u001b[1;32mif\u001b[0m \u001b[0mmode\u001b[0m\u001b[1;33m==\u001b[0m\u001b[1;34m'eval'\u001b[0m\u001b[1;33m:\u001b[0m\u001b[1;33m\u001b[0m\u001b[0m\n\u001b[1;32m   1175\u001b[0m             \u001b[0mst\u001b[0m \u001b[1;33m=\u001b[0m \u001b[0mclock2\u001b[0m\u001b[1;33m(\u001b[0m\u001b[1;33m)\u001b[0m\u001b[1;33m\u001b[0m\u001b[0m\n\u001b[0;32m-> 1176\u001b[0;31m             \u001b[0mout\u001b[0m \u001b[1;33m=\u001b[0m \u001b[0meval\u001b[0m\u001b[1;33m(\u001b[0m\u001b[0mcode\u001b[0m\u001b[1;33m,\u001b[0m \u001b[0mglob\u001b[0m\u001b[1;33m,\u001b[0m \u001b[0mlocal_ns\u001b[0m\u001b[1;33m)\u001b[0m\u001b[1;33m\u001b[0m\u001b[0m\n\u001b[0m\u001b[1;32m   1177\u001b[0m             \u001b[0mend\u001b[0m \u001b[1;33m=\u001b[0m \u001b[0mclock2\u001b[0m\u001b[1;33m(\u001b[0m\u001b[1;33m)\u001b[0m\u001b[1;33m\u001b[0m\u001b[0m\n\u001b[1;32m   1178\u001b[0m         \u001b[1;32melse\u001b[0m\u001b[1;33m:\u001b[0m\u001b[1;33m\u001b[0m\u001b[0m\n",
      "\u001b[0;32m<timed eval>\u001b[0m in \u001b[0;36m<module>\u001b[0;34m()\u001b[0m\n",
      "\u001b[0;32mC:\\Users\\Daniil_Skokleenko\\AppData\\Local\\Continuum\\Anaconda3\\lib\\site-packages\\sklearn\\grid_search.py\u001b[0m in \u001b[0;36mfit\u001b[0;34m(self, X, y)\u001b[0m\n\u001b[1;32m    827\u001b[0m \u001b[1;33m\u001b[0m\u001b[0m\n\u001b[1;32m    828\u001b[0m         \"\"\"\n\u001b[0;32m--> 829\u001b[0;31m         \u001b[1;32mreturn\u001b[0m \u001b[0mself\u001b[0m\u001b[1;33m.\u001b[0m\u001b[0m_fit\u001b[0m\u001b[1;33m(\u001b[0m\u001b[0mX\u001b[0m\u001b[1;33m,\u001b[0m \u001b[0my\u001b[0m\u001b[1;33m,\u001b[0m \u001b[0mParameterGrid\u001b[0m\u001b[1;33m(\u001b[0m\u001b[0mself\u001b[0m\u001b[1;33m.\u001b[0m\u001b[0mparam_grid\u001b[0m\u001b[1;33m)\u001b[0m\u001b[1;33m)\u001b[0m\u001b[1;33m\u001b[0m\u001b[0m\n\u001b[0m\u001b[1;32m    830\u001b[0m \u001b[1;33m\u001b[0m\u001b[0m\n\u001b[1;32m    831\u001b[0m \u001b[1;33m\u001b[0m\u001b[0m\n",
      "\u001b[0;32mC:\\Users\\Daniil_Skokleenko\\AppData\\Local\\Continuum\\Anaconda3\\lib\\site-packages\\sklearn\\grid_search.py\u001b[0m in \u001b[0;36m_fit\u001b[0;34m(self, X, y, parameter_iterable)\u001b[0m\n\u001b[1;32m    571\u001b[0m                                     \u001b[0mself\u001b[0m\u001b[1;33m.\u001b[0m\u001b[0mfit_params\u001b[0m\u001b[1;33m,\u001b[0m \u001b[0mreturn_parameters\u001b[0m\u001b[1;33m=\u001b[0m\u001b[1;32mTrue\u001b[0m\u001b[1;33m,\u001b[0m\u001b[1;33m\u001b[0m\u001b[0m\n\u001b[1;32m    572\u001b[0m                                     error_score=self.error_score)\n\u001b[0;32m--> 573\u001b[0;31m                 \u001b[1;32mfor\u001b[0m \u001b[0mparameters\u001b[0m \u001b[1;32min\u001b[0m \u001b[0mparameter_iterable\u001b[0m\u001b[1;33m\u001b[0m\u001b[0m\n\u001b[0m\u001b[1;32m    574\u001b[0m                 for train, test in cv)\n\u001b[1;32m    575\u001b[0m \u001b[1;33m\u001b[0m\u001b[0m\n",
      "\u001b[0;32mC:\\Users\\Daniil_Skokleenko\\AppData\\Local\\Continuum\\Anaconda3\\lib\\site-packages\\sklearn\\externals\\joblib\\parallel.py\u001b[0m in \u001b[0;36m__call__\u001b[0;34m(self, iterable)\u001b[0m\n\u001b[1;32m    756\u001b[0m             \u001b[1;31m# was dispatched. In particular this covers the edge\u001b[0m\u001b[1;33m\u001b[0m\u001b[1;33m\u001b[0m\u001b[0m\n\u001b[1;32m    757\u001b[0m             \u001b[1;31m# case of Parallel used with an exhausted iterator.\u001b[0m\u001b[1;33m\u001b[0m\u001b[1;33m\u001b[0m\u001b[0m\n\u001b[0;32m--> 758\u001b[0;31m             \u001b[1;32mwhile\u001b[0m \u001b[0mself\u001b[0m\u001b[1;33m.\u001b[0m\u001b[0mdispatch_one_batch\u001b[0m\u001b[1;33m(\u001b[0m\u001b[0miterator\u001b[0m\u001b[1;33m)\u001b[0m\u001b[1;33m:\u001b[0m\u001b[1;33m\u001b[0m\u001b[0m\n\u001b[0m\u001b[1;32m    759\u001b[0m                 \u001b[0mself\u001b[0m\u001b[1;33m.\u001b[0m\u001b[0m_iterating\u001b[0m \u001b[1;33m=\u001b[0m \u001b[1;32mTrue\u001b[0m\u001b[1;33m\u001b[0m\u001b[0m\n\u001b[1;32m    760\u001b[0m             \u001b[1;32melse\u001b[0m\u001b[1;33m:\u001b[0m\u001b[1;33m\u001b[0m\u001b[0m\n",
      "\u001b[0;32mC:\\Users\\Daniil_Skokleenko\\AppData\\Local\\Continuum\\Anaconda3\\lib\\site-packages\\sklearn\\externals\\joblib\\parallel.py\u001b[0m in \u001b[0;36mdispatch_one_batch\u001b[0;34m(self, iterator)\u001b[0m\n\u001b[1;32m    606\u001b[0m                 \u001b[1;32mreturn\u001b[0m \u001b[1;32mFalse\u001b[0m\u001b[1;33m\u001b[0m\u001b[0m\n\u001b[1;32m    607\u001b[0m             \u001b[1;32melse\u001b[0m\u001b[1;33m:\u001b[0m\u001b[1;33m\u001b[0m\u001b[0m\n\u001b[0;32m--> 608\u001b[0;31m                 \u001b[0mself\u001b[0m\u001b[1;33m.\u001b[0m\u001b[0m_dispatch\u001b[0m\u001b[1;33m(\u001b[0m\u001b[0mtasks\u001b[0m\u001b[1;33m)\u001b[0m\u001b[1;33m\u001b[0m\u001b[0m\n\u001b[0m\u001b[1;32m    609\u001b[0m                 \u001b[1;32mreturn\u001b[0m \u001b[1;32mTrue\u001b[0m\u001b[1;33m\u001b[0m\u001b[0m\n\u001b[1;32m    610\u001b[0m \u001b[1;33m\u001b[0m\u001b[0m\n",
      "\u001b[0;32mC:\\Users\\Daniil_Skokleenko\\AppData\\Local\\Continuum\\Anaconda3\\lib\\site-packages\\sklearn\\externals\\joblib\\parallel.py\u001b[0m in \u001b[0;36m_dispatch\u001b[0;34m(self, batch)\u001b[0m\n\u001b[1;32m    569\u001b[0m         \u001b[0mdispatch_timestamp\u001b[0m \u001b[1;33m=\u001b[0m \u001b[0mtime\u001b[0m\u001b[1;33m.\u001b[0m\u001b[0mtime\u001b[0m\u001b[1;33m(\u001b[0m\u001b[1;33m)\u001b[0m\u001b[1;33m\u001b[0m\u001b[0m\n\u001b[1;32m    570\u001b[0m         \u001b[0mcb\u001b[0m \u001b[1;33m=\u001b[0m \u001b[0mBatchCompletionCallBack\u001b[0m\u001b[1;33m(\u001b[0m\u001b[0mdispatch_timestamp\u001b[0m\u001b[1;33m,\u001b[0m \u001b[0mlen\u001b[0m\u001b[1;33m(\u001b[0m\u001b[0mbatch\u001b[0m\u001b[1;33m)\u001b[0m\u001b[1;33m,\u001b[0m \u001b[0mself\u001b[0m\u001b[1;33m)\u001b[0m\u001b[1;33m\u001b[0m\u001b[0m\n\u001b[0;32m--> 571\u001b[0;31m         \u001b[0mjob\u001b[0m \u001b[1;33m=\u001b[0m \u001b[0mself\u001b[0m\u001b[1;33m.\u001b[0m\u001b[0m_backend\u001b[0m\u001b[1;33m.\u001b[0m\u001b[0mapply_async\u001b[0m\u001b[1;33m(\u001b[0m\u001b[0mbatch\u001b[0m\u001b[1;33m,\u001b[0m \u001b[0mcallback\u001b[0m\u001b[1;33m=\u001b[0m\u001b[0mcb\u001b[0m\u001b[1;33m)\u001b[0m\u001b[1;33m\u001b[0m\u001b[0m\n\u001b[0m\u001b[1;32m    572\u001b[0m         \u001b[0mself\u001b[0m\u001b[1;33m.\u001b[0m\u001b[0m_jobs\u001b[0m\u001b[1;33m.\u001b[0m\u001b[0mappend\u001b[0m\u001b[1;33m(\u001b[0m\u001b[0mjob\u001b[0m\u001b[1;33m)\u001b[0m\u001b[1;33m\u001b[0m\u001b[0m\n\u001b[1;32m    573\u001b[0m \u001b[1;33m\u001b[0m\u001b[0m\n",
      "\u001b[0;32mC:\\Users\\Daniil_Skokleenko\\AppData\\Local\\Continuum\\Anaconda3\\lib\\site-packages\\sklearn\\externals\\joblib\\_parallel_backends.py\u001b[0m in \u001b[0;36mapply_async\u001b[0;34m(self, func, callback)\u001b[0m\n\u001b[1;32m    107\u001b[0m     \u001b[1;32mdef\u001b[0m \u001b[0mapply_async\u001b[0m\u001b[1;33m(\u001b[0m\u001b[0mself\u001b[0m\u001b[1;33m,\u001b[0m \u001b[0mfunc\u001b[0m\u001b[1;33m,\u001b[0m \u001b[0mcallback\u001b[0m\u001b[1;33m=\u001b[0m\u001b[1;32mNone\u001b[0m\u001b[1;33m)\u001b[0m\u001b[1;33m:\u001b[0m\u001b[1;33m\u001b[0m\u001b[0m\n\u001b[1;32m    108\u001b[0m         \u001b[1;34m\"\"\"Schedule a func to be run\"\"\"\u001b[0m\u001b[1;33m\u001b[0m\u001b[0m\n\u001b[0;32m--> 109\u001b[0;31m         \u001b[0mresult\u001b[0m \u001b[1;33m=\u001b[0m \u001b[0mImmediateResult\u001b[0m\u001b[1;33m(\u001b[0m\u001b[0mfunc\u001b[0m\u001b[1;33m)\u001b[0m\u001b[1;33m\u001b[0m\u001b[0m\n\u001b[0m\u001b[1;32m    110\u001b[0m         \u001b[1;32mif\u001b[0m \u001b[0mcallback\u001b[0m\u001b[1;33m:\u001b[0m\u001b[1;33m\u001b[0m\u001b[0m\n\u001b[1;32m    111\u001b[0m             \u001b[0mcallback\u001b[0m\u001b[1;33m(\u001b[0m\u001b[0mresult\u001b[0m\u001b[1;33m)\u001b[0m\u001b[1;33m\u001b[0m\u001b[0m\n",
      "\u001b[0;32mC:\\Users\\Daniil_Skokleenko\\AppData\\Local\\Continuum\\Anaconda3\\lib\\site-packages\\sklearn\\externals\\joblib\\_parallel_backends.py\u001b[0m in \u001b[0;36m__init__\u001b[0;34m(self, batch)\u001b[0m\n\u001b[1;32m    324\u001b[0m         \u001b[1;31m# Don't delay the application, to avoid keeping the input\u001b[0m\u001b[1;33m\u001b[0m\u001b[1;33m\u001b[0m\u001b[0m\n\u001b[1;32m    325\u001b[0m         \u001b[1;31m# arguments in memory\u001b[0m\u001b[1;33m\u001b[0m\u001b[1;33m\u001b[0m\u001b[0m\n\u001b[0;32m--> 326\u001b[0;31m         \u001b[0mself\u001b[0m\u001b[1;33m.\u001b[0m\u001b[0mresults\u001b[0m \u001b[1;33m=\u001b[0m \u001b[0mbatch\u001b[0m\u001b[1;33m(\u001b[0m\u001b[1;33m)\u001b[0m\u001b[1;33m\u001b[0m\u001b[0m\n\u001b[0m\u001b[1;32m    327\u001b[0m \u001b[1;33m\u001b[0m\u001b[0m\n\u001b[1;32m    328\u001b[0m     \u001b[1;32mdef\u001b[0m \u001b[0mget\u001b[0m\u001b[1;33m(\u001b[0m\u001b[0mself\u001b[0m\u001b[1;33m)\u001b[0m\u001b[1;33m:\u001b[0m\u001b[1;33m\u001b[0m\u001b[0m\n",
      "\u001b[0;32mC:\\Users\\Daniil_Skokleenko\\AppData\\Local\\Continuum\\Anaconda3\\lib\\site-packages\\sklearn\\externals\\joblib\\parallel.py\u001b[0m in \u001b[0;36m__call__\u001b[0;34m(self)\u001b[0m\n\u001b[1;32m    129\u001b[0m \u001b[1;33m\u001b[0m\u001b[0m\n\u001b[1;32m    130\u001b[0m     \u001b[1;32mdef\u001b[0m \u001b[0m__call__\u001b[0m\u001b[1;33m(\u001b[0m\u001b[0mself\u001b[0m\u001b[1;33m)\u001b[0m\u001b[1;33m:\u001b[0m\u001b[1;33m\u001b[0m\u001b[0m\n\u001b[0;32m--> 131\u001b[0;31m         \u001b[1;32mreturn\u001b[0m \u001b[1;33m[\u001b[0m\u001b[0mfunc\u001b[0m\u001b[1;33m(\u001b[0m\u001b[1;33m*\u001b[0m\u001b[0margs\u001b[0m\u001b[1;33m,\u001b[0m \u001b[1;33m**\u001b[0m\u001b[0mkwargs\u001b[0m\u001b[1;33m)\u001b[0m \u001b[1;32mfor\u001b[0m \u001b[0mfunc\u001b[0m\u001b[1;33m,\u001b[0m \u001b[0margs\u001b[0m\u001b[1;33m,\u001b[0m \u001b[0mkwargs\u001b[0m \u001b[1;32min\u001b[0m \u001b[0mself\u001b[0m\u001b[1;33m.\u001b[0m\u001b[0mitems\u001b[0m\u001b[1;33m]\u001b[0m\u001b[1;33m\u001b[0m\u001b[0m\n\u001b[0m\u001b[1;32m    132\u001b[0m \u001b[1;33m\u001b[0m\u001b[0m\n\u001b[1;32m    133\u001b[0m     \u001b[1;32mdef\u001b[0m \u001b[0m__len__\u001b[0m\u001b[1;33m(\u001b[0m\u001b[0mself\u001b[0m\u001b[1;33m)\u001b[0m\u001b[1;33m:\u001b[0m\u001b[1;33m\u001b[0m\u001b[0m\n",
      "\u001b[0;32mC:\\Users\\Daniil_Skokleenko\\AppData\\Local\\Continuum\\Anaconda3\\lib\\site-packages\\sklearn\\externals\\joblib\\parallel.py\u001b[0m in \u001b[0;36m<listcomp>\u001b[0;34m(.0)\u001b[0m\n\u001b[1;32m    129\u001b[0m \u001b[1;33m\u001b[0m\u001b[0m\n\u001b[1;32m    130\u001b[0m     \u001b[1;32mdef\u001b[0m \u001b[0m__call__\u001b[0m\u001b[1;33m(\u001b[0m\u001b[0mself\u001b[0m\u001b[1;33m)\u001b[0m\u001b[1;33m:\u001b[0m\u001b[1;33m\u001b[0m\u001b[0m\n\u001b[0;32m--> 131\u001b[0;31m         \u001b[1;32mreturn\u001b[0m \u001b[1;33m[\u001b[0m\u001b[0mfunc\u001b[0m\u001b[1;33m(\u001b[0m\u001b[1;33m*\u001b[0m\u001b[0margs\u001b[0m\u001b[1;33m,\u001b[0m \u001b[1;33m**\u001b[0m\u001b[0mkwargs\u001b[0m\u001b[1;33m)\u001b[0m \u001b[1;32mfor\u001b[0m \u001b[0mfunc\u001b[0m\u001b[1;33m,\u001b[0m \u001b[0margs\u001b[0m\u001b[1;33m,\u001b[0m \u001b[0mkwargs\u001b[0m \u001b[1;32min\u001b[0m \u001b[0mself\u001b[0m\u001b[1;33m.\u001b[0m\u001b[0mitems\u001b[0m\u001b[1;33m]\u001b[0m\u001b[1;33m\u001b[0m\u001b[0m\n\u001b[0m\u001b[1;32m    132\u001b[0m \u001b[1;33m\u001b[0m\u001b[0m\n\u001b[1;32m    133\u001b[0m     \u001b[1;32mdef\u001b[0m \u001b[0m__len__\u001b[0m\u001b[1;33m(\u001b[0m\u001b[0mself\u001b[0m\u001b[1;33m)\u001b[0m\u001b[1;33m:\u001b[0m\u001b[1;33m\u001b[0m\u001b[0m\n",
      "\u001b[0;32mC:\\Users\\Daniil_Skokleenko\\AppData\\Local\\Continuum\\Anaconda3\\lib\\site-packages\\sklearn\\cross_validation.py\u001b[0m in \u001b[0;36m_fit_and_score\u001b[0;34m(estimator, X, y, scorer, train, test, verbose, parameters, fit_params, return_train_score, return_parameters, error_score)\u001b[0m\n\u001b[1;32m   1652\u001b[0m \u001b[1;33m\u001b[0m\u001b[0m\n\u001b[1;32m   1653\u001b[0m     \u001b[1;32mif\u001b[0m \u001b[0mparameters\u001b[0m \u001b[1;32mis\u001b[0m \u001b[1;32mnot\u001b[0m \u001b[1;32mNone\u001b[0m\u001b[1;33m:\u001b[0m\u001b[1;33m\u001b[0m\u001b[0m\n\u001b[0;32m-> 1654\u001b[0;31m         \u001b[0mestimator\u001b[0m\u001b[1;33m.\u001b[0m\u001b[0mset_params\u001b[0m\u001b[1;33m(\u001b[0m\u001b[1;33m**\u001b[0m\u001b[0mparameters\u001b[0m\u001b[1;33m)\u001b[0m\u001b[1;33m\u001b[0m\u001b[0m\n\u001b[0m\u001b[1;32m   1655\u001b[0m \u001b[1;33m\u001b[0m\u001b[0m\n\u001b[1;32m   1656\u001b[0m     \u001b[0mstart_time\u001b[0m \u001b[1;33m=\u001b[0m \u001b[0mtime\u001b[0m\u001b[1;33m.\u001b[0m\u001b[0mtime\u001b[0m\u001b[1;33m(\u001b[0m\u001b[1;33m)\u001b[0m\u001b[1;33m\u001b[0m\u001b[0m\n",
      "\u001b[0;32mC:\\Users\\Daniil_Skokleenko\\AppData\\Local\\Continuum\\Anaconda3\\lib\\site-packages\\sklearn\\base.py\u001b[0m in \u001b[0;36mset_params\u001b[0;34m(self, **params)\u001b[0m\n\u001b[1;32m    289\u001b[0m                                      \u001b[1;34m'Check the list of available parameters '\u001b[0m\u001b[1;33m\u001b[0m\u001b[0m\n\u001b[1;32m    290\u001b[0m                                      \u001b[1;34m'with `estimator.get_params().keys()`.'\u001b[0m \u001b[1;33m%\u001b[0m\u001b[1;33m\u001b[0m\u001b[0m\n\u001b[0;32m--> 291\u001b[0;31m                                      (key, self.__class__.__name__))\n\u001b[0m\u001b[1;32m    292\u001b[0m                 \u001b[0msetattr\u001b[0m\u001b[1;33m(\u001b[0m\u001b[0mself\u001b[0m\u001b[1;33m,\u001b[0m \u001b[0mkey\u001b[0m\u001b[1;33m,\u001b[0m \u001b[0mvalue\u001b[0m\u001b[1;33m)\u001b[0m\u001b[1;33m\u001b[0m\u001b[0m\n\u001b[1;32m    293\u001b[0m         \u001b[1;32mreturn\u001b[0m \u001b[0mself\u001b[0m\u001b[1;33m\u001b[0m\u001b[0m\n",
      "\u001b[0;31mValueError\u001b[0m: Invalid parameter kernel for estimator LinearSVC. Check the list of available parameters with `estimator.get_params().keys()`."
     ]
    }
   ],
   "source": [
    "%%time\n",
    "grid_cv.fit(X_train, Y_train)"
   ]
  },
  {
   "cell_type": "code",
   "execution_count": null,
   "metadata": {
    "collapsed": false
   },
   "outputs": [],
   "source": [
    "best_estimator = grid_cv.best_estimator_\n",
    "Y_pred = best_estimator.predict(X_test)\n",
    "print_report(Y_test, Y_pred)\n",
    "print_cross_validation(best_estimator, X, Y)"
   ]
  },
  {
   "cell_type": "code",
   "execution_count": null,
   "metadata": {
    "collapsed": false
   },
   "outputs": [],
   "source": [
    "print (grid_cv.best_score_)\n",
    "print (grid_cv.best_params_)"
   ]
  },
  {
   "cell_type": "code",
   "execution_count": null,
   "metadata": {
    "collapsed": false
   },
   "outputs": [],
   "source": [
    "grid_cv.grid_scores_[:10]"
   ]
  },
  {
   "cell_type": "markdown",
   "metadata": {},
   "source": [
    "## Feature extraction time"
   ]
  },
  {
   "cell_type": "code",
   "execution_count": 186,
   "metadata": {
    "collapsed": false
   },
   "outputs": [
    {
     "data": {
      "text/plain": [
       "(1000, 11)"
      ]
     },
     "execution_count": 186,
     "metadata": {},
     "output_type": "execute_result"
    }
   ],
   "source": [
    "data = pd.concat([spammers, nonspammers])\n",
    "data = data[:1000]\n",
    "data.shape"
   ]
  },
  {
   "cell_type": "code",
   "execution_count": null,
   "metadata": {
    "collapsed": false
   },
   "outputs": [],
   "source": [
    "%%time\n",
    "# LengthOfScreenName\n",
    "# LengthOfDescriptionInUserProfile\n",
    "# NumberofFollowings\n",
    "# NumberofFollowers\n",
    "# NumberofTweets\n",
    "data[\"ProfileCreatedAt\"] = pd.to_datetime(data[\"ProfileCreatedAt\"])\n",
    "data[\"ProfileCollectedAt\"] = pd.to_datetime(data[\"ProfileCollectedAt\"])\n",
    "data[\"AccountAge\"] = (data[\"ProfileCollectedAt\"] - data[\"ProfileCreatedAt\"]).astype('timedelta64[h]')\n",
    "data[\"Flwrs/Flwngs\"] = data[\"NumberOfFollowers\"].divide(data[\"NumberOfFollowings\"], fill_value=True)\n",
    "data[\"Reputation\"] = data[\"NumberOfFollowers\"].divide((data[\"NumberOfFollowers\"] + data[\"NumberOfFollowings\"]), fill_value=True)\n",
    "data[\"FlwngsIncrease\"] = data[\"NumberOfFollowings\"].divide(data[\"AccountAge\"])\n",
    "data[\"TweetsPerDay\"]  = data[\"NumberOfTweets\"].divide((data[\"AccountAge\"] / 24), fill_value=True)\n",
    "data[\"TweetsPerWeek\"]  = data[\"NumberOfTweets\"].divide((data[\"AccountAge\"] / (24 * 7)), fill_value=True)"
   ]
  },
  {
   "cell_type": "code",
   "execution_count": null,
   "metadata": {
    "collapsed": false
   },
   "outputs": [],
   "source": [
    "%%time\n",
    "data[\"NumberOfWords\"] = data[\"Tweet\"].str.count('\\w+')\n",
    "data[\"NumberOfSymbols\"] = data[\"Tweet\"].str.len()\n",
    "data[\"NumberOfSpaces\"] = data[\"Tweet\"].str.count(' ')\n",
    "data[\"NumberOfCl\"] = data[\"Tweet\"].str.count('[A-Z]*')\n",
    "data[\"NumberOfQm\"] = data[\"Tweet\"].str.count('\\?')\n",
    "data[\"NumberOfEm\"] = data[\"Tweet\"].str.count('\\!')\n",
    "data[\"NumberOfURLs\"] = data[\"Tweet\"].str.count('(https://\\S+|http://\\S+)')\n",
    "data[\"NumberOfMentions\"] = data[\"Tweet\"].str.count('(@\\S+)')\n",
    "data[\"NumberOfHashtags\"] = data[\"Tweet\"].str.count('(#\\S+)')\n",
    "#data[\"NumberOfSpamWords\"] = data[\"Tweet\"].str.count('(' + '|'.join(set([x for x in spamwords if all(ord(c) < 128 and c.isalpha() for c in x)])) + ')')"
   ]
  },
  {
   "cell_type": "code",
   "execution_count": null,
   "metadata": {
    "collapsed": false
   },
   "outputs": [],
   "source": [
    "'@ntdesignsMUA Kind of like McFeast. Amazing!!!! Tomato, tasty cheese, lettuce and this incredible sauce.. mmm now I am hungry again!'.count('\\w+')"
   ]
  },
  {
   "cell_type": "code",
   "execution_count": null,
   "metadata": {
    "collapsed": false
   },
   "outputs": [],
   "source": [
    "data"
   ]
  }
 ],
 "metadata": {
  "kernelspec": {
   "display_name": "Python 3",
   "language": "python",
   "name": "python3"
  },
  "language_info": {
   "codemirror_mode": {
    "name": "ipython",
    "version": 3
   },
   "file_extension": ".py",
   "mimetype": "text/x-python",
   "name": "python",
   "nbconvert_exporter": "python",
   "pygments_lexer": "ipython3",
   "version": "3.6.0"
  }
 },
 "nbformat": 4,
 "nbformat_minor": 2
}
